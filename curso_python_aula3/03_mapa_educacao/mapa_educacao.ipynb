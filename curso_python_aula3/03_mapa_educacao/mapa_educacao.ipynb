{
 "cells": [
  {
   "cell_type": "markdown",
   "metadata": {},
   "source": [
    "# Mapa das escolas do RS por taxa de distorção de série"
   ]
  },
  {
   "cell_type": "code",
   "execution_count": 2,
   "metadata": {},
   "outputs": [
    {
     "name": "stdout",
     "output_type": "stream",
     "text": [
      "Collecting folium\n",
      "\u001b[?25l  Downloading https://files.pythonhosted.org/packages/4f/86/1ab30184cb60bc2b95deffe2bd86b8ddbab65a4fac9f7313c278c6e8d049/folium-0.9.1-py2.py3-none-any.whl (91kB)\n",
      "\u001b[K    100% |████████████████████████████████| 92kB 1.4MB/s ta 0:00:011\n",
      "\u001b[?25hRequirement already satisfied: numpy in /home/sergio/anaconda3/lib/python3.7/site-packages (from folium) (1.16.2)\n",
      "Requirement already satisfied: jinja2>=2.9 in /home/sergio/anaconda3/lib/python3.7/site-packages (from folium) (2.10)\n",
      "Collecting branca>=0.3.0 (from folium)\n",
      "  Downloading https://files.pythonhosted.org/packages/63/36/1c93318e9653f4e414a2e0c3b98fc898b4970e939afeedeee6075dd3b703/branca-0.3.1-py3-none-any.whl\n",
      "Requirement already satisfied: requests in /home/sergio/anaconda3/lib/python3.7/site-packages (from folium) (2.21.0)\n",
      "Requirement already satisfied: MarkupSafe>=0.23 in /home/sergio/anaconda3/lib/python3.7/site-packages (from jinja2>=2.9->folium) (1.1.1)\n",
      "Requirement already satisfied: six in /home/sergio/anaconda3/lib/python3.7/site-packages (from branca>=0.3.0->folium) (1.12.0)\n",
      "Requirement already satisfied: certifi>=2017.4.17 in /home/sergio/anaconda3/lib/python3.7/site-packages (from requests->folium) (2019.3.9)\n",
      "Requirement already satisfied: urllib3<1.25,>=1.21.1 in /home/sergio/anaconda3/lib/python3.7/site-packages (from requests->folium) (1.24.1)\n",
      "Requirement already satisfied: idna<2.9,>=2.5 in /home/sergio/anaconda3/lib/python3.7/site-packages (from requests->folium) (2.8)\n",
      "Requirement already satisfied: chardet<3.1.0,>=3.0.2 in /home/sergio/anaconda3/lib/python3.7/site-packages (from requests->folium) (3.0.4)\n",
      "Installing collected packages: branca, folium\n",
      "Successfully installed branca-0.3.1 folium-0.9.1\n"
     ]
    }
   ],
   "source": [
    "!pip install folium"
   ]
  },
  {
   "cell_type": "code",
   "execution_count": 3,
   "metadata": {},
   "outputs": [],
   "source": [
    "# Importando as bibliotecas\n",
    "import pandas as pd\n",
    "%matplotlib inline\n",
    "import folium"
   ]
  },
  {
   "cell_type": "code",
   "execution_count": 4,
   "metadata": {},
   "outputs": [
    {
     "data": {
      "text/html": [
       "<div>\n",
       "<style scoped>\n",
       "    .dataframe tbody tr th:only-of-type {\n",
       "        vertical-align: middle;\n",
       "    }\n",
       "\n",
       "    .dataframe tbody tr th {\n",
       "        vertical-align: top;\n",
       "    }\n",
       "\n",
       "    .dataframe thead th {\n",
       "        text-align: right;\n",
       "    }\n",
       "</style>\n",
       "<table border=\"1\" class=\"dataframe\">\n",
       "  <thead>\n",
       "    <tr style=\"text-align: right;\">\n",
       "      <th></th>\n",
       "      <th>Município</th>\n",
       "      <th>ibge</th>\n",
       "      <th>latitude</th>\n",
       "      <th>longitude</th>\n",
       "      <th>/Educação/Ens...de Série/Total 2013 (-)</th>\n",
       "    </tr>\n",
       "  </thead>\n",
       "  <tbody>\n",
       "    <tr>\n",
       "      <th>0</th>\n",
       "      <td>Aceguá</td>\n",
       "      <td>4300034</td>\n",
       "      <td>-31.86076</td>\n",
       "      <td>-54.16706</td>\n",
       "      <td>25,7</td>\n",
       "    </tr>\n",
       "    <tr>\n",
       "      <th>1</th>\n",
       "      <td>Água Santa</td>\n",
       "      <td>4300059</td>\n",
       "      <td>-28.16720</td>\n",
       "      <td>-52.03100</td>\n",
       "      <td>14,7</td>\n",
       "    </tr>\n",
       "    <tr>\n",
       "      <th>2</th>\n",
       "      <td>Agudo</td>\n",
       "      <td>4300109</td>\n",
       "      <td>-29.64470</td>\n",
       "      <td>-53.25150</td>\n",
       "      <td>26,4</td>\n",
       "    </tr>\n",
       "    <tr>\n",
       "      <th>3</th>\n",
       "      <td>Ajuricaba</td>\n",
       "      <td>4300208</td>\n",
       "      <td>-28.23420</td>\n",
       "      <td>-53.77570</td>\n",
       "      <td>24,1</td>\n",
       "    </tr>\n",
       "    <tr>\n",
       "      <th>4</th>\n",
       "      <td>Alecrim</td>\n",
       "      <td>4300307</td>\n",
       "      <td>-27.65790</td>\n",
       "      <td>-54.76490</td>\n",
       "      <td>18,9</td>\n",
       "    </tr>\n",
       "  </tbody>\n",
       "</table>\n",
       "</div>"
      ],
      "text/plain": [
       "    Município     ibge  latitude  longitude  \\\n",
       "0      Aceguá  4300034 -31.86076  -54.16706   \n",
       "1  Água Santa  4300059 -28.16720  -52.03100   \n",
       "2       Agudo  4300109 -29.64470  -53.25150   \n",
       "3   Ajuricaba  4300208 -28.23420  -53.77570   \n",
       "4     Alecrim  4300307 -27.65790  -54.76490   \n",
       "\n",
       "  /Educação/Ens...de Série/Total 2013 (-)  \n",
       "0                                    25,7  \n",
       "1                                    14,7  \n",
       "2                                    26,4  \n",
       "3                                    24,1  \n",
       "4                                    18,9  "
      ]
     },
     "execution_count": 4,
     "metadata": {},
     "output_type": "execute_result"
    }
   ],
   "source": [
    "# Carregar arquivo csv\n",
    "df = pd.read_csv('fee-2013-mun-taxa-de-distorcao-idade-serie-total-102524.csv', encoding = 'latin1', skiprows=1)\n",
    "\n",
    "df.head()"
   ]
  },
  {
   "cell_type": "code",
   "execution_count": 6,
   "metadata": {},
   "outputs": [
    {
     "data": {
      "text/html": [
       "<div>\n",
       "<style scoped>\n",
       "    .dataframe tbody tr th:only-of-type {\n",
       "        vertical-align: middle;\n",
       "    }\n",
       "\n",
       "    .dataframe tbody tr th {\n",
       "        vertical-align: top;\n",
       "    }\n",
       "\n",
       "    .dataframe thead th {\n",
       "        text-align: right;\n",
       "    }\n",
       "</style>\n",
       "<table border=\"1\" class=\"dataframe\">\n",
       "  <thead>\n",
       "    <tr style=\"text-align: right;\">\n",
       "      <th></th>\n",
       "      <th>Município</th>\n",
       "      <th>ibge</th>\n",
       "      <th>latitude</th>\n",
       "      <th>longitude</th>\n",
       "      <th>tx_distorcao</th>\n",
       "    </tr>\n",
       "  </thead>\n",
       "  <tbody>\n",
       "    <tr>\n",
       "      <th>0</th>\n",
       "      <td>Aceguá</td>\n",
       "      <td>4300034</td>\n",
       "      <td>-31.86076</td>\n",
       "      <td>-54.16706</td>\n",
       "      <td>25,7</td>\n",
       "    </tr>\n",
       "    <tr>\n",
       "      <th>1</th>\n",
       "      <td>Água Santa</td>\n",
       "      <td>4300059</td>\n",
       "      <td>-28.16720</td>\n",
       "      <td>-52.03100</td>\n",
       "      <td>14,7</td>\n",
       "    </tr>\n",
       "    <tr>\n",
       "      <th>2</th>\n",
       "      <td>Agudo</td>\n",
       "      <td>4300109</td>\n",
       "      <td>-29.64470</td>\n",
       "      <td>-53.25150</td>\n",
       "      <td>26,4</td>\n",
       "    </tr>\n",
       "    <tr>\n",
       "      <th>3</th>\n",
       "      <td>Ajuricaba</td>\n",
       "      <td>4300208</td>\n",
       "      <td>-28.23420</td>\n",
       "      <td>-53.77570</td>\n",
       "      <td>24,1</td>\n",
       "    </tr>\n",
       "    <tr>\n",
       "      <th>4</th>\n",
       "      <td>Alecrim</td>\n",
       "      <td>4300307</td>\n",
       "      <td>-27.65790</td>\n",
       "      <td>-54.76490</td>\n",
       "      <td>18,9</td>\n",
       "    </tr>\n",
       "  </tbody>\n",
       "</table>\n",
       "</div>"
      ],
      "text/plain": [
       "    Município     ibge  latitude  longitude tx_distorcao\n",
       "0      Aceguá  4300034 -31.86076  -54.16706         25,7\n",
       "1  Água Santa  4300059 -28.16720  -52.03100         14,7\n",
       "2       Agudo  4300109 -29.64470  -53.25150         26,4\n",
       "3   Ajuricaba  4300208 -28.23420  -53.77570         24,1\n",
       "4     Alecrim  4300307 -27.65790  -54.76490         18,9"
      ]
     },
     "execution_count": 6,
     "metadata": {},
     "output_type": "execute_result"
    }
   ],
   "source": [
    "# Renomeando colunas\n",
    "df.rename(columns={'/Educação/Ens...de Série/Total 2013 (-)':'tx_distorcao'}, inplace=True)\n",
    "\n",
    "df.head()"
   ]
  },
  {
   "cell_type": "code",
   "execution_count": 7,
   "metadata": {},
   "outputs": [
    {
     "name": "stdout",
     "output_type": "stream",
     "text": [
      "<class 'pandas.core.frame.DataFrame'>\n",
      "RangeIndex: 495 entries, 0 to 494\n",
      "Data columns (total 5 columns):\n",
      "Município       495 non-null object\n",
      "ibge            495 non-null int64\n",
      "latitude        495 non-null float64\n",
      "longitude       495 non-null float64\n",
      "tx_distorcao    495 non-null object\n",
      "dtypes: float64(2), int64(1), object(2)\n",
      "memory usage: 19.4+ KB\n"
     ]
    }
   ],
   "source": [
    "# Verificando o DataFrame\n",
    "df.info()"
   ]
  },
  {
   "cell_type": "code",
   "execution_count": 8,
   "metadata": {},
   "outputs": [
    {
     "data": {
      "text/html": [
       "<div>\n",
       "<style scoped>\n",
       "    .dataframe tbody tr th:only-of-type {\n",
       "        vertical-align: middle;\n",
       "    }\n",
       "\n",
       "    .dataframe tbody tr th {\n",
       "        vertical-align: top;\n",
       "    }\n",
       "\n",
       "    .dataframe thead th {\n",
       "        text-align: right;\n",
       "    }\n",
       "</style>\n",
       "<table border=\"1\" class=\"dataframe\">\n",
       "  <thead>\n",
       "    <tr style=\"text-align: right;\">\n",
       "      <th></th>\n",
       "      <th>Município</th>\n",
       "      <th>ibge</th>\n",
       "      <th>latitude</th>\n",
       "      <th>longitude</th>\n",
       "      <th>tx_distorcao</th>\n",
       "    </tr>\n",
       "  </thead>\n",
       "  <tbody>\n",
       "    <tr>\n",
       "      <th>0</th>\n",
       "      <td>Aceguá</td>\n",
       "      <td>4300034</td>\n",
       "      <td>-31.86076</td>\n",
       "      <td>-54.16706</td>\n",
       "      <td>25.7</td>\n",
       "    </tr>\n",
       "    <tr>\n",
       "      <th>1</th>\n",
       "      <td>Água Santa</td>\n",
       "      <td>4300059</td>\n",
       "      <td>-28.16720</td>\n",
       "      <td>-52.03100</td>\n",
       "      <td>14.7</td>\n",
       "    </tr>\n",
       "    <tr>\n",
       "      <th>2</th>\n",
       "      <td>Agudo</td>\n",
       "      <td>4300109</td>\n",
       "      <td>-29.64470</td>\n",
       "      <td>-53.25150</td>\n",
       "      <td>26.4</td>\n",
       "    </tr>\n",
       "    <tr>\n",
       "      <th>3</th>\n",
       "      <td>Ajuricaba</td>\n",
       "      <td>4300208</td>\n",
       "      <td>-28.23420</td>\n",
       "      <td>-53.77570</td>\n",
       "      <td>24.1</td>\n",
       "    </tr>\n",
       "    <tr>\n",
       "      <th>4</th>\n",
       "      <td>Alecrim</td>\n",
       "      <td>4300307</td>\n",
       "      <td>-27.65790</td>\n",
       "      <td>-54.76490</td>\n",
       "      <td>18.9</td>\n",
       "    </tr>\n",
       "  </tbody>\n",
       "</table>\n",
       "</div>"
      ],
      "text/plain": [
       "    Município     ibge  latitude  longitude tx_distorcao\n",
       "0      Aceguá  4300034 -31.86076  -54.16706         25.7\n",
       "1  Água Santa  4300059 -28.16720  -52.03100         14.7\n",
       "2       Agudo  4300109 -29.64470  -53.25150         26.4\n",
       "3   Ajuricaba  4300208 -28.23420  -53.77570         24.1\n",
       "4     Alecrim  4300307 -27.65790  -54.76490         18.9"
      ]
     },
     "execution_count": 8,
     "metadata": {},
     "output_type": "execute_result"
    }
   ],
   "source": [
    "# Converter tx_distorcao para float\n",
    "\n",
    "# Primeiro troca virgula por ponto\n",
    "df['tx_distorcao'] = df['tx_distorcao'].str.replace(',', '.')\n",
    "\n",
    "df.head()"
   ]
  },
  {
   "cell_type": "code",
   "execution_count": 10,
   "metadata": {},
   "outputs": [
    {
     "name": "stdout",
     "output_type": "stream",
     "text": [
      "<class 'pandas.core.frame.DataFrame'>\n",
      "RangeIndex: 495 entries, 0 to 494\n",
      "Data columns (total 5 columns):\n",
      "Município       495 non-null object\n",
      "ibge            495 non-null int64\n",
      "latitude        495 non-null float64\n",
      "longitude       495 non-null float64\n",
      "tx_distorcao    495 non-null float64\n",
      "dtypes: float64(3), int64(1), object(1)\n",
      "memory usage: 19.4+ KB\n"
     ]
    }
   ],
   "source": [
    "# Converter \n",
    "df['tx_distorcao'] = df['tx_distorcao'].astype(float)\n",
    "\n",
    "df.info()"
   ]
  },
  {
   "cell_type": "code",
   "execution_count": 12,
   "metadata": {},
   "outputs": [
    {
     "data": {
      "text/html": [
       "<div>\n",
       "<style scoped>\n",
       "    .dataframe tbody tr th:only-of-type {\n",
       "        vertical-align: middle;\n",
       "    }\n",
       "\n",
       "    .dataframe tbody tr th {\n",
       "        vertical-align: top;\n",
       "    }\n",
       "\n",
       "    .dataframe thead th {\n",
       "        text-align: right;\n",
       "    }\n",
       "</style>\n",
       "<table border=\"1\" class=\"dataframe\">\n",
       "  <thead>\n",
       "    <tr style=\"text-align: right;\">\n",
       "      <th></th>\n",
       "      <th>Município</th>\n",
       "      <th>ibge</th>\n",
       "      <th>latitude</th>\n",
       "      <th>longitude</th>\n",
       "      <th>tx_distorcao</th>\n",
       "    </tr>\n",
       "  </thead>\n",
       "  <tbody>\n",
       "    <tr>\n",
       "      <th>490</th>\n",
       "      <td>Vista Alegre do Prata</td>\n",
       "      <td>4323606</td>\n",
       "      <td>-28.8052</td>\n",
       "      <td>-51.7946</td>\n",
       "      <td>2.6</td>\n",
       "    </tr>\n",
       "    <tr>\n",
       "      <th>375</th>\n",
       "      <td>Santo Antônio do Palma</td>\n",
       "      <td>4317558</td>\n",
       "      <td>-28.4956</td>\n",
       "      <td>-52.0267</td>\n",
       "      <td>4.3</td>\n",
       "    </tr>\n",
       "    <tr>\n",
       "      <th>28</th>\n",
       "      <td>Áurea</td>\n",
       "      <td>4301552</td>\n",
       "      <td>-27.6936</td>\n",
       "      <td>-52.0505</td>\n",
       "      <td>5.8</td>\n",
       "    </tr>\n",
       "    <tr>\n",
       "      <th>268</th>\n",
       "      <td>Nicolau Vergueiro</td>\n",
       "      <td>4312674</td>\n",
       "      <td>-28.5298</td>\n",
       "      <td>-52.4676</td>\n",
       "      <td>7.0</td>\n",
       "    </tr>\n",
       "    <tr>\n",
       "      <th>128</th>\n",
       "      <td>Derrubadas</td>\n",
       "      <td>4306320</td>\n",
       "      <td>-27.2642</td>\n",
       "      <td>-53.8645</td>\n",
       "      <td>7.4</td>\n",
       "    </tr>\n",
       "    <tr>\n",
       "      <th>119</th>\n",
       "      <td>Cotiporã</td>\n",
       "      <td>4305959</td>\n",
       "      <td>-28.9891</td>\n",
       "      <td>-51.6971</td>\n",
       "      <td>7.5</td>\n",
       "    </tr>\n",
       "    <tr>\n",
       "      <th>68</th>\n",
       "      <td>Campestre da Serra</td>\n",
       "      <td>4303673</td>\n",
       "      <td>-28.7926</td>\n",
       "      <td>-51.0941</td>\n",
       "      <td>7.6</td>\n",
       "    </tr>\n",
       "    <tr>\n",
       "      <th>476</th>\n",
       "      <td>Vanini</td>\n",
       "      <td>4322558</td>\n",
       "      <td>-28.4758</td>\n",
       "      <td>-51.8447</td>\n",
       "      <td>7.8</td>\n",
       "    </tr>\n",
       "    <tr>\n",
       "      <th>236</th>\n",
       "      <td>Linha Nova</td>\n",
       "      <td>4311643</td>\n",
       "      <td>-29.4679</td>\n",
       "      <td>-51.2003</td>\n",
       "      <td>8.0</td>\n",
       "    </tr>\n",
       "    <tr>\n",
       "      <th>392</th>\n",
       "      <td>São José do Inhacorá</td>\n",
       "      <td>4318499</td>\n",
       "      <td>-27.7251</td>\n",
       "      <td>-54.1275</td>\n",
       "      <td>8.0</td>\n",
       "    </tr>\n",
       "  </tbody>\n",
       "</table>\n",
       "</div>"
      ],
      "text/plain": [
       "                  Município     ibge  latitude  longitude  tx_distorcao\n",
       "490   Vista Alegre do Prata  4323606  -28.8052   -51.7946           2.6\n",
       "375  Santo Antônio do Palma  4317558  -28.4956   -52.0267           4.3\n",
       "28                    Áurea  4301552  -27.6936   -52.0505           5.8\n",
       "268       Nicolau Vergueiro  4312674  -28.5298   -52.4676           7.0\n",
       "128              Derrubadas  4306320  -27.2642   -53.8645           7.4\n",
       "119                Cotiporã  4305959  -28.9891   -51.6971           7.5\n",
       "68       Campestre da Serra  4303673  -28.7926   -51.0941           7.6\n",
       "476                  Vanini  4322558  -28.4758   -51.8447           7.8\n",
       "236              Linha Nova  4311643  -29.4679   -51.2003           8.0\n",
       "392    São José do Inhacorá  4318499  -27.7251   -54.1275           8.0"
      ]
     },
     "execution_count": 12,
     "metadata": {},
     "output_type": "execute_result"
    }
   ],
   "source": [
    "# 10 municipios com menores tx de distorção\n",
    "df.nsmallest(10, 'tx_distorcao')"
   ]
  },
  {
   "cell_type": "code",
   "execution_count": 13,
   "metadata": {},
   "outputs": [
    {
     "data": {
      "text/html": [
       "<div>\n",
       "<style scoped>\n",
       "    .dataframe tbody tr th:only-of-type {\n",
       "        vertical-align: middle;\n",
       "    }\n",
       "\n",
       "    .dataframe tbody tr th {\n",
       "        vertical-align: top;\n",
       "    }\n",
       "\n",
       "    .dataframe thead th {\n",
       "        text-align: right;\n",
       "    }\n",
       "</style>\n",
       "<table border=\"1\" class=\"dataframe\">\n",
       "  <thead>\n",
       "    <tr style=\"text-align: right;\">\n",
       "      <th></th>\n",
       "      <th>Município</th>\n",
       "      <th>ibge</th>\n",
       "      <th>latitude</th>\n",
       "      <th>longitude</th>\n",
       "      <th>tx_distorcao</th>\n",
       "    </tr>\n",
       "  </thead>\n",
       "  <tbody>\n",
       "    <tr>\n",
       "      <th>307</th>\n",
       "      <td>Pedras Altas</td>\n",
       "      <td>4314175</td>\n",
       "      <td>-31.7217</td>\n",
       "      <td>-53.5838</td>\n",
       "      <td>56.0</td>\n",
       "    </tr>\n",
       "    <tr>\n",
       "      <th>316</th>\n",
       "      <td>Pinheiro Machado</td>\n",
       "      <td>4314506</td>\n",
       "      <td>-31.5794</td>\n",
       "      <td>-53.3798</td>\n",
       "      <td>53.9</td>\n",
       "    </tr>\n",
       "    <tr>\n",
       "      <th>17</th>\n",
       "      <td>Arambaré</td>\n",
       "      <td>4300851</td>\n",
       "      <td>-30.9093</td>\n",
       "      <td>-51.5046</td>\n",
       "      <td>52.8</td>\n",
       "    </tr>\n",
       "    <tr>\n",
       "      <th>140</th>\n",
       "      <td>Eldorado do Sul</td>\n",
       "      <td>4306767</td>\n",
       "      <td>-30.0847</td>\n",
       "      <td>-51.6187</td>\n",
       "      <td>51.9</td>\n",
       "    </tr>\n",
       "    <tr>\n",
       "      <th>35</th>\n",
       "      <td>Barra do Quaraí</td>\n",
       "      <td>4301875</td>\n",
       "      <td>-30.2029</td>\n",
       "      <td>-57.5497</td>\n",
       "      <td>51.5</td>\n",
       "    </tr>\n",
       "    <tr>\n",
       "      <th>393</th>\n",
       "      <td>São José do Norte</td>\n",
       "      <td>4318507</td>\n",
       "      <td>-32.0151</td>\n",
       "      <td>-52.0331</td>\n",
       "      <td>49.4</td>\n",
       "    </tr>\n",
       "    <tr>\n",
       "      <th>413</th>\n",
       "      <td>São Valério do Sul</td>\n",
       "      <td>4319737</td>\n",
       "      <td>-27.7906</td>\n",
       "      <td>-53.9368</td>\n",
       "      <td>49.2</td>\n",
       "    </tr>\n",
       "    <tr>\n",
       "      <th>193</th>\n",
       "      <td>Hulha Negra</td>\n",
       "      <td>4309654</td>\n",
       "      <td>-31.4067</td>\n",
       "      <td>-53.8667</td>\n",
       "      <td>49.0</td>\n",
       "    </tr>\n",
       "    <tr>\n",
       "      <th>106</th>\n",
       "      <td>Chuí</td>\n",
       "      <td>4305439</td>\n",
       "      <td>-33.6866</td>\n",
       "      <td>-53.4594</td>\n",
       "      <td>48.6</td>\n",
       "    </tr>\n",
       "    <tr>\n",
       "      <th>233</th>\n",
       "      <td>Lavras do Sul</td>\n",
       "      <td>4311502</td>\n",
       "      <td>-30.8071</td>\n",
       "      <td>-53.8931</td>\n",
       "      <td>47.7</td>\n",
       "    </tr>\n",
       "  </tbody>\n",
       "</table>\n",
       "</div>"
      ],
      "text/plain": [
       "              Município     ibge  latitude  longitude  tx_distorcao\n",
       "307        Pedras Altas  4314175  -31.7217   -53.5838          56.0\n",
       "316    Pinheiro Machado  4314506  -31.5794   -53.3798          53.9\n",
       "17             Arambaré  4300851  -30.9093   -51.5046          52.8\n",
       "140     Eldorado do Sul  4306767  -30.0847   -51.6187          51.9\n",
       "35      Barra do Quaraí  4301875  -30.2029   -57.5497          51.5\n",
       "393   São José do Norte  4318507  -32.0151   -52.0331          49.4\n",
       "413  São Valério do Sul  4319737  -27.7906   -53.9368          49.2\n",
       "193         Hulha Negra  4309654  -31.4067   -53.8667          49.0\n",
       "106                Chuí  4305439  -33.6866   -53.4594          48.6\n",
       "233       Lavras do Sul  4311502  -30.8071   -53.8931          47.7"
      ]
     },
     "execution_count": 13,
     "metadata": {},
     "output_type": "execute_result"
    }
   ],
   "source": [
    "# 10 municipios com maiores tx de distorção\n",
    "df.nlargest(10, 'tx_distorcao')"
   ]
  },
  {
   "cell_type": "code",
   "execution_count": 15,
   "metadata": {},
   "outputs": [
    {
     "data": {
      "text/plain": [
       "<matplotlib.axes._subplots.AxesSubplot at 0x7f92d6fe70f0>"
      ]
     },
     "execution_count": 15,
     "metadata": {},
     "output_type": "execute_result"
    },
    {
     "data": {
      "image/png": "[encoded data removed]",
      "text/plain": [
       "<Figure size 432x288 with 1 Axes>"
      ]
     },
     "metadata": {
      "needs_background": "light"
     },
     "output_type": "display_data"
    }
   ],
   "source": [
    "# Plotar o histograma da tx de distorção \n",
    "df['tx_distorcao'].plot.hist(bins=100)"
   ]
  },
  {
   "cell_type": "code",
   "execution_count": 16,
   "metadata": {},
   "outputs": [
    {
     "data": {
      "text/plain": [
       "Município       17\n",
       "ibge            17\n",
       "latitude        17\n",
       "longitude       17\n",
       "tx_distorcao    17\n",
       "dtype: int64"
      ]
     },
     "execution_count": 16,
     "metadata": {},
     "output_type": "execute_result"
    }
   ],
   "source": [
    "# Quantidade de municipios com tx de distorção menor igual a 10\n",
    "df[df['tx_distorcao'] <= 10].count()"
   ]
  },
  {
   "cell_type": "code",
   "execution_count": 17,
   "metadata": {},
   "outputs": [
    {
     "data": {
      "text/plain": [
       "Município       17\n",
       "ibge            17\n",
       "latitude        17\n",
       "longitude       17\n",
       "tx_distorcao    17\n",
       "dtype: int64"
      ]
     },
     "execution_count": 17,
     "metadata": {},
     "output_type": "execute_result"
    }
   ],
   "source": [
    "# Quantidade de municipios com tx de distorção maior igual a 40\n",
    "df[df['tx_distorcao'] >= 45].count()"
   ]
  },
  {
   "cell_type": "code",
   "execution_count": 20,
   "metadata": {},
   "outputs": [
    {
     "data": {
      "text/html": [
       "<div style=\"width:100%;\"><div style=\"position:relative;width:100%;height:0;padding-bottom:60%;\"><iframe src=\"data:text/html;charset=utf-8;base64,PCFET0NUWVBFIGh0bWw+CjxoZWFkPiAgICAKICAgIDxtZXRhIGh0dHAtZXF1aXY9ImNvbnRlbnQtdHlwZSIgY29udGVudD0idGV4dC9odG1sOyBjaGFyc2V0PVVURi04IiAvPgogICAgCiAgICAgICAgPHNjcmlwdD4KICAgICAgICAgICAgTF9OT19UT1VDSCA9IGZhbHNlOwogICAgICAgICAgICBMX0RJU0FCTEVfM0QgPSBmYWxzZTsKICAgICAgICA8L3NjcmlwdD4KICAgIAogICAgPHNjcmlwdCBzcmM9Imh0dHBzOi8vY2RuLmpzZGVsaXZyLm5ldC9ucG0vbGVhZmxldEAxLjQuMC9kaXN0L2xlYWZsZXQuanMiPjwvc2NyaXB0PgogICAgPHNjcmlwdCBzcmM9Imh0dHBzOi8vY29kZS5qcXVlcnkuY29tL2pxdWVyeS0xLjEyLjQubWluLmpzIj48L3NjcmlwdD4KICAgIDxzY3JpcHQgc3JjPSJodHRwczovL21heGNkbi5ib290c3RyYXBjZG4uY29tL2Jvb3RzdHJhcC8zLjIuMC9qcy9ib290c3RyYXAubWluLmpzIj48L3NjcmlwdD4KICAgIDxzY3JpcHQgc3JjPSJodHRwczovL2NkbmpzLmNsb3VkZmxhcmUuY29tL2FqYXgvbGlicy9MZWFmbGV0LmF3ZXNvbWUtbWFya2Vycy8yLjAuMi9sZWFmbGV0LmF3ZXNvbWUtbWFya2Vycy5qcyI+PC9zY3JpcHQ+CiAgICA8bGluayByZWw9InN0eWxlc2hlZXQiIGhyZWY9Imh0dHBzOi8vY2RuLmpzZGVsaXZyLm5ldC9ucG0vbGVhZmxldEAxLjQuMC9kaXN0L2xlYWZsZXQuY3NzIi8+CiAgICA8bGluayByZWw9InN0eWxlc2hlZXQiIGhyZWY9Imh0dHBzOi8vbWF4Y2RuLmJvb3RzdHJhcGNkbi5jb20vYm9vdHN0cmFwLzMuMi4wL2Nzcy9ib290c3RyYXAubWluLmNzcyIvPgogICAgPGxpbmsgcmVsPSJzdHlsZXNoZWV0IiBocmVmPSJodHRwczovL21heGNkbi5ib290c3RyYXBjZG4uY29tL2Jvb3RzdHJhcC8zLjIuMC9jc3MvYm9vdHN0cmFwLXRoZW1lLm1pbi5jc3MiLz4KICAgIDxsaW5rIHJlbD0ic3R5bGVzaGVldCIgaHJlZj0iaHR0cHM6Ly9tYXhjZG4uYm9vdHN0cmFwY2RuLmNvbS9mb250LWF3ZXNvbWUvNC42LjMvY3NzL2ZvbnQtYXdlc29tZS5taW4uY3NzIi8+CiAgICA8bGluayByZWw9InN0eWxlc2hlZXQiIGhyZWY9Imh0dHBzOi8vY2RuanMuY2xvdWRmbGFyZS5jb20vYWpheC9saWJzL0xlYWZsZXQuYXdlc29tZS1tYXJrZXJzLzIuMC4yL2xlYWZsZXQuYXdlc29tZS1tYXJrZXJzLmNzcyIvPgogICAgPGxpbmsgcmVsPSJzdHlsZXNoZWV0IiBocmVmPSJodHRwczovL3Jhd2Nkbi5naXRoYWNrLmNvbS9weXRob24tdmlzdWFsaXphdGlvbi9mb2xpdW0vbWFzdGVyL2ZvbGl1bS90ZW1wbGF0ZXMvbGVhZmxldC5hd2Vzb21lLnJvdGF0ZS5jc3MiLz4KICAgIDxzdHlsZT5odG1sLCBib2R5IHt3aWR0aDogMTAwJTtoZWlnaHQ6IDEwMCU7bWFyZ2luOiAwO3BhZGRpbmc6IDA7fTwvc3R5bGU+CiAgICA8c3R5bGU+I21hcCB7cG9zaXRpb246YWJzb2x1dGU7dG9wOjA7Ym90dG9tOjA7cmlnaHQ6MDtsZWZ0OjA7fTwvc3R5bGU+CiAgICAKICAgICAgICAgICAgPG1ldGEgbmFtZT0idmlld3BvcnQiIGNvbnRlbnQ9IndpZHRoPWRldmljZS13aWR0aCwKICAgICAgICAgICAgICAgIGluaXRpYWwtc2NhbGU9MS4wLCBtYXhpbXVtLXNjYWxlPTEuMCwgdXNlci1zY2FsYWJsZT1ubyIgLz4KICAgICAgICAgICAgPHN0eWxlPgogICAgICAgICAgICAgICAgI21hcF80OWZlZTYwMTI1ODM0MjAzYjkwMTVlNDA0NDZhN2E2NiB7CiAgICAgICAgICAgICAgICAgICAgcG9zaXRpb246IHJlbGF0aXZlOwogICAgICAgICAgICAgICAgICAgIHdpZHRoOiAxMDAuMCU7CiAgICAgICAgICAgICAgICAgICAgaGVpZ2h0OiAxMDAuMCU7CiAgICAgICAgICAgICAgICAgICAgbGVmdDogMC4wJTsKICAgICAgICAgICAgICAgICAgICB0b3A6IDAuMCU7CiAgICAgICAgICAgICAgICB9CiAgICAgICAgICAgIDwvc3R5bGU+CiAgICAgICAgCjwvaGVhZD4KPGJvZHk+ICAgIAogICAgCiAgICAgICAgICAgIDxkaXYgY2xhc3M9ImZvbGl1bS1tYXAiIGlkPSJtYXBfNDlmZWU2MDEyNTgzNDIwM2I5MDE1ZTQwNDQ2YTdhNjYiID48L2Rpdj4KICAgICAgICAKPC9ib2R5Pgo8c2NyaXB0PiAgICAKICAgIAogICAgICAgICAgICB2YXIgbWFwXzQ5ZmVlNjAxMjU4MzQyMDNiOTAxNWU0MDQ0NmE3YTY2ID0gTC5tYXAoCiAgICAgICAgICAgICAgICAibWFwXzQ5ZmVlNjAxMjU4MzQyMDNiOTAxNWU0MDQ0NmE3YTY2IiwKICAgICAgICAgICAgICAgIHsKICAgICAgICAgICAgICAgICAgICBjZW50ZXI6IFstMTMuNjYzMzgxOSwgLTY5LjYzOTE2MjldLAogICAgICAgICAgICAgICAgICAgIGNyczogTC5DUlMuRVBTRzM4NTcsCiAgICAgICAgICAgICAgICAgICAgem9vbTogNCwKICAgICAgICAgICAgICAgICAgICB6b29tQ29udHJvbDogdHJ1ZSwKICAgICAgICAgICAgICAgICAgICBwcmVmZXJDYW52YXM6IGZhbHNlLAogICAgICAgICAgICAgICAgfQogICAgICAgICAgICApOwoKICAgICAgICAgICAgCgogICAgICAgIAogICAgCiAgICAgICAgICAgIHZhciB0aWxlX2xheWVyXzMxODI0ZTJkMjNmYjRkMDhiOWYyN2Y2ZTJmOTUyZmE4ID0gTC50aWxlTGF5ZXIoCiAgICAgICAgICAgICAgICAiaHR0cHM6Ly97c30udGlsZS5vcGVuc3RyZWV0bWFwLm9yZy97en0ve3h9L3t5fS5wbmciLAogICAgICAgICAgICAgICAgeyJhdHRyaWJ1dGlvbiI6ICJEYXRhIGJ5IFx1MDAyNmNvcHk7IFx1MDAzY2EgaHJlZj1cImh0dHA6Ly9vcGVuc3RyZWV0bWFwLm9yZ1wiXHUwMDNlT3BlblN0cmVldE1hcFx1MDAzYy9hXHUwMDNlLCB1bmRlciBcdTAwM2NhIGhyZWY9XCJodHRwOi8vd3d3Lm9wZW5zdHJlZXRtYXAub3JnL2NvcHlyaWdodFwiXHUwMDNlT0RiTFx1MDAzYy9hXHUwMDNlLiIsICJkZXRlY3RSZXRpbmEiOiBmYWxzZSwgIm1heE5hdGl2ZVpvb20iOiAxOCwgIm1heFpvb20iOiAxOCwgIm1pblpvb20iOiAwLCAibm9XcmFwIjogZmFsc2UsICJvcGFjaXR5IjogMSwgInN1YmRvbWFpbnMiOiAiYWJjIiwgInRtcyI6IGZhbHNlfQogICAgICAgICAgICApLmFkZFRvKG1hcF80OWZlZTYwMTI1ODM0MjAzYjkwMTVlNDA0NDZhN2E2Nik7CiAgICAgICAgCjwvc2NyaXB0Pg==\" style=\"position:absolute;width:100%;height:100%;left:0;top:0;border:none !important;\" allowfullscreen webkitallowfullscreen mozallowfullscreen></iframe></div></div>"
      ],
      "text/plain": [
       "<folium.folium.Map at 0x7f92d6572908>"
      ]
     },
     "execution_count": 20,
     "metadata": {},
     "output_type": "execute_result"
    }
   ],
   "source": [
    "# Ver como o Folium funciona\n",
    "\n",
    "# Criar mapa em base de uma coordenada central\n",
    "brasil = folium.Map(\n",
    "    location = [-13.6633819, -69.6391629], # coordenadas do Google Maps\n",
    "    zoom_start=4\n",
    ")\n",
    "\n",
    "# Exibindo o mapa\n",
    "brasil"
   ]
  },
  {
   "cell_type": "code",
   "execution_count": 24,
   "metadata": {},
   "outputs": [
    {
     "data": {
      "text/html": [
       "<div style=\"width:100%;\"><div style=\"position:relative;width:100%;height:0;padding-bottom:60%;\"><iframe src=\"data:text/html;charset=utf-8;base64,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\" style=\"position:absolute;width:100%;height:100%;left:0;top:0;border:none !important;\" allowfullscreen webkitallowfullscreen mozallowfullscreen></iframe></div></div>"
      ],
      "text/plain": [
       "<folium.folium.Map at 0x7f92d65eaf28>"
      ]
     },
     "execution_count": 24,
     "metadata": {},
     "output_type": "execute_result"
    }
   ],
   "source": [
    "# Criar o mapa do RS \n",
    "rs = folium.Map(\n",
    "    #location=[-30.391881, -55.9129533],\n",
    "    location=[-30.5, -52],\n",
    "    zoom_start=6\n",
    ")\n",
    "rs"
   ]
  },
  {
   "cell_type": "code",
   "execution_count": 26,
   "metadata": {},
   "outputs": [
    {
     "data": {
      "text/html": [
       "<div style=\"width:100%;\"><div style=\"position:relative;width:100%;height:0;padding-bottom:60%;\"><iframe src=\"data:text/html;charset=utf-8;base64,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\" style=\"position:absolute;width:100%;height:100%;left:0;top:0;border:none !important;\" allowfullscreen webkitallowfullscreen mozallowfullscreen></iframe></div></div>"
      ],
      "text/plain": [
       "<folium.folium.Map at 0x7f92d65eaf28>"
      ]
     },
     "execution_count": 26,
     "metadata": {},
     "output_type": "execute_result"
    }
   ],
   "source": [
    "# Percorrer o DataFrame com base nas melhores escolas (tx_distorcao <= 10)\n",
    "# e desenhar um marcador para cada escola\n",
    "# usando for e iterrows\n",
    "\n",
    "for indice, municipio in df[df['tx_distorcao'] <= 10].iterrows():\n",
    "    folium.Marker(\n",
    "        location=[municipio['latitude'], municipio['longitude']],\n",
    "        popup=municipio['Município'],\n",
    "        icon=folium.map.Icon(color='green')\n",
    "    ).add_to(rs)\n",
    "\n",
    "rs"
   ]
  },
  {
   "cell_type": "code",
   "execution_count": 27,
   "metadata": {},
   "outputs": [
    {
     "data": {
      "text/html": [
       "<div style=\"width:100%;\"><div style=\"position:relative;width:100%;height:0;padding-bottom:60%;\"><iframe src=\"data:text/html;charset=utf-8;base64,PCFET0NUWVBFIGh0bWw+CjxoZWFkPiAgICAKICAgIDxtZXRhIGh0dHAtZXF1aXY9ImNvbnRlbnQtdHlwZSIgY29udGVudD0idGV4dC9odG1sOyBjaGFyc2V0PVVURi04IiAvPgogICAgCiAgICAgICAgPHNjcmlwdD4KICAgICAgICAgICAgTF9OT19UT1VDSCA9IGZhbHNlOwogICAgICAgICAgICBMX0RJU0FCTEVfM0QgPSBmYWxzZTsKICAgICAgICA8L3NjcmlwdD4KICAgIAogICAgPHNjcmlwdCBzcmM9Imh0dHBzOi8vY2RuLmpzZGVsaXZyLm5ldC9ucG0vbGVhZmxldEAxLjQuMC9kaXN0L2xlYWZsZXQuanMiPjwvc2NyaXB0PgogICAgPHNjcmlwdCBzcmM9Imh0dHBzOi8vY29kZS5qcXVlcnkuY29tL2pxdWVyeS0xLjEyLjQubWluLmpzIj48L3NjcmlwdD4KICAgIDxzY3JpcHQgc3JjPSJodHRwczovL21heGNkbi5ib290c3RyYXBjZG4uY29tL2Jvb3RzdHJhcC8zLjIuMC9qcy9ib290c3RyYXAubWluLmpzIj48L3NjcmlwdD4KICAgIDxzY3JpcHQgc3JjPSJodHRwczovL2NkbmpzLmNsb3VkZmxhcmUuY29tL2FqYXgvbGlicy9MZWFmbGV0LmF3ZXNvbWUtbWFya2Vycy8yLjAuMi9sZWFmbGV0LmF3ZXNvbWUtbWFya2Vycy5qcyI+PC9zY3JpcHQ+CiAgICA8bGluayByZWw9InN0eWxlc2hlZXQiIGhyZWY9Imh0dHBzOi8vY2RuLmpzZGVsaXZyLm5ldC9ucG0vbGVhZmxldEAxLjQuMC9kaXN0L2xlYWZsZXQuY3NzIi8+CiAgICA8bGluayByZWw9InN0eWxlc2hlZXQiIGhyZWY9Imh0dHBzOi8vbWF4Y2RuLmJvb3RzdHJhcGNkbi5jb20vYm9vdHN0cmFwLzMuMi4wL2Nzcy9ib290c3RyYXAubWluLmNzcyIvPgogICAgPGxpbmsgcmVsPSJzdHlsZXNoZWV0IiBocmVmPSJodHRwczovL21heGNkbi5ib290c3RyYXBjZG4uY29tL2Jvb3RzdHJhcC8zLjIuMC9jc3MvYm9vdHN0cmFwLXRoZW1lLm1pbi5jc3MiLz4KICAgIDxsaW5rIHJlbD0ic3R5bGVzaGVldCIgaHJlZj0iaHR0cHM6Ly9tYXhjZG4uYm9vdHN0cmFwY2RuLmNvbS9mb250LWF3ZXNvbWUvNC42LjMvY3NzL2ZvbnQtYXdlc29tZS5taW4uY3NzIi8+CiAgICA8bGluayByZWw9InN0eWxlc2hlZXQiIGhyZWY9Imh0dHBzOi8vY2RuanMuY2xvdWRmbGFyZS5jb20vYWpheC9saWJzL0xlYWZsZXQuYXdlc29tZS1tYXJrZXJzLzIuMC4yL2xlYWZsZXQuYXdlc29tZS1tYXJrZXJzLmNzcyIvPgogICAgPGxpbmsgcmVsPSJzdHlsZXNoZWV0IiBocmVmPSJodHRwczovL3Jhd2Nkbi5naXRoYWNrLmNvbS9weXRob24tdmlzdWFsaXphdGlvbi9mb2xpdW0vbWFzdGVyL2ZvbGl1bS90ZW1wbGF0ZXMvbGVhZmxldC5hd2Vzb21lLnJvdGF0ZS5jc3MiLz4KICAgIDxzdHlsZT5odG1sLCBib2R5IHt3aWR0aDogMTAwJTtoZWlnaHQ6IDEwMCU7bWFyZ2luOiAwO3BhZGRpbmc6IDA7fTwvc3R5bGU+CiAgICA8c3R5bGU+I21hcCB7cG9zaXRpb246YWJzb2x1dGU7dG9wOjA7Ym90dG9tOjA7cmlnaHQ6MDtsZWZ0OjA7fTwvc3R5bGU+CiAgICAKICAgICAgICAgICAgPG1ldGEgbmFtZT0idmlld3BvcnQiIGNvbnRlbnQ9IndpZHRoPWRldmljZS13aWR0aCwKICAgICAgICAgICAgICAgIGluaXRpYWwtc2NhbGU9MS4wLCBtYXhpbXVtLXNjYWxlPTEuMCwgdXNlci1zY2FsYWJsZT1ubyIgLz4KICAgICAgICAgICAgPHN0eWxlPgogICAgICAgICAgICAgICAgI21hcF9iMDZjMzE5Y2ZlMzc0MmJiYjFiZTBiMTY5ODQ4NjJjNyB7CiAgICAgICAgICAgICAgICAgICAgcG9zaXRpb246IHJlbGF0aXZlOwogICAgICAgICAgICAgICAgICAgIHdpZHRoOiAxMDAuMCU7CiAgICAgICAgICAgICAgICAgICAgaGVpZ2h0OiAxMDAuMCU7CiAgICAgICAgICAgICAgICAgICAgbGVmdDogMC4wJTsKICAgICAgICAgICAgICAgICAgICB0b3A6IDAuMCU7CiAgICAgICAgICAgICAgICB9CiAgICAgICAgICAgIDwvc3R5bGU+CiAgICAgICAgCjwvaGVhZD4KPGJvZHk+ICAgIAogICAgCiAgICAgICAgICAgIDxkaXYgY2xhc3M9ImZvbGl1bS1tYXAiIGlkPSJtYXBfYjA2YzMxOWNmZTM3NDJiYmIxYmUwYjE2OTg0ODYyYzciID48L2Rpdj4KICAgICAgICAKPC9ib2R5Pgo8c2NyaXB0PiAgICAKICAgIAogICAgICAgICAgICB2YXIgbWFwX2IwNmMzMTljZmUzNzQyYmJiMWJlMGIxNjk4NDg2MmM3ID0gTC5tYXAoCiAgICAgICAgICAgICAgICAibWFwX2IwNmMzMTljZmUzNzQyYmJiMWJlMGIxNjk4NDg2MmM3IiwKICAgICAgICAgICAgICAgIHsKICAgICAgICAgICAgICAgICAgICBjZW50ZXI6IFstMzAuNSwgLTUyLjBdLAogICAgICAgICAgICAgICAgICAgIGNyczogTC5DUlMuRVBTRzM4NTcsCiAgICAgICAgICAgICAgICAgICAgem9vbTogNiwKICAgICAgICAgICAgICAgICAgICB6b29tQ29udHJvbDogdHJ1ZSwKICAgICAgICAgICAgICAgICAgICBwcmVmZXJDYW52YXM6IGZhbHNlLAogICAgICAgICAgICAgICAgfQogICAgICAgICAgICApOwoKICAgICAgICAgICAgCgogICAgICAgIAogICAgCiAgICAgICAgICAgIHZhciB0aWxlX2xheWVyXzI4NTgwOTdlMjlhMDRmZTE4NWZmY2VlM2EwNGQxOTQyID0gTC50aWxlTGF5ZXIoCiAgICAgICAgICAgICAgICAiaHR0cHM6Ly97c30udGlsZS5vcGVuc3RyZWV0bWFwLm9yZy97en0ve3h9L3t5fS5wbmciLAogICAgICAgICAgICAgICAgeyJhdHRyaWJ1dGlvbiI6ICJEYXRhIGJ5IFx1MDAyNmNvcHk7IFx1MDAzY2EgaHJlZj1cImh0dHA6Ly9vcGVuc3RyZWV0bWFwLm9yZ1wiXHUwMDNlT3BlblN0cmVldE1hcFx1MDAzYy9hXHUwMDNlLCB1bmRlciBcdTAwM2NhIGhyZWY9XCJodHRwOi8vd3d3Lm9wZW5zdHJlZXRtYXAub3JnL2NvcHlyaWdodFwiXHUwMDNlT0RiTFx1MDAzYy9hXHUwMDNlLiIsICJkZXRlY3RSZXRpbmEiOiBmYWxzZSwgIm1heE5hdGl2ZVpvb20iOiAxOCwgIm1heFpvb20iOiAxOCwgIm1pblpvb20iOiAwLCAibm9XcmFwIjogZmFsc2UsICJvcGFjaXR5IjogMSwgInN1YmRvbWFpbnMiOiAiYWJjIiwgInRtcyI6IGZhbHNlfQogICAgICAgICAgICApLmFkZFRvKG1hcF9iMDZjMzE5Y2ZlMzc0MmJiYjFiZTBiMTY5ODQ4NjJjNyk7CiAgICAgICAgCiAgICAKICAgICAgICAgICAgdmFyIG1hcmtlcl83MjZmNGIxYjkxN2Y0Y2Y0ODJlMzJlODEzZDI0Y2Y1ZCA9IEwubWFya2VyKAogICAgICAgICAgICAgICAgWy0yNy42OTM2LCAtNTIuMDUwNV0sCiAgICAgICAgICAgICAgICB7fQogICAgICAgICAgICApLmFkZFRvKG1hcF9iMDZjMzE5Y2ZlMzc0MmJiYjFiZTBiMTY5ODQ4NjJjNyk7CiAgICAgICAgCiAgICAKICAgICAgICAgICAgdmFyIGljb25fOTA1NjdhYTAzM2JiNGRkNDljOWNhNWE2NDM0ZmYzOWQgPSBMLkF3ZXNvbWVNYXJrZXJzLmljb24oCiAgICAgICAgICAgICAgICB7ImV4dHJhQ2xhc3NlcyI6ICJmYS1yb3RhdGUtMCIsICJpY29uIjogImluZm8tc2lnbiIsICJpY29uQ29sb3IiOiAid2hpdGUiLCAibWFya2VyQ29sb3IiOiAiZ3JlZW4iLCAicHJlZml4IjogImdseXBoaWNvbiJ9CiAgICAgICAgICAgICk7CiAgICAgICAgICAgIG1hcmtlcl83MjZmNGIxYjkxN2Y0Y2Y0ODJlMzJlODEzZDI0Y2Y1ZC5zZXRJY29uKGljb25fOTA1NjdhYTAzM2JiNGRkNDljOWNhNWE2NDM0ZmYzOWQpOwogICAgICAgIAogICAgCiAgICAgICAgdmFyIHBvcHVwXzE0NWJlM2E4Yjg2OTQ3MGI5ZWExYjM5NTExZTU4OWM1ID0gTC5wb3B1cCh7Im1heFdpZHRoIjogIjEwMCUifSk7CgogICAgICAgIAogICAgICAgICAgICB2YXIgaHRtbF8xYWU4ZmYxMjljNjg0NDcyODBkYzA1YWZjZjRkOWY2NyA9ICQoYDxkaXYgaWQ9Imh0bWxfMWFlOGZmMTI5YzY4NDQ3MjgwZGMwNWFmY2Y0ZDlmNjciIHN0eWxlPSJ3aWR0aDogMTAwLjAlOyBoZWlnaHQ6IDEwMC4wJTsiPsOBdXJlYTwvZGl2PmApWzBdOwogICAgICAgICAgICBwb3B1cF8xNDViZTNhOGI4Njk0NzBiOWVhMWIzOTUxMWU1ODljNS5zZXRDb250ZW50KGh0bWxfMWFlOGZmMTI5YzY4NDQ3MjgwZGMwNWFmY2Y0ZDlmNjcpOwogICAgICAgIAoKICAgICAgICBtYXJrZXJfNzI2ZjRiMWI5MTdmNGNmNDgyZTMyZTgxM2QyNGNmNWQuYmluZFBvcHVwKHBvcHVwXzE0NWJlM2E4Yjg2OTQ3MGI5ZWExYjM5NTExZTU4OWM1KQogICAgICAgIDsKCiAgICAgICAgCiAgICAKICAgIAogICAgICAgICAgICB2YXIgbWFya2VyXzMxMGNiOWU5MjZjOTQ2ZmY4YzllYjJhMGQyZGY0ZTFkID0gTC5tYXJrZXIoCiAgICAgICAgICAgICAgICBbLTI5LjM1NDM5OTk5OTk5LCAtNTEuNjY4N10sCiAgICAgICAgICAgICAgICB7fQogICAgICAgICAgICApLmFkZFRvKG1hcF9iMDZjMzE5Y2ZlMzc0MmJiYjFiZTBiMTY5ODQ4NjJjNyk7CiAgICAgICAgCiAgICAKICAgICAgICAgICAgdmFyIGljb25fMzUyYWVhY2M1ZGViNDFiODlmZGNhZGQ5YTY5MzJlY2QgPSBMLkF3ZXNvbWVNYXJrZXJzLmljb24oCiAgICAgICAgICAgICAgICB7ImV4dHJhQ2xhc3NlcyI6ICJmYS1yb3RhdGUtMCIsICJpY29uIjogImluZm8tc2lnbiIsICJpY29uQ29sb3IiOiAid2hpdGUiLCAibWFya2VyQ29sb3IiOiAiZ3JlZW4iLCAicHJlZml4IjogImdseXBoaWNvbiJ9CiAgICAgICAgICAgICk7CiAgICAgICAgICAgIG1hcmtlcl8zMTBjYjllOTI2Yzk0NmZmOGM5ZWIyYTBkMmRmNGUxZC5zZXRJY29uKGljb25fMzUyYWVhY2M1ZGViNDFiODlmZGNhZGQ5YTY5MzJlY2QpOwogICAgICAgIAogICAgCiAgICAgICAgdmFyIHBvcHVwXzc0YTViZTI2YTBiOTQzYzFhMmY1ZDZkZGEwN2I5MTQyID0gTC5wb3B1cCh7Im1heFdpZHRoIjogIjEwMCUifSk7CgogICAgICAgIAogICAgICAgICAgICB2YXIgaHRtbF9kMDNhNjY4NDQ4MWE0MTQyODI5NDkxYTVhZTkxNWIwNyA9ICQoYDxkaXYgaWQ9Imh0bWxfZDAzYTY2ODQ0ODFhNDE0MjgyOTQ5MWE1YWU5MTViMDciIHN0eWxlPSJ3aWR0aDogMTAwLjAlOyBoZWlnaHQ6IDEwMC4wJTsiPkJvYSBWaXN0YSBkbyBTdWw8L2Rpdj5gKVswXTsKICAgICAgICAgICAgcG9wdXBfNzRhNWJlMjZhMGI5NDNjMWEyZjVkNmRkYTA3YjkxNDIuc2V0Q29udGVudChodG1sX2QwM2E2Njg0NDgxYTQxNDI4Mjk0OTFhNWFlOTE1YjA3KTsKICAgICAgICAKCiAgICAgICAgbWFya2VyXzMxMGNiOWU5MjZjOTQ2ZmY4YzllYjJhMGQyZGY0ZTFkLmJpbmRQb3B1cChwb3B1cF83NGE1YmUyNmEwYjk0M2MxYTJmNWQ2ZGRhMDdiOTE0MikKICAgICAgICA7CgogICAgICAgIAogICAgCiAgICAKICAgICAgICAgICAgdmFyIG1hcmtlcl9kYTZjZTA5YjNiMTE0Mzk1OTlmNTI2OTI4YmViODIzOSA9IEwubWFya2VyKAogICAgICAgICAgICAgICAgWy0yOC43OTI2LCAtNTEuMDk0MDk5OTk5OTg5OTldLAogICAgICAgICAgICAgICAge30KICAgICAgICAgICAgKS5hZGRUbyhtYXBfYjA2YzMxOWNmZTM3NDJiYmIxYmUwYjE2OTg0ODYyYzcpOwogICAgICAgIAogICAgCiAgICAgICAgICAgIHZhciBpY29uX2NjNWFhOGI3Njc3NTQxM2VhMTZlMTE4MThkNTgxZDNhID0gTC5Bd2Vzb21lTWFya2Vycy5pY29uKAogICAgICAgICAgICAgICAgeyJleHRyYUNsYXNzZXMiOiAiZmEtcm90YXRlLTAiLCAiaWNvbiI6ICJpbmZvLXNpZ24iLCAiaWNvbkNvbG9yIjogIndoaXRlIiwgIm1hcmtlckNvbG9yIjogImdyZWVuIiwgInByZWZpeCI6ICJnbHlwaGljb24ifQogICAgICAgICAgICApOwogICAgICAgICAgICBtYXJrZXJfZGE2Y2UwOWIzYjExNDM5NTk5ZjUyNjkyOGJlYjgyMzkuc2V0SWNvbihpY29uX2NjNWFhOGI3Njc3NTQxM2VhMTZlMTE4MThkNTgxZDNhKTsKICAgICAgICAKICAgIAogICAgICAgIHZhciBwb3B1cF9hYTFhMDgzYmRjNzA0ZGNkOTYxNTJhZTAxNGUwYzMzMyA9IEwucG9wdXAoeyJtYXhXaWR0aCI6ICIxMDAlIn0pOwoKICAgICAgICAKICAgICAgICAgICAgdmFyIGh0bWxfNDU1NDNjNzhiMDU1NDI0Zjg2NWU4OTIwMTBkNjExNTAgPSAkKGA8ZGl2IGlkPSJodG1sXzQ1NTQzYzc4YjA1NTQyNGY4NjVlODkyMDEwZDYxMTUwIiBzdHlsZT0id2lkdGg6IDEwMC4wJTsgaGVpZ2h0OiAxMDAuMCU7Ij5DYW1wZXN0cmUgZGEgU2VycmE8L2Rpdj5gKVswXTsKICAgICAgICAgICAgcG9wdXBfYWExYTA4M2JkYzcwNGRjZDk2MTUyYWUwMTRlMGMzMzMuc2V0Q29udGVudChodG1sXzQ1NTQzYzc4YjA1NTQyNGY4NjVlODkyMDEwZDYxMTUwKTsKICAgICAgICAKCiAgICAgICAgbWFya2VyX2RhNmNlMDliM2IxMTQzOTU5OWY1MjY5MjhiZWI4MjM5LmJpbmRQb3B1cChwb3B1cF9hYTFhMDgzYmRjNzA0ZGNkOTYxNTJhZTAxNGUwYzMzMykKICAgICAgICA7CgogICAgICAgIAogICAgCiAgICAKICAgICAgICAgICAgdmFyIG1hcmtlcl9hNGNlN2Q2MTlhNWM0NGJjYjQ4Zjc1YzA3MzIzOTNhYSA9IEwubWFya2VyKAogICAgICAgICAgICAgICAgWy0yNy45ODg4LCAtNTQuODQxN10sCiAgICAgICAgICAgICAgICB7fQogICAgICAgICAgICApLmFkZFRvKG1hcF9iMDZjMzE5Y2ZlMzc0MmJiYjFiZTBiMTY5ODQ4NjJjNyk7CiAgICAgICAgCiAgICAKICAgICAgICAgICAgdmFyIGljb25fYjcxYjFhZjM5NDE3NDc4Mjk5ZGM3MTlmMjk2MDRjNmYgPSBMLkF3ZXNvbWVNYXJrZXJzLmljb24oCiAgICAgICAgICAgICAgICB7ImV4dHJhQ2xhc3NlcyI6ICJmYS1yb3RhdGUtMCIsICJpY29uIjogImluZm8tc2lnbiIsICJpY29uQ29sb3IiOiAid2hpdGUiLCAibWFya2VyQ29sb3IiOiAiZ3JlZW4iLCAicHJlZml4IjogImdseXBoaWNvbiJ9CiAgICAgICAgICAgICk7CiAgICAgICAgICAgIG1hcmtlcl9hNGNlN2Q2MTlhNWM0NGJjYjQ4Zjc1YzA3MzIzOTNhYS5zZXRJY29uKGljb25fYjcxYjFhZjM5NDE3NDc4Mjk5ZGM3MTlmMjk2MDRjNmYpOwogICAgICAgIAogICAgCiAgICAgICAgdmFyIHBvcHVwXzE4ZWRkYzBiNmJkNTRkZjY4OWRmOWFiNmE2ZGY5ZjI0ID0gTC5wb3B1cCh7Im1heFdpZHRoIjogIjEwMCUifSk7CgogICAgICAgIAogICAgICAgICAgICB2YXIgaHRtbF80ZDE2NmNjNTVkOGM0NTg4OTc5YTNiNTY4NWI1NjViNSA9ICQoYDxkaXYgaWQ9Imh0bWxfNGQxNjZjYzU1ZDhjNDU4ODk3OWEzYjU2ODViNTY1YjUiIHN0eWxlPSJ3aWR0aDogMTAwLjAlOyBoZWlnaHQ6IDEwMC4wJTsiPkNhbXBpbmEgZGFzIE1pc3PDtWVzPC9kaXY+YClbMF07CiAgICAgICAgICAgIHBvcHVwXzE4ZWRkYzBiNmJkNTRkZjY4OWRmOWFiNmE2ZGY5ZjI0LnNldENvbnRlbnQoaHRtbF80ZDE2NmNjNTVkOGM0NTg4OTc5YTNiNTY4NWI1NjViNSk7CiAgICAgICAgCgogICAgICAgIG1hcmtlcl9hNGNlN2Q2MTlhNWM0NGJjYjQ4Zjc1YzA3MzIzOTNhYS5iaW5kUG9wdXAocG9wdXBfMThlZGRjMGI2YmQ1NGRmNjg5ZGY5YWI2YTZkZjlmMjQpCiAgICAgICAgOwoKICAgICAgICAKICAgIAogICAgCiAgICAgICAgICAgIHZhciBtYXJrZXJfODc0OTk3MmVkNDBiNGIzMTg3NTQ2ZTkyMTZkMDgxOWQgPSBMLm1hcmtlcigKICAgICAgICAgICAgICAgIFstMjguOTg5MSwgLTUxLjY5NzA5OTk5OTk4OTk5NV0sCiAgICAgICAgICAgICAgICB7fQogICAgICAgICAgICApLmFkZFRvKG1hcF9iMDZjMzE5Y2ZlMzc0MmJiYjFiZTBiMTY5ODQ4NjJjNyk7CiAgICAgICAgCiAgICAKICAgICAgICAgICAgdmFyIGljb25fZDQ1NGU3YmNiMDdkNDNmOWJlNmYyN2RlODVlZWUzMDkgPSBMLkF3ZXNvbWVNYXJrZXJzLmljb24oCiAgICAgICAgICAgICAgICB7ImV4dHJhQ2xhc3NlcyI6ICJmYS1yb3RhdGUtMCIsICJpY29uIjogImluZm8tc2lnbiIsICJpY29uQ29sb3IiOiAid2hpdGUiLCAibWFya2VyQ29sb3IiOiAiZ3JlZW4iLCAicHJlZml4IjogImdseXBoaWNvbiJ9CiAgICAgICAgICAgICk7CiAgICAgICAgICAgIG1hcmtlcl84NzQ5OTcyZWQ0MGI0YjMxODc1NDZlOTIxNmQwODE5ZC5zZXRJY29uKGljb25fZDQ1NGU3YmNiMDdkNDNmOWJlNmYyN2RlODVlZWUzMDkpOwogICAgICAgIAogICAgCiAgICAgICAgdmFyIHBvcHVwXzQzZTNjOTgwYjRjNDRkODJiMGYwNzhlOTExY2NiZTk4ID0gTC5wb3B1cCh7Im1heFdpZHRoIjogIjEwMCUifSk7CgogICAgICAgIAogICAgICAgICAgICB2YXIgaHRtbF83MjhkYjRhZjczNmM0Y2ZiYWZjMTcwYmExYmRhNmE0ZiA9ICQoYDxkaXYgaWQ9Imh0bWxfNzI4ZGI0YWY3MzZjNGNmYmFmYzE3MGJhMWJkYTZhNGYiIHN0eWxlPSJ3aWR0aDogMTAwLjAlOyBoZWlnaHQ6IDEwMC4wJTsiPkNvdGlwb3LDozwvZGl2PmApWzBdOwogICAgICAgICAgICBwb3B1cF80M2UzYzk4MGI0YzQ0ZDgyYjBmMDc4ZTkxMWNjYmU5OC5zZXRDb250ZW50KGh0bWxfNzI4ZGI0YWY3MzZjNGNmYmFmYzE3MGJhMWJkYTZhNGYpOwogICAgICAgIAoKICAgICAgICBtYXJrZXJfODc0OTk3MmVkNDBiNGIzMTg3NTQ2ZTkyMTZkMDgxOWQuYmluZFBvcHVwKHBvcHVwXzQzZTNjOTgwYjRjNDRkODJiMGYwNzhlOTExY2NiZTk4KQogICAgICAgIDsKCiAgICAgICAgCiAgICAKICAgIAogICAgICAgICAgICB2YXIgbWFya2VyX2YxNGMyZWM5NzRhNTRiNmM4ZWVkMjc1Y2Y1YmYxZTRjID0gTC5tYXJrZXIoCiAgICAgICAgICAgICAgICBbLTI3LjI2NDE5OTk5OTk5LCAtNTMuODY0NV0sCiAgICAgICAgICAgICAgICB7fQogICAgICAgICAgICApLmFkZFRvKG1hcF9iMDZjMzE5Y2ZlMzc0MmJiYjFiZTBiMTY5ODQ4NjJjNyk7CiAgICAgICAgCiAgICAKICAgICAgICAgICAgdmFyIGljb25fYmVhZTMzNTEzMGNmNGZjOTgxMzgwMTAyYTE1YWJiNDcgPSBMLkF3ZXNvbWVNYXJrZXJzLmljb24oCiAgICAgICAgICAgICAgICB7ImV4dHJhQ2xhc3NlcyI6ICJmYS1yb3RhdGUtMCIsICJpY29uIjogImluZm8tc2lnbiIsICJpY29uQ29sb3IiOiAid2hpdGUiLCAibWFya2VyQ29sb3IiOiAiZ3JlZW4iLCAicHJlZml4IjogImdseXBoaWNvbiJ9CiAgICAgICAgICAgICk7CiAgICAgICAgICAgIG1hcmtlcl9mMTRjMmVjOTc0YTU0YjZjOGVlZDI3NWNmNWJmMWU0Yy5zZXRJY29uKGljb25fYmVhZTMzNTEzMGNmNGZjOTgxMzgwMTAyYTE1YWJiNDcpOwogICAgICAgIAogICAgCiAgICAgICAgdmFyIHBvcHVwXzQ3YmMxYzEyNTc1OTQ1OTViMmI2NGJlNTI4ZWY4M2NiID0gTC5wb3B1cCh7Im1heFdpZHRoIjogIjEwMCUifSk7CgogICAgICAgIAogICAgICAgICAgICB2YXIgaHRtbF8yM2FiZWE0MmJjMWE0YWRiOGZiZGQ5NmZiOWM5NzVkNiA9ICQoYDxkaXYgaWQ9Imh0bWxfMjNhYmVhNDJiYzFhNGFkYjhmYmRkOTZmYjljOTc1ZDYiIHN0eWxlPSJ3aWR0aDogMTAwLjAlOyBoZWlnaHQ6IDEwMC4wJTsiPkRlcnJ1YmFkYXM8L2Rpdj5gKVswXTsKICAgICAgICAgICAgcG9wdXBfNDdiYzFjMTI1NzU5NDU5NWIyYjY0YmU1MjhlZjgzY2Iuc2V0Q29udGVudChodG1sXzIzYWJlYTQyYmMxYTRhZGI4ZmJkZDk2ZmI5Yzk3NWQ2KTsKICAgICAgICAKCiAgICAgICAgbWFya2VyX2YxNGMyZWM5NzRhNTRiNmM4ZWVkMjc1Y2Y1YmYxZTRjLmJpbmRQb3B1cChwb3B1cF80N2JjMWMxMjU3NTk0NTk1YjJiNjRiZTUyOGVmODNjYikKICAgICAgICA7CgogICAgICAgIAogICAgCiAgICAKICAgICAgICAgICAgdmFyIG1hcmtlcl9mNzZjNjJiMmI4NzI0ZDgyODU1MzhiOTQzMDJlM2NkMSA9IEwubWFya2VyKAogICAgICAgICAgICAgICAgWy0yOC45ODMsIC01MS44Mzk1OTk5OTk5ODk5OV0sCiAgICAgICAgICAgICAgICB7fQogICAgICAgICAgICApLmFkZFRvKG1hcF9iMDZjMzE5Y2ZlMzc0MmJiYjFiZTBiMTY5ODQ4NjJjNyk7CiAgICAgICAgCiAgICAKICAgICAgICAgICAgdmFyIGljb25fZmFhMmUzMzQ2NTNkNDY2N2EyMDliODU4OTEzZWQ1YTggPSBMLkF3ZXNvbWVNYXJrZXJzLmljb24oCiAgICAgICAgICAgICAgICB7ImV4dHJhQ2xhc3NlcyI6ICJmYS1yb3RhdGUtMCIsICJpY29uIjogImluZm8tc2lnbiIsICJpY29uQ29sb3IiOiAid2hpdGUiLCAibWFya2VyQ29sb3IiOiAiZ3JlZW4iLCAicHJlZml4IjogImdseXBoaWNvbiJ9CiAgICAgICAgICAgICk7CiAgICAgICAgICAgIG1hcmtlcl9mNzZjNjJiMmI4NzI0ZDgyODU1MzhiOTQzMDJlM2NkMS5zZXRJY29uKGljb25fZmFhMmUzMzQ2NTNkNDY2N2EyMDliODU4OTEzZWQ1YTgpOwogICAgICAgIAogICAgCiAgICAgICAgdmFyIHBvcHVwXzc5NWM4ZmZiMTliZjRiNGU5OWU3YTg1YzY1NTYyYmIxID0gTC5wb3B1cCh7Im1heFdpZHRoIjogIjEwMCUifSk7CgogICAgICAgIAogICAgICAgICAgICB2YXIgaHRtbF9mM2M2OGNiMzcyMTg0MTgyODg1ZmY5MmRkZmI2ZTExZCA9ICQoYDxkaXYgaWQ9Imh0bWxfZjNjNjhjYjM3MjE4NDE4Mjg4NWZmOTJkZGZiNmUxMWQiIHN0eWxlPSJ3aWR0aDogMTAwLjAlOyBoZWlnaHQ6IDEwMC4wJTsiPkRvaXMgTGFqZWFkb3M8L2Rpdj5gKVswXTsKICAgICAgICAgICAgcG9wdXBfNzk1YzhmZmIxOWJmNGI0ZTk5ZTdhODVjNjU1NjJiYjEuc2V0Q29udGVudChodG1sX2YzYzY4Y2IzNzIxODQxODI4ODVmZjkyZGRmYjZlMTFkKTsKICAgICAgICAKCiAgICAgICAgbWFya2VyX2Y3NmM2MmIyYjg3MjRkODI4NTUzOGI5NDMwMmUzY2QxLmJpbmRQb3B1cChwb3B1cF83OTVjOGZmYjE5YmY0YjRlOTllN2E4NWM2NTU2MmJiMSkKICAgICAgICA7CgogICAgICAgIAogICAgCiAgICAKICAgICAgICAgICAgdmFyIG1hcmtlcl84OGE4M2Y0YzljMTc0OGMwYWRiZWQ3NDA3NmU5MGFlNSA9IEwubWFya2VyKAogICAgICAgICAgICAgICAgWy0yOS40Njc5LCAtNTEuMjAwMjk5OTk5OTg5OTk0XSwKICAgICAgICAgICAgICAgIHt9CiAgICAgICAgICAgICkuYWRkVG8obWFwX2IwNmMzMTljZmUzNzQyYmJiMWJlMGIxNjk4NDg2MmM3KTsKICAgICAgICAKICAgIAogICAgICAgICAgICB2YXIgaWNvbl84MTljZjI2YTgyMzM0M2UyYjU4ZTc3YWM2N2ZjZWI2MiA9IEwuQXdlc29tZU1hcmtlcnMuaWNvbigKICAgICAgICAgICAgICAgIHsiZXh0cmFDbGFzc2VzIjogImZhLXJvdGF0ZS0wIiwgImljb24iOiAiaW5mby1zaWduIiwgImljb25Db2xvciI6ICJ3aGl0ZSIsICJtYXJrZXJDb2xvciI6ICJncmVlbiIsICJwcmVmaXgiOiAiZ2x5cGhpY29uIn0KICAgICAgICAgICAgKTsKICAgICAgICAgICAgbWFya2VyXzg4YTgzZjRjOWMxNzQ4YzBhZGJlZDc0MDc2ZTkwYWU1LnNldEljb24oaWNvbl84MTljZjI2YTgyMzM0M2UyYjU4ZTc3YWM2N2ZjZWI2Mik7CiAgICAgICAgCiAgICAKICAgICAgICB2YXIgcG9wdXBfMTA3OTAxNDQ3NWNlNDk1M2JlOTc3ZGFiYzlkN2IwNGYgPSBMLnBvcHVwKHsibWF4V2lkdGgiOiAiMTAwJSJ9KTsKCiAgICAgICAgCiAgICAgICAgICAgIHZhciBodG1sXzlhMDE0MWJkNzE1ZTRiMjA5OTdlNThkZjBkNzA0ZWRlID0gJChgPGRpdiBpZD0iaHRtbF85YTAxNDFiZDcxNWU0YjIwOTk3ZTU4ZGYwZDcwNGVkZSIgc3R5bGU9IndpZHRoOiAxMDAuMCU7IGhlaWdodDogMTAwLjAlOyI+TGluaGEgTm92YTwvZGl2PmApWzBdOwogICAgICAgICAgICBwb3B1cF8xMDc5MDE0NDc1Y2U0OTUzYmU5NzdkYWJjOWQ3YjA0Zi5zZXRDb250ZW50KGh0bWxfOWEwMTQxYmQ3MTVlNGIyMDk5N2U1OGRmMGQ3MDRlZGUpOwogICAgICAgIAoKICAgICAgICBtYXJrZXJfODhhODNmNGM5YzE3NDhjMGFkYmVkNzQwNzZlOTBhZTUuYmluZFBvcHVwKHBvcHVwXzEwNzkwMTQ0NzVjZTQ5NTNiZTk3N2RhYmM5ZDdiMDRmKQogICAgICAgIDsKCiAgICAgICAgCiAgICAKICAgIAogICAgICAgICAgICB2YXIgbWFya2VyXzFmYjlkM2IxN2I3YzRkYzg5OTg5NGRkZGM1MGVjOGVhID0gTC5tYXJrZXIoCiAgICAgICAgICAgICAgICBbLTI4LjUyOTgsIC01Mi40Njc1OTk5OTk5ODk5OV0sCiAgICAgICAgICAgICAgICB7fQogICAgICAgICAgICApLmFkZFRvKG1hcF9iMDZjMzE5Y2ZlMzc0MmJiYjFiZTBiMTY5ODQ4NjJjNyk7CiAgICAgICAgCiAgICAKICAgICAgICAgICAgdmFyIGljb25fZDRjNzYzZDA4NjY1NDEwYjgzZjk2YjlhM2RiNzBhMDcgPSBMLkF3ZXNvbWVNYXJrZXJzLmljb24oCiAgICAgICAgICAgICAgICB7ImV4dHJhQ2xhc3NlcyI6ICJmYS1yb3RhdGUtMCIsICJpY29uIjogImluZm8tc2lnbiIsICJpY29uQ29sb3IiOiAid2hpdGUiLCAibWFya2VyQ29sb3IiOiAiZ3JlZW4iLCAicHJlZml4IjogImdseXBoaWNvbiJ9CiAgICAgICAgICAgICk7CiAgICAgICAgICAgIG1hcmtlcl8xZmI5ZDNiMTdiN2M0ZGM4OTk4OTRkZGRjNTBlYzhlYS5zZXRJY29uKGljb25fZDRjNzYzZDA4NjY1NDEwYjgzZjk2YjlhM2RiNzBhMDcpOwogICAgICAgIAogICAgCiAgICAgICAgdmFyIHBvcHVwXzgxZGYyOGU4MTAwNDQwODE4YjgxNDg4NGE5YzgyNjExID0gTC5wb3B1cCh7Im1heFdpZHRoIjogIjEwMCUifSk7CgogICAgICAgIAogICAgICAgICAgICB2YXIgaHRtbF81MmVhNzFlMmJiYTk0MDM0YTZjYzJjZTVjNDFhMDBhMyA9ICQoYDxkaXYgaWQ9Imh0bWxfNTJlYTcxZTJiYmE5NDAzNGE2Y2MyY2U1YzQxYTAwYTMiIHN0eWxlPSJ3aWR0aDogMTAwLjAlOyBoZWlnaHQ6IDEwMC4wJTsiPk5pY29sYXUgVmVyZ3VlaXJvPC9kaXY+YClbMF07CiAgICAgICAgICAgIHBvcHVwXzgxZGYyOGU4MTAwNDQwODE4YjgxNDg4NGE5YzgyNjExLnNldENvbnRlbnQoaHRtbF81MmVhNzFlMmJiYTk0MDM0YTZjYzJjZTVjNDFhMDBhMyk7CiAgICAgICAgCgogICAgICAgIG1hcmtlcl8xZmI5ZDNiMTdiN2M0ZGM4OTk4OTRkZGRjNTBlYzhlYS5iaW5kUG9wdXAocG9wdXBfODFkZjI4ZTgxMDA0NDA4MThiODE0ODg0YTljODI2MTEpCiAgICAgICAgOwoKICAgICAgICAKICAgIAogICAgCiAgICAgICAgICAgIHZhciBtYXJrZXJfMWU4ZmNlYzcxZDRiNGQ5OGFhNDdkZGM4ZGNkYjFlMWMgPSBMLm1hcmtlcigKICAgICAgICAgICAgICAgIFstMjkuMjE4MiwgLTUyLjAzMTldLAogICAgICAgICAgICAgICAge30KICAgICAgICAgICAgKS5hZGRUbyhtYXBfYjA2YzMxOWNmZTM3NDJiYmIxYmUwYjE2OTg0ODYyYzcpOwogICAgICAgIAogICAgCiAgICAgICAgICAgIHZhciBpY29uXzM5Nzk3ODA2Mjg5ODQwNzdiYjhhNjNhYmI0YjA1YThmID0gTC5Bd2Vzb21lTWFya2Vycy5pY29uKAogICAgICAgICAgICAgICAgeyJleHRyYUNsYXNzZXMiOiAiZmEtcm90YXRlLTAiLCAiaWNvbiI6ICJpbmZvLXNpZ24iLCAiaWNvbkNvbG9yIjogIndoaXRlIiwgIm1hcmtlckNvbG9yIjogImdyZWVuIiwgInByZWZpeCI6ICJnbHlwaGljb24ifQogICAgICAgICAgICApOwogICAgICAgICAgICBtYXJrZXJfMWU4ZmNlYzcxZDRiNGQ5OGFhNDdkZGM4ZGNkYjFlMWMuc2V0SWNvbihpY29uXzM5Nzk3ODA2Mjg5ODQwNzdiYjhhNjNhYmI0YjA1YThmKTsKICAgICAgICAKICAgIAogICAgICAgIHZhciBwb3B1cF84NWI4Y2QyMjA4Nzg0MDJkOTk0Yjg5YWQyZmY4OGY4MSA9IEwucG9wdXAoeyJtYXhXaWR0aCI6ICIxMDAlIn0pOwoKICAgICAgICAKICAgICAgICAgICAgdmFyIGh0bWxfYTNkODJjMzBmMjEzNDk5ZWFiZGUwNmM2YmU4ZTUxYzQgPSAkKGA8ZGl2IGlkPSJodG1sX2EzZDgyYzMwZjIxMzQ5OWVhYmRlMDZjNmJlOGU1MWM0IiBzdHlsZT0id2lkdGg6IDEwMC4wJTsgaGVpZ2h0OiAxMDAuMCU7Ij5Ob3ZhIEJyw6lzY2lhPC9kaXY+YClbMF07CiAgICAgICAgICAgIHBvcHVwXzg1YjhjZDIyMDg3ODQwMmQ5OTRiODlhZDJmZjg4ZjgxLnNldENvbnRlbnQoaHRtbF9hM2Q4MmMzMGYyMTM0OTllYWJkZTA2YzZiZThlNTFjNCk7CiAgICAgICAgCgogICAgICAgIG1hcmtlcl8xZThmY2VjNzFkNGI0ZDk4YWE0N2RkYzhkY2RiMWUxYy5iaW5kUG9wdXAocG9wdXBfODViOGNkMjIwODc4NDAyZDk5NGI4OWFkMmZmODhmODEpCiAgICAgICAgOwoKICAgICAgICAKICAgIAogICAgCiAgICAgICAgICAgIHZhciBtYXJrZXJfMDVlNzgyZTM3N2QyNGU2ZGIwYjhhMTg5MTlkODQ2YmQgPSBMLm1hcmtlcigKICAgICAgICAgICAgICAgIFstMjkuMTczOCwgLTUyLjIxMzZdLAogICAgICAgICAgICAgICAge30KICAgICAgICAgICAgKS5hZGRUbyhtYXBfYjA2YzMxOWNmZTM3NDJiYmIxYmUwYjE2OTg0ODYyYzcpOwogICAgICAgIAogICAgCiAgICAgICAgICAgIHZhciBpY29uXzJjNGE5YTExMmVlYjQ3YTdhMDk2Nzk1MzA3NjFhMTBlID0gTC5Bd2Vzb21lTWFya2Vycy5pY29uKAogICAgICAgICAgICAgICAgeyJleHRyYUNsYXNzZXMiOiAiZmEtcm90YXRlLTAiLCAiaWNvbiI6ICJpbmZvLXNpZ24iLCAiaWNvbkNvbG9yIjogIndoaXRlIiwgIm1hcmtlckNvbG9yIjogImdyZWVuIiwgInByZWZpeCI6ICJnbHlwaGljb24ifQogICAgICAgICAgICApOwogICAgICAgICAgICBtYXJrZXJfMDVlNzgyZTM3N2QyNGU2ZGIwYjhhMTg5MTlkODQ2YmQuc2V0SWNvbihpY29uXzJjNGE5YTExMmVlYjQ3YTdhMDk2Nzk1MzA3NjFhMTBlKTsKICAgICAgICAKICAgIAogICAgICAgIHZhciBwb3B1cF9hOTk5ZTgwNzg3NjA0OGQ1YTk0OGI2ZjM2NmE3OWFmZSA9IEwucG9wdXAoeyJtYXhXaWR0aCI6ICIxMDAlIn0pOwoKICAgICAgICAKICAgICAgICAgICAgdmFyIGh0bWxfODhhODMwYmU0NmZmNGZiNTg5NWQ0OWZhYmU1YjA5NjggPSAkKGA8ZGl2IGlkPSJodG1sXzg4YTgzMGJlNDZmZjRmYjU4OTVkNDlmYWJlNWIwOTY4IiBzdHlsZT0id2lkdGg6IDEwMC4wJTsgaGVpZ2h0OiAxMDAuMCU7Ij5Qb3VzbyBOb3ZvPC9kaXY+YClbMF07CiAgICAgICAgICAgIHBvcHVwX2E5OTllODA3ODc2MDQ4ZDVhOTQ4YjZmMzY2YTc5YWZlLnNldENvbnRlbnQoaHRtbF84OGE4MzBiZTQ2ZmY0ZmI1ODk1ZDQ5ZmFiZTViMDk2OCk7CiAgICAgICAgCgogICAgICAgIG1hcmtlcl8wNWU3ODJlMzc3ZDI0ZTZkYjBiOGExODkxOWQ4NDZiZC5iaW5kUG9wdXAocG9wdXBfYTk5OWU4MDc4NzYwNDhkNWE5NDhiNmYzNjZhNzlhZmUpCiAgICAgICAgOwoKICAgICAgICAKICAgIAogICAgCiAgICAgICAgICAgIHZhciBtYXJrZXJfYTA5NDEzMDZhYjA0NGQ5MTljYmZhODhjNmNmMjU2NzggPSBMLm1hcmtlcigKICAgICAgICAgICAgICAgIFstMjguMTIzMywgLTU0LjgzNzI5OTk5OTk4OTk5NV0sCiAgICAgICAgICAgICAgICB7fQogICAgICAgICAgICApLmFkZFRvKG1hcF9iMDZjMzE5Y2ZlMzc0MmJiYjFiZTBiMTY5ODQ4NjJjNyk7CiAgICAgICAgCiAgICAKICAgICAgICAgICAgdmFyIGljb25fZTZjNTA3ZWEyOWY0NGFmZmFhMWQ4NDdlNTkyOGI2OGQgPSBMLkF3ZXNvbWVNYXJrZXJzLmljb24oCiAgICAgICAgICAgICAgICB7ImV4dHJhQ2xhc3NlcyI6ICJmYS1yb3RhdGUtMCIsICJpY29uIjogImluZm8tc2lnbiIsICJpY29uQ29sb3IiOiAid2hpdGUiLCAibWFya2VyQ29sb3IiOiAiZ3JlZW4iLCAicHJlZml4IjogImdseXBoaWNvbiJ9CiAgICAgICAgICAgICk7CiAgICAgICAgICAgIG1hcmtlcl9hMDk0MTMwNmFiMDQ0ZDkxOWNiZmE4OGM2Y2YyNTY3OC5zZXRJY29uKGljb25fZTZjNTA3ZWEyOWY0NGFmZmFhMWQ4NDdlNTkyOGI2OGQpOwogICAgICAgIAogICAgCiAgICAgICAgdmFyIHBvcHVwXzBlZGMyMzI4OGUwNTQ2YmJhMDQyMGE4MDE2MTAwYWEyID0gTC5wb3B1cCh7Im1heFdpZHRoIjogIjEwMCUifSk7CgogICAgICAgIAogICAgICAgICAgICB2YXIgaHRtbF9lNTQ2NGExZTNiMjA0NDc4YTM5MGE0Y2NjNjM3MGQzZCA9ICQoYDxkaXYgaWQ9Imh0bWxfZTU0NjRhMWUzYjIwNDQ3OGEzOTBhNGNjYzYzNzBkM2QiIHN0eWxlPSJ3aWR0aDogMTAwLjAlOyBoZWlnaHQ6IDEwMC4wJTsiPlNhbHZhZG9yIGRhcyBNaXNzw7VlczwvZGl2PmApWzBdOwogICAgICAgICAgICBwb3B1cF8wZWRjMjMyODhlMDU0NmJiYTA0MjBhODAxNjEwMGFhMi5zZXRDb250ZW50KGh0bWxfZTU0NjRhMWUzYjIwNDQ3OGEzOTBhNGNjYzYzNzBkM2QpOwogICAgICAgIAoKICAgICAgICBtYXJrZXJfYTA5NDEzMDZhYjA0NGQ5MTljYmZhODhjNmNmMjU2NzguYmluZFBvcHVwKHBvcHVwXzBlZGMyMzI4OGUwNTQ2YmJhMDQyMGE4MDE2MTAwYWEyKQogICAgICAgIDsKCiAgICAgICAgCiAgICAKICAgIAogICAgICAgICAgICB2YXIgbWFya2VyXzQ1MjliM2FhOTMzNzQyNGZhOWQ0ZDhjNDZiNDE1NjA3ID0gTC5tYXJrZXIoCiAgICAgICAgICAgICAgICBbLTI4LjQ5NTYsIC01Mi4wMjY2OTk5OTk5ODk5OTRdLAogICAgICAgICAgICAgICAge30KICAgICAgICAgICAgKS5hZGRUbyhtYXBfYjA2YzMxOWNmZTM3NDJiYmIxYmUwYjE2OTg0ODYyYzcpOwogICAgICAgIAogICAgCiAgICAgICAgICAgIHZhciBpY29uXzBlOTMxZDUwYWU5ZjQxYTFiNzA1NjdjN2M5MmE3MjE3ID0gTC5Bd2Vzb21lTWFya2Vycy5pY29uKAogICAgICAgICAgICAgICAgeyJleHRyYUNsYXNzZXMiOiAiZmEtcm90YXRlLTAiLCAiaWNvbiI6ICJpbmZvLXNpZ24iLCAiaWNvbkNvbG9yIjogIndoaXRlIiwgIm1hcmtlckNvbG9yIjogImdyZWVuIiwgInByZWZpeCI6ICJnbHlwaGljb24ifQogICAgICAgICAgICApOwogICAgICAgICAgICBtYXJrZXJfNDUyOWIzYWE5MzM3NDI0ZmE5ZDRkOGM0NmI0MTU2MDcuc2V0SWNvbihpY29uXzBlOTMxZDUwYWU5ZjQxYTFiNzA1NjdjN2M5MmE3MjE3KTsKICAgICAgICAKICAgIAogICAgICAgIHZhciBwb3B1cF9jYzRhNDY3NjA1ZDg0YTVhYTQxYWU3YTI0YTIwNDY0OCA9IEwucG9wdXAoeyJtYXhXaWR0aCI6ICIxMDAlIn0pOwoKICAgICAgICAKICAgICAgICAgICAgdmFyIGh0bWxfOGM0MjA2ZWFiZDlkNGZkYzkxYTI0OTUwODgzODkxMWMgPSAkKGA8ZGl2IGlkPSJodG1sXzhjNDIwNmVhYmQ5ZDRmZGM5MWEyNDk1MDg4Mzg5MTFjIiBzdHlsZT0id2lkdGg6IDEwMC4wJTsgaGVpZ2h0OiAxMDAuMCU7Ij5TYW50byBBbnTDtG5pbyBkbyBQYWxtYTwvZGl2PmApWzBdOwogICAgICAgICAgICBwb3B1cF9jYzRhNDY3NjA1ZDg0YTVhYTQxYWU3YTI0YTIwNDY0OC5zZXRDb250ZW50KGh0bWxfOGM0MjA2ZWFiZDlkNGZkYzkxYTI0OTUwODgzODkxMWMpOwogICAgICAgIAoKICAgICAgICBtYXJrZXJfNDUyOWIzYWE5MzM3NDI0ZmE5ZDRkOGM0NmI0MTU2MDcuYmluZFBvcHVwKHBvcHVwX2NjNGE0Njc2MDVkODRhNWFhNDFhZTdhMjRhMjA0NjQ4KQogICAgICAgIDsKCiAgICAgICAgCiAgICAKICAgIAogICAgICAgICAgICB2YXIgbWFya2VyX2IyYTViNjUzYmU5ODQ5MjJhYTVmZTU4YzZmNGVkMGQ0ID0gTC5tYXJrZXIoCiAgICAgICAgICAgICAgICBbLTI3LjkwNzM5OTk5OTk5LCAtNTEuNjQzM10sCiAgICAgICAgICAgICAgICB7fQogICAgICAgICAgICApLmFkZFRvKG1hcF9iMDZjMzE5Y2ZlMzc0MmJiYjFiZTBiMTY5ODQ4NjJjNyk7CiAgICAgICAgCiAgICAKICAgICAgICAgICAgdmFyIGljb25fNWYyOWFlMjYxZjVhNDgyZDg1OTdhY2JiYWI2NDIwZTYgPSBMLkF3ZXNvbWVNYXJrZXJzLmljb24oCiAgICAgICAgICAgICAgICB7ImV4dHJhQ2xhc3NlcyI6ICJmYS1yb3RhdGUtMCIsICJpY29uIjogImluZm8tc2lnbiIsICJpY29uQ29sb3IiOiAid2hpdGUiLCAibWFya2VyQ29sb3IiOiAiZ3JlZW4iLCAicHJlZml4IjogImdseXBoaWNvbiJ9CiAgICAgICAgICAgICk7CiAgICAgICAgICAgIG1hcmtlcl9iMmE1YjY1M2JlOTg0OTIyYWE1ZmU1OGM2ZjRlZDBkNC5zZXRJY29uKGljb25fNWYyOWFlMjYxZjVhNDgyZDg1OTdhY2JiYWI2NDIwZTYpOwogICAgICAgIAogICAgCiAgICAgICAgdmFyIHBvcHVwX2UxMjk5NjQ0MmZlZTRmOGJiYjZjYWQ1OWYxNjY2OGI5ID0gTC5wb3B1cCh7Im1heFdpZHRoIjogIjEwMCUifSk7CgogICAgICAgIAogICAgICAgICAgICB2YXIgaHRtbF83NDVlYzhmNjVkMWI0M2EwYWJhMzc5MDZkY2RiNGIzYSA9ICQoYDxkaXYgaWQ9Imh0bWxfNzQ1ZWM4ZjY1ZDFiNDNhMGFiYTM3OTA2ZGNkYjRiM2EiIHN0eWxlPSJ3aWR0aDogMTAwLjAlOyBoZWlnaHQ6IDEwMC4wJTsiPlNhbnRvIEV4cGVkaXRvIGRvIFN1bDwvZGl2PmApWzBdOwogICAgICAgICAgICBwb3B1cF9lMTI5OTY0NDJmZWU0ZjhiYmI2Y2FkNTlmMTY2NjhiOS5zZXRDb250ZW50KGh0bWxfNzQ1ZWM4ZjY1ZDFiNDNhMGFiYTM3OTA2ZGNkYjRiM2EpOwogICAgICAgIAoKICAgICAgICBtYXJrZXJfYjJhNWI2NTNiZTk4NDkyMmFhNWZlNThjNmY0ZWQwZDQuYmluZFBvcHVwKHBvcHVwX2UxMjk5NjQ0MmZlZTRmOGJiYjZjYWQ1OWYxNjY2OGI5KQogICAgICAgIDsKCiAgICAgICAgCiAgICAKICAgIAogICAgICAgICAgICB2YXIgbWFya2VyX2M1MDU4NGIzMjYwYzRkNDNiNDc2MDdmYjQ1OTg1NzA3ID0gTC5tYXJrZXIoCiAgICAgICAgICAgICAgICBbLTI3LjcyNTEsIC01NC4xMjc0OTk5OTk5ODk5OV0sCiAgICAgICAgICAgICAgICB7fQogICAgICAgICAgICApLmFkZFRvKG1hcF9iMDZjMzE5Y2ZlMzc0MmJiYjFiZTBiMTY5ODQ4NjJjNyk7CiAgICAgICAgCiAgICAKICAgICAgICAgICAgdmFyIGljb25fOWEwZjFiMDczMDhjNDI0ZmFiMDBiZDgyNTc5NWZhM2YgPSBMLkF3ZXNvbWVNYXJrZXJzLmljb24oCiAgICAgICAgICAgICAgICB7ImV4dHJhQ2xhc3NlcyI6ICJmYS1yb3RhdGUtMCIsICJpY29uIjogImluZm8tc2lnbiIsICJpY29uQ29sb3IiOiAid2hpdGUiLCAibWFya2VyQ29sb3IiOiAiZ3JlZW4iLCAicHJlZml4IjogImdseXBoaWNvbiJ9CiAgICAgICAgICAgICk7CiAgICAgICAgICAgIG1hcmtlcl9jNTA1ODRiMzI2MGM0ZDQzYjQ3NjA3ZmI0NTk4NTcwNy5zZXRJY29uKGljb25fOWEwZjFiMDczMDhjNDI0ZmFiMDBiZDgyNTc5NWZhM2YpOwogICAgICAgIAogICAgCiAgICAgICAgdmFyIHBvcHVwXzc2ZjIwOTc5YWUxOTQyNDE5NzYwZmI2MWIwZjg5MzQ2ID0gTC5wb3B1cCh7Im1heFdpZHRoIjogIjEwMCUifSk7CgogICAgICAgIAogICAgICAgICAgICB2YXIgaHRtbF9jNTcyN2VhMGE2ZDI0YzBkYTliOTI4MDlmYmM2Y2UzNSA9ICQoYDxkaXYgaWQ9Imh0bWxfYzU3MjdlYTBhNmQyNGMwZGE5YjkyODA5ZmJjNmNlMzUiIHN0eWxlPSJ3aWR0aDogMTAwLjAlOyBoZWlnaHQ6IDEwMC4wJTsiPlPDo28gSm9zw6kgZG8gSW5oYWNvcsOhPC9kaXY+YClbMF07CiAgICAgICAgICAgIHBvcHVwXzc2ZjIwOTc5YWUxOTQyNDE5NzYwZmI2MWIwZjg5MzQ2LnNldENvbnRlbnQoaHRtbF9jNTcyN2VhMGE2ZDI0YzBkYTliOTI4MDlmYmM2Y2UzNSk7CiAgICAgICAgCgogICAgICAgIG1hcmtlcl9jNTA1ODRiMzI2MGM0ZDQzYjQ3NjA3ZmI0NTk4NTcwNy5iaW5kUG9wdXAocG9wdXBfNzZmMjA5NzlhZTE5NDI0MTk3NjBmYjYxYjBmODkzNDYpCiAgICAgICAgOwoKICAgICAgICAKICAgIAogICAgCiAgICAgICAgICAgIHZhciBtYXJrZXJfNzg3M2JjZjljYzlhNDA0MTlhYzJiZTdkODdhMzNmMGQgPSBMLm1hcmtlcigKICAgICAgICAgICAgICAgIFstMjguNDc1OCwgLTUxLjg0NDddLAogICAgICAgICAgICAgICAge30KICAgICAgICAgICAgKS5hZGRUbyhtYXBfYjA2YzMxOWNmZTM3NDJiYmIxYmUwYjE2OTg0ODYyYzcpOwogICAgICAgIAogICAgCiAgICAgICAgICAgIHZhciBpY29uXzE2MzFhYjMwMDc2MTRkYzE5YTg4MDA1YmVhYmQzZWNhID0gTC5Bd2Vzb21lTWFya2Vycy5pY29uKAogICAgICAgICAgICAgICAgeyJleHRyYUNsYXNzZXMiOiAiZmEtcm90YXRlLTAiLCAiaWNvbiI6ICJpbmZvLXNpZ24iLCAiaWNvbkNvbG9yIjogIndoaXRlIiwgIm1hcmtlckNvbG9yIjogImdyZWVuIiwgInByZWZpeCI6ICJnbHlwaGljb24ifQogICAgICAgICAgICApOwogICAgICAgICAgICBtYXJrZXJfNzg3M2JjZjljYzlhNDA0MTlhYzJiZTdkODdhMzNmMGQuc2V0SWNvbihpY29uXzE2MzFhYjMwMDc2MTRkYzE5YTg4MDA1YmVhYmQzZWNhKTsKICAgICAgICAKICAgIAogICAgICAgIHZhciBwb3B1cF9hM2MzMGY4ZTE2MDA0ZWM1OGYxNGUyMTFkYTRkOTRkZCA9IEwucG9wdXAoeyJtYXhXaWR0aCI6ICIxMDAlIn0pOwoKICAgICAgICAKICAgICAgICAgICAgdmFyIGh0bWxfOWFmODJiYzliYTA2NDZmNWFkYmE3ZmQwNDhmZDUyYzAgPSAkKGA8ZGl2IGlkPSJodG1sXzlhZjgyYmM5YmEwNjQ2ZjVhZGJhN2ZkMDQ4ZmQ1MmMwIiBzdHlsZT0id2lkdGg6IDEwMC4wJTsgaGVpZ2h0OiAxMDAuMCU7Ij5WYW5pbmk8L2Rpdj5gKVswXTsKICAgICAgICAgICAgcG9wdXBfYTNjMzBmOGUxNjAwNGVjNThmMTRlMjExZGE0ZDk0ZGQuc2V0Q29udGVudChodG1sXzlhZjgyYmM5YmEwNjQ2ZjVhZGJhN2ZkMDQ4ZmQ1MmMwKTsKICAgICAgICAKCiAgICAgICAgbWFya2VyXzc4NzNiY2Y5Y2M5YTQwNDE5YWMyYmU3ZDg3YTMzZjBkLmJpbmRQb3B1cChwb3B1cF9hM2MzMGY4ZTE2MDA0ZWM1OGYxNGUyMTFkYTRkOTRkZCkKICAgICAgICA7CgogICAgICAgIAogICAgCiAgICAKICAgICAgICAgICAgdmFyIG1hcmtlcl9lZmE4NjMyZTIwYzQ0YzMzYmQxYTQ2OGQyMWRkODY5ZSA9IEwubWFya2VyKAogICAgICAgICAgICAgICAgWy0yOC44MDUxOTk5OTk5OTAwMDIsIC01MS43OTQ2XSwKICAgICAgICAgICAgICAgIHt9CiAgICAgICAgICAgICkuYWRkVG8obWFwX2IwNmMzMTljZmUzNzQyYmJiMWJlMGIxNjk4NDg2MmM3KTsKICAgICAgICAKICAgIAogICAgICAgICAgICB2YXIgaWNvbl83NjNiODY0Y2M3YzA0M2ZiYjFiY2YzZjg0NWJiYTg5MCA9IEwuQXdlc29tZU1hcmtlcnMuaWNvbigKICAgICAgICAgICAgICAgIHsiZXh0cmFDbGFzc2VzIjogImZhLXJvdGF0ZS0wIiwgImljb24iOiAiaW5mby1zaWduIiwgImljb25Db2xvciI6ICJ3aGl0ZSIsICJtYXJrZXJDb2xvciI6ICJncmVlbiIsICJwcmVmaXgiOiAiZ2x5cGhpY29uIn0KICAgICAgICAgICAgKTsKICAgICAgICAgICAgbWFya2VyX2VmYTg2MzJlMjBjNDRjMzNiZDFhNDY4ZDIxZGQ4NjllLnNldEljb24oaWNvbl83NjNiODY0Y2M3YzA0M2ZiYjFiY2YzZjg0NWJiYTg5MCk7CiAgICAgICAgCiAgICAKICAgICAgICB2YXIgcG9wdXBfMmYzZTUzYjE2YTFmNDM3ZWE3NTUzNjNkZmY4YWE1OGEgPSBMLnBvcHVwKHsibWF4V2lkdGgiOiAiMTAwJSJ9KTsKCiAgICAgICAgCiAgICAgICAgICAgIHZhciBodG1sX2EyMTFjZTU4NjA4MzQ0OTE4MWE4ZDk5N2EzZTk3MTQ1ID0gJChgPGRpdiBpZD0iaHRtbF9hMjExY2U1ODYwODM0NDkxODFhOGQ5OTdhM2U5NzE0NSIgc3R5bGU9IndpZHRoOiAxMDAuMCU7IGhlaWdodDogMTAwLjAlOyI+VmlzdGEgQWxlZ3JlIGRvIFByYXRhPC9kaXY+YClbMF07CiAgICAgICAgICAgIHBvcHVwXzJmM2U1M2IxNmExZjQzN2VhNzU1MzYzZGZmOGFhNThhLnNldENvbnRlbnQoaHRtbF9hMjExY2U1ODYwODM0NDkxODFhOGQ5OTdhM2U5NzE0NSk7CiAgICAgICAgCgogICAgICAgIG1hcmtlcl9lZmE4NjMyZTIwYzQ0YzMzYmQxYTQ2OGQyMWRkODY5ZS5iaW5kUG9wdXAocG9wdXBfMmYzZTUzYjE2YTFmNDM3ZWE3NTUzNjNkZmY4YWE1OGEpCiAgICAgICAgOwoKICAgICAgICAKICAgIAogICAgCiAgICAgICAgICAgIHZhciBtYXJrZXJfZjFmZjk5YzQ1YWE1NDgwMzk1ZDA5NzdiY2M5ZGQ1MDUgPSBMLm1hcmtlcigKICAgICAgICAgICAgICAgIFstMjcuNjkzNiwgLTUyLjA1MDVdLAogICAgICAgICAgICAgICAge30KICAgICAgICAgICAgKS5hZGRUbyhtYXBfYjA2YzMxOWNmZTM3NDJiYmIxYmUwYjE2OTg0ODYyYzcpOwogICAgICAgIAogICAgCiAgICAgICAgICAgIHZhciBpY29uXzIzZjEzMDAwZTIwMDQ4MDZiNWJmMTI2M2Q4ZWJmZGY0ID0gTC5Bd2Vzb21lTWFya2Vycy5pY29uKAogICAgICAgICAgICAgICAgeyJleHRyYUNsYXNzZXMiOiAiZmEtcm90YXRlLTAiLCAiaWNvbiI6ICJpbmZvLXNpZ24iLCAiaWNvbkNvbG9yIjogIndoaXRlIiwgIm1hcmtlckNvbG9yIjogImdyZWVuIiwgInByZWZpeCI6ICJnbHlwaGljb24ifQogICAgICAgICAgICApOwogICAgICAgICAgICBtYXJrZXJfZjFmZjk5YzQ1YWE1NDgwMzk1ZDA5NzdiY2M5ZGQ1MDUuc2V0SWNvbihpY29uXzIzZjEzMDAwZTIwMDQ4MDZiNWJmMTI2M2Q4ZWJmZGY0KTsKICAgICAgICAKICAgIAogICAgICAgIHZhciBwb3B1cF8yOGYzMDc0YmI2YWE0NTBkOTA4YWY0MGZkYTNkMTQ2MyA9IEwucG9wdXAoeyJtYXhXaWR0aCI6ICIxMDAlIn0pOwoKICAgICAgICAKICAgICAgICAgICAgdmFyIGh0bWxfNTYzMTE1NjRjNDljNDY2N2E1YTk1Mzk4YjI4YzBjOGYgPSAkKGA8ZGl2IGlkPSJodG1sXzU2MzExNTY0YzQ5YzQ2NjdhNWE5NTM5OGIyOGMwYzhmIiBzdHlsZT0id2lkdGg6IDEwMC4wJTsgaGVpZ2h0OiAxMDAuMCU7Ij7DgXVyZWE8L2Rpdj5gKVswXTsKICAgICAgICAgICAgcG9wdXBfMjhmMzA3NGJiNmFhNDUwZDkwOGFmNDBmZGEzZDE0NjMuc2V0Q29udGVudChodG1sXzU2MzExNTY0YzQ5YzQ2NjdhNWE5NTM5OGIyOGMwYzhmKTsKICAgICAgICAKCiAgICAgICAgbWFya2VyX2YxZmY5OWM0NWFhNTQ4MDM5NWQwOTc3YmNjOWRkNTA1LmJpbmRQb3B1cChwb3B1cF8yOGYzMDc0YmI2YWE0NTBkOTA4YWY0MGZkYTNkMTQ2MykKICAgICAgICA7CgogICAgICAgIAogICAgCiAgICAKICAgICAgICAgICAgdmFyIG1hcmtlcl9hODc0NTc1YjAxYjc0ZDQxYTFlNThiYmYxOGNmNjZiYyA9IEwubWFya2VyKAogICAgICAgICAgICAgICAgWy0yOS4zNTQzOTk5OTk5OSwgLTUxLjY2ODddLAogICAgICAgICAgICAgICAge30KICAgICAgICAgICAgKS5hZGRUbyhtYXBfYjA2YzMxOWNmZTM3NDJiYmIxYmUwYjE2OTg0ODYyYzcpOwogICAgICAgIAogICAgCiAgICAgICAgICAgIHZhciBpY29uXzU5ODRhYjg4YjBhNDQxMDU5YzEzODdkMmIwMTc0ZWE4ID0gTC5Bd2Vzb21lTWFya2Vycy5pY29uKAogICAgICAgICAgICAgICAgeyJleHRyYUNsYXNzZXMiOiAiZmEtcm90YXRlLTAiLCAiaWNvbiI6ICJpbmZvLXNpZ24iLCAiaWNvbkNvbG9yIjogIndoaXRlIiwgIm1hcmtlckNvbG9yIjogImdyZWVuIiwgInByZWZpeCI6ICJnbHlwaGljb24ifQogICAgICAgICAgICApOwogICAgICAgICAgICBtYXJrZXJfYTg3NDU3NWIwMWI3NGQ0MWExZTU4YmJmMThjZjY2YmMuc2V0SWNvbihpY29uXzU5ODRhYjg4YjBhNDQxMDU5YzEzODdkMmIwMTc0ZWE4KTsKICAgICAgICAKICAgIAogICAgICAgIHZhciBwb3B1cF80YTEzZDdjMTVhMmQ0NWFiODljYWNmYTdhMjdmYWM2OCA9IEwucG9wdXAoeyJtYXhXaWR0aCI6ICIxMDAlIn0pOwoKICAgICAgICAKICAgICAgICAgICAgdmFyIGh0bWxfZjMxZTA1MWUyN2RmNGIwNWFiOWZiYTdkODkzODE3NjQgPSAkKGA8ZGl2IGlkPSJodG1sX2YzMWUwNTFlMjdkZjRiMDVhYjlmYmE3ZDg5MzgxNzY0IiBzdHlsZT0id2lkdGg6IDEwMC4wJTsgaGVpZ2h0OiAxMDAuMCU7Ij5Cb2EgVmlzdGEgZG8gU3VsPC9kaXY+YClbMF07CiAgICAgICAgICAgIHBvcHVwXzRhMTNkN2MxNWEyZDQ1YWI4OWNhY2ZhN2EyN2ZhYzY4LnNldENvbnRlbnQoaHRtbF9mMzFlMDUxZTI3ZGY0YjA1YWI5ZmJhN2Q4OTM4MTc2NCk7CiAgICAgICAgCgogICAgICAgIG1hcmtlcl9hODc0NTc1YjAxYjc0ZDQxYTFlNThiYmYxOGNmNjZiYy5iaW5kUG9wdXAocG9wdXBfNGExM2Q3YzE1YTJkNDVhYjg5Y2FjZmE3YTI3ZmFjNjgpCiAgICAgICAgOwoKICAgICAgICAKICAgIAogICAgCiAgICAgICAgICAgIHZhciBtYXJrZXJfNTQyMjJmZmRiYTA1NDAxNWJkYjk1NGM2YTliMjQwNGQgPSBMLm1hcmtlcigKICAgICAgICAgICAgICAgIFstMjguNzkyNiwgLTUxLjA5NDA5OTk5OTk4OTk5XSwKICAgICAgICAgICAgICAgIHt9CiAgICAgICAgICAgICkuYWRkVG8obWFwX2IwNmMzMTljZmUzNzQyYmJiMWJlMGIxNjk4NDg2MmM3KTsKICAgICAgICAKICAgIAogICAgICAgICAgICB2YXIgaWNvbl85NDgzZjAwNDFkNDg0ZWIwOTJiMzg3MmI4ODgyOTBiNCA9IEwuQXdlc29tZU1hcmtlcnMuaWNvbigKICAgICAgICAgICAgICAgIHsiZXh0cmFDbGFzc2VzIjogImZhLXJvdGF0ZS0wIiwgImljb24iOiAiaW5mby1zaWduIiwgImljb25Db2xvciI6ICJ3aGl0ZSIsICJtYXJrZXJDb2xvciI6ICJncmVlbiIsICJwcmVmaXgiOiAiZ2x5cGhpY29uIn0KICAgICAgICAgICAgKTsKICAgICAgICAgICAgbWFya2VyXzU0MjIyZmZkYmEwNTQwMTViZGI5NTRjNmE5YjI0MDRkLnNldEljb24oaWNvbl85NDgzZjAwNDFkNDg0ZWIwOTJiMzg3MmI4ODgyOTBiNCk7CiAgICAgICAgCiAgICAKICAgICAgICB2YXIgcG9wdXBfOGM5OGQzYTczOGY3NDc0Zjg0YzMyZGQyYzY2ODIyZTMgPSBMLnBvcHVwKHsibWF4V2lkdGgiOiAiMTAwJSJ9KTsKCiAgICAgICAgCiAgICAgICAgICAgIHZhciBodG1sXzVmNzA2OGIxYmQ0MjQwMTBhNmI5MTQ4OWJhYzAxYTc0ID0gJChgPGRpdiBpZD0iaHRtbF81ZjcwNjhiMWJkNDI0MDEwYTZiOTE0ODliYWMwMWE3NCIgc3R5bGU9IndpZHRoOiAxMDAuMCU7IGhlaWdodDogMTAwLjAlOyI+Q2FtcGVzdHJlIGRhIFNlcnJhPC9kaXY+YClbMF07CiAgICAgICAgICAgIHBvcHVwXzhjOThkM2E3MzhmNzQ3NGY4NGMzMmRkMmM2NjgyMmUzLnNldENvbnRlbnQoaHRtbF81ZjcwNjhiMWJkNDI0MDEwYTZiOTE0ODliYWMwMWE3NCk7CiAgICAgICAgCgogICAgICAgIG1hcmtlcl81NDIyMmZmZGJhMDU0MDE1YmRiOTU0YzZhOWIyNDA0ZC5iaW5kUG9wdXAocG9wdXBfOGM5OGQzYTczOGY3NDc0Zjg0YzMyZGQyYzY2ODIyZTMpCiAgICAgICAgOwoKICAgICAgICAKICAgIAogICAgCiAgICAgICAgICAgIHZhciBtYXJrZXJfYjM0NGJjMjMwZGRiNDQxNGEzNWMyMDM3MjdlYTIyZTYgPSBMLm1hcmtlcigKICAgICAgICAgICAgICAgIFstMjcuOTg4OCwgLTU0Ljg0MTddLAogICAgICAgICAgICAgICAge30KICAgICAgICAgICAgKS5hZGRUbyhtYXBfYjA2YzMxOWNmZTM3NDJiYmIxYmUwYjE2OTg0ODYyYzcpOwogICAgICAgIAogICAgCiAgICAgICAgICAgIHZhciBpY29uX2FmZjk0NzEwNDE1MzQ0YTM5ZjRmZGNhMGNjMWQyYTdkID0gTC5Bd2Vzb21lTWFya2Vycy5pY29uKAogICAgICAgICAgICAgICAgeyJleHRyYUNsYXNzZXMiOiAiZmEtcm90YXRlLTAiLCAiaWNvbiI6ICJpbmZvLXNpZ24iLCAiaWNvbkNvbG9yIjogIndoaXRlIiwgIm1hcmtlckNvbG9yIjogImdyZWVuIiwgInByZWZpeCI6ICJnbHlwaGljb24ifQogICAgICAgICAgICApOwogICAgICAgICAgICBtYXJrZXJfYjM0NGJjMjMwZGRiNDQxNGEzNWMyMDM3MjdlYTIyZTYuc2V0SWNvbihpY29uX2FmZjk0NzEwNDE1MzQ0YTM5ZjRmZGNhMGNjMWQyYTdkKTsKICAgICAgICAKICAgIAogICAgICAgIHZhciBwb3B1cF8xMDc0N2M2ZTZkNzk0MjgzYTY4M2Y3NTZmMjg4OGYwNyA9IEwucG9wdXAoeyJtYXhXaWR0aCI6ICIxMDAlIn0pOwoKICAgICAgICAKICAgICAgICAgICAgdmFyIGh0bWxfYmM4ODdkZmI5NzNkNGQyMWEyZjcxYWQwYzE5NWFmNmQgPSAkKGA8ZGl2IGlkPSJodG1sX2JjODg3ZGZiOTczZDRkMjFhMmY3MWFkMGMxOTVhZjZkIiBzdHlsZT0id2lkdGg6IDEwMC4wJTsgaGVpZ2h0OiAxMDAuMCU7Ij5DYW1waW5hIGRhcyBNaXNzw7VlczwvZGl2PmApWzBdOwogICAgICAgICAgICBwb3B1cF8xMDc0N2M2ZTZkNzk0MjgzYTY4M2Y3NTZmMjg4OGYwNy5zZXRDb250ZW50KGh0bWxfYmM4ODdkZmI5NzNkNGQyMWEyZjcxYWQwYzE5NWFmNmQpOwogICAgICAgIAoKICAgICAgICBtYXJrZXJfYjM0NGJjMjMwZGRiNDQxNGEzNWMyMDM3MjdlYTIyZTYuYmluZFBvcHVwKHBvcHVwXzEwNzQ3YzZlNmQ3OTQyODNhNjgzZjc1NmYyODg4ZjA3KQogICAgICAgIDsKCiAgICAgICAgCiAgICAKICAgIAogICAgICAgICAgICB2YXIgbWFya2VyX2I4OWM1MTVhNWY5NjQzYjdhMjk5YmJiYzJiOTk5OTkzID0gTC5tYXJrZXIoCiAgICAgICAgICAgICAgICBbLTI4Ljk4OTEsIC01MS42OTcwOTk5OTk5ODk5OTVdLAogICAgICAgICAgICAgICAge30KICAgICAgICAgICAgKS5hZGRUbyhtYXBfYjA2YzMxOWNmZTM3NDJiYmIxYmUwYjE2OTg0ODYyYzcpOwogICAgICAgIAogICAgCiAgICAgICAgICAgIHZhciBpY29uX2ExNTU0NDc1ZDRjYzQ4YTFhNWIxZjgyY2ViYjM0ZmIxID0gTC5Bd2Vzb21lTWFya2Vycy5pY29uKAogICAgICAgICAgICAgICAgeyJleHRyYUNsYXNzZXMiOiAiZmEtcm90YXRlLTAiLCAiaWNvbiI6ICJpbmZvLXNpZ24iLCAiaWNvbkNvbG9yIjogIndoaXRlIiwgIm1hcmtlckNvbG9yIjogImdyZWVuIiwgInByZWZpeCI6ICJnbHlwaGljb24ifQogICAgICAgICAgICApOwogICAgICAgICAgICBtYXJrZXJfYjg5YzUxNWE1Zjk2NDNiN2EyOTliYmJjMmI5OTk5OTMuc2V0SWNvbihpY29uX2ExNTU0NDc1ZDRjYzQ4YTFhNWIxZjgyY2ViYjM0ZmIxKTsKICAgICAgICAKICAgIAogICAgICAgIHZhciBwb3B1cF9mNzI3MTFmYTVkODk0YWJlYWZmOGM5YzRlMjFmNWU5NCA9IEwucG9wdXAoeyJtYXhXaWR0aCI6ICIxMDAlIn0pOwoKICAgICAgICAKICAgICAgICAgICAgdmFyIGh0bWxfODY1MTc3OTEzMzMzNDEzMTg1MzM5ZjQ0NzE4NmUwNDEgPSAkKGA8ZGl2IGlkPSJodG1sXzg2NTE3NzkxMzMzMzQxMzE4NTMzOWY0NDcxODZlMDQxIiBzdHlsZT0id2lkdGg6IDEwMC4wJTsgaGVpZ2h0OiAxMDAuMCU7Ij5Db3RpcG9yw6M8L2Rpdj5gKVswXTsKICAgICAgICAgICAgcG9wdXBfZjcyNzExZmE1ZDg5NGFiZWFmZjhjOWM0ZTIxZjVlOTQuc2V0Q29udGVudChodG1sXzg2NTE3NzkxMzMzMzQxMzE4NTMzOWY0NDcxODZlMDQxKTsKICAgICAgICAKCiAgICAgICAgbWFya2VyX2I4OWM1MTVhNWY5NjQzYjdhMjk5YmJiYzJiOTk5OTkzLmJpbmRQb3B1cChwb3B1cF9mNzI3MTFmYTVkODk0YWJlYWZmOGM5YzRlMjFmNWU5NCkKICAgICAgICA7CgogICAgICAgIAogICAgCiAgICAKICAgICAgICAgICAgdmFyIG1hcmtlcl85NjQzMzBiZjEzNzE0MWYwYjhkNWEzNmJjMTQ3NDA2NCA9IEwubWFya2VyKAogICAgICAgICAgICAgICAgWy0yNy4yNjQxOTk5OTk5OSwgLTUzLjg2NDVdLAogICAgICAgICAgICAgICAge30KICAgICAgICAgICAgKS5hZGRUbyhtYXBfYjA2YzMxOWNmZTM3NDJiYmIxYmUwYjE2OTg0ODYyYzcpOwogICAgICAgIAogICAgCiAgICAgICAgICAgIHZhciBpY29uXzRlZTFlZGQ3NGNkNDQ5NDk5MTRkNGQ0YjI0ZGJmOGRhID0gTC5Bd2Vzb21lTWFya2Vycy5pY29uKAogICAgICAgICAgICAgICAgeyJleHRyYUNsYXNzZXMiOiAiZmEtcm90YXRlLTAiLCAiaWNvbiI6ICJpbmZvLXNpZ24iLCAiaWNvbkNvbG9yIjogIndoaXRlIiwgIm1hcmtlckNvbG9yIjogImdyZWVuIiwgInByZWZpeCI6ICJnbHlwaGljb24ifQogICAgICAgICAgICApOwogICAgICAgICAgICBtYXJrZXJfOTY0MzMwYmYxMzcxNDFmMGI4ZDVhMzZiYzE0NzQwNjQuc2V0SWNvbihpY29uXzRlZTFlZGQ3NGNkNDQ5NDk5MTRkNGQ0YjI0ZGJmOGRhKTsKICAgICAgICAKICAgIAogICAgICAgIHZhciBwb3B1cF8zMWYyOWZhNjMxMTY0ZWUzOWM1Y2Y5Y2FmN2Q0NWRlMyA9IEwucG9wdXAoeyJtYXhXaWR0aCI6ICIxMDAlIn0pOwoKICAgICAgICAKICAgICAgICAgICAgdmFyIGh0bWxfNWMxNjhkYjY4NzZmNGUyMjhjM2U3ZjBlM2YzMWIzOWIgPSAkKGA8ZGl2IGlkPSJodG1sXzVjMTY4ZGI2ODc2ZjRlMjI4YzNlN2YwZTNmMzFiMzliIiBzdHlsZT0id2lkdGg6IDEwMC4wJTsgaGVpZ2h0OiAxMDAuMCU7Ij5EZXJydWJhZGFzPC9kaXY+YClbMF07CiAgICAgICAgICAgIHBvcHVwXzMxZjI5ZmE2MzExNjRlZTM5YzVjZjljYWY3ZDQ1ZGUzLnNldENvbnRlbnQoaHRtbF81YzE2OGRiNjg3NmY0ZTIyOGMzZTdmMGUzZjMxYjM5Yik7CiAgICAgICAgCgogICAgICAgIG1hcmtlcl85NjQzMzBiZjEzNzE0MWYwYjhkNWEzNmJjMTQ3NDA2NC5iaW5kUG9wdXAocG9wdXBfMzFmMjlmYTYzMTE2NGVlMzljNWNmOWNhZjdkNDVkZTMpCiAgICAgICAgOwoKICAgICAgICAKICAgIAogICAgCiAgICAgICAgICAgIHZhciBtYXJrZXJfNGUzNTUxOGFiYTYzNGY1YzlkZDkzNGRmMTRjNDUwMTggPSBMLm1hcmtlcigKICAgICAgICAgICAgICAgIFstMjguOTgzLCAtNTEuODM5NTk5OTk5OTg5OTldLAogICAgICAgICAgICAgICAge30KICAgICAgICAgICAgKS5hZGRUbyhtYXBfYjA2YzMxOWNmZTM3NDJiYmIxYmUwYjE2OTg0ODYyYzcpOwogICAgICAgIAogICAgCiAgICAgICAgICAgIHZhciBpY29uXzEyODU1MjZlMTViMzQwODg4ZWQzMTQ4NWRlZGZiZGU3ID0gTC5Bd2Vzb21lTWFya2Vycy5pY29uKAogICAgICAgICAgICAgICAgeyJleHRyYUNsYXNzZXMiOiAiZmEtcm90YXRlLTAiLCAiaWNvbiI6ICJpbmZvLXNpZ24iLCAiaWNvbkNvbG9yIjogIndoaXRlIiwgIm1hcmtlckNvbG9yIjogImdyZWVuIiwgInByZWZpeCI6ICJnbHlwaGljb24ifQogICAgICAgICAgICApOwogICAgICAgICAgICBtYXJrZXJfNGUzNTUxOGFiYTYzNGY1YzlkZDkzNGRmMTRjNDUwMTguc2V0SWNvbihpY29uXzEyODU1MjZlMTViMzQwODg4ZWQzMTQ4NWRlZGZiZGU3KTsKICAgICAgICAKICAgIAogICAgICAgIHZhciBwb3B1cF83ZTBjYWQxNDAzNTM0ODRiOWQ2ZWE1MzczYmUyYTZiMCA9IEwucG9wdXAoeyJtYXhXaWR0aCI6ICIxMDAlIn0pOwoKICAgICAgICAKICAgICAgICAgICAgdmFyIGh0bWxfZjE3ZGIwMjEyNTVmNDM4MWEyYzUyM2U0ZGRlYWFkMWYgPSAkKGA8ZGl2IGlkPSJodG1sX2YxN2RiMDIxMjU1ZjQzODFhMmM1MjNlNGRkZWFhZDFmIiBzdHlsZT0id2lkdGg6IDEwMC4wJTsgaGVpZ2h0OiAxMDAuMCU7Ij5Eb2lzIExhamVhZG9zPC9kaXY+YClbMF07CiAgICAgICAgICAgIHBvcHVwXzdlMGNhZDE0MDM1MzQ4NGI5ZDZlYTUzNzNiZTJhNmIwLnNldENvbnRlbnQoaHRtbF9mMTdkYjAyMTI1NWY0MzgxYTJjNTIzZTRkZGVhYWQxZik7CiAgICAgICAgCgogICAgICAgIG1hcmtlcl80ZTM1NTE4YWJhNjM0ZjVjOWRkOTM0ZGYxNGM0NTAxOC5iaW5kUG9wdXAocG9wdXBfN2UwY2FkMTQwMzUzNDg0YjlkNmVhNTM3M2JlMmE2YjApCiAgICAgICAgOwoKICAgICAgICAKICAgIAogICAgCiAgICAgICAgICAgIHZhciBtYXJrZXJfZGVhNjlmYmI0YThiNDU1OTgyMDQ0NGFkYTlmZThiY2EgPSBMLm1hcmtlcigKICAgICAgICAgICAgICAgIFstMjkuNDY3OSwgLTUxLjIwMDI5OTk5OTk4OTk5NF0sCiAgICAgICAgICAgICAgICB7fQogICAgICAgICAgICApLmFkZFRvKG1hcF9iMDZjMzE5Y2ZlMzc0MmJiYjFiZTBiMTY5ODQ4NjJjNyk7CiAgICAgICAgCiAgICAKICAgICAgICAgICAgdmFyIGljb25fODhhZDA1MzdiNWUxNDMyMWI0YTkyZDdmYzdmYjY0MWMgPSBMLkF3ZXNvbWVNYXJrZXJzLmljb24oCiAgICAgICAgICAgICAgICB7ImV4dHJhQ2xhc3NlcyI6ICJmYS1yb3RhdGUtMCIsICJpY29uIjogImluZm8tc2lnbiIsICJpY29uQ29sb3IiOiAid2hpdGUiLCAibWFya2VyQ29sb3IiOiAiZ3JlZW4iLCAicHJlZml4IjogImdseXBoaWNvbiJ9CiAgICAgICAgICAgICk7CiAgICAgICAgICAgIG1hcmtlcl9kZWE2OWZiYjRhOGI0NTU5ODIwNDQ0YWRhOWZlOGJjYS5zZXRJY29uKGljb25fODhhZDA1MzdiNWUxNDMyMWI0YTkyZDdmYzdmYjY0MWMpOwogICAgICAgIAogICAgCiAgICAgICAgdmFyIHBvcHVwXzRiNGMzOGZiOTcyNjQxYmY4Nzk0ZjM0OTE1N2Y5M2MzID0gTC5wb3B1cCh7Im1heFdpZHRoIjogIjEwMCUifSk7CgogICAgICAgIAogICAgICAgICAgICB2YXIgaHRtbF8wYjkxMjY1YTJmMmM0NTY3YjM0ZjIxYzhiYmE4ZGVlZSA9ICQoYDxkaXYgaWQ9Imh0bWxfMGI5MTI2NWEyZjJjNDU2N2IzNGYyMWM4YmJhOGRlZWUiIHN0eWxlPSJ3aWR0aDogMTAwLjAlOyBoZWlnaHQ6IDEwMC4wJTsiPkxpbmhhIE5vdmE8L2Rpdj5gKVswXTsKICAgICAgICAgICAgcG9wdXBfNGI0YzM4ZmI5NzI2NDFiZjg3OTRmMzQ5MTU3ZjkzYzMuc2V0Q29udGVudChodG1sXzBiOTEyNjVhMmYyYzQ1NjdiMzRmMjFjOGJiYThkZWVlKTsKICAgICAgICAKCiAgICAgICAgbWFya2VyX2RlYTY5ZmJiNGE4YjQ1NTk4MjA0NDRhZGE5ZmU4YmNhLmJpbmRQb3B1cChwb3B1cF80YjRjMzhmYjk3MjY0MWJmODc5NGYzNDkxNTdmOTNjMykKICAgICAgICA7CgogICAgICAgIAogICAgCiAgICAKICAgICAgICAgICAgdmFyIG1hcmtlcl8wYzA3Y2UwMTI5ZjA0NzhkYjIxYjhiMzA4YjM4MzljMiA9IEwubWFya2VyKAogICAgICAgICAgICAgICAgWy0yOC41Mjk4LCAtNTIuNDY3NTk5OTk5OTg5OTldLAogICAgICAgICAgICAgICAge30KICAgICAgICAgICAgKS5hZGRUbyhtYXBfYjA2YzMxOWNmZTM3NDJiYmIxYmUwYjE2OTg0ODYyYzcpOwogICAgICAgIAogICAgCiAgICAgICAgICAgIHZhciBpY29uXzc3YmJhYTE3OThmZDQ5NWRhNjlmN2FlMTdhYmMyZTE4ID0gTC5Bd2Vzb21lTWFya2Vycy5pY29uKAogICAgICAgICAgICAgICAgeyJleHRyYUNsYXNzZXMiOiAiZmEtcm90YXRlLTAiLCAiaWNvbiI6ICJpbmZvLXNpZ24iLCAiaWNvbkNvbG9yIjogIndoaXRlIiwgIm1hcmtlckNvbG9yIjogImdyZWVuIiwgInByZWZpeCI6ICJnbHlwaGljb24ifQogICAgICAgICAgICApOwogICAgICAgICAgICBtYXJrZXJfMGMwN2NlMDEyOWYwNDc4ZGIyMWI4YjMwOGIzODM5YzIuc2V0SWNvbihpY29uXzc3YmJhYTE3OThmZDQ5NWRhNjlmN2FlMTdhYmMyZTE4KTsKICAgICAgICAKICAgIAogICAgICAgIHZhciBwb3B1cF85MzFiODhhNDdmNGU0YWJlYjdmODIwZTJkNThhMmFiYSA9IEwucG9wdXAoeyJtYXhXaWR0aCI6ICIxMDAlIn0pOwoKICAgICAgICAKICAgICAgICAgICAgdmFyIGh0bWxfNzBmYTE2NGVkYmJlNGE5MTk4MWJiNTFhNDgzMTU1N2QgPSAkKGA8ZGl2IGlkPSJodG1sXzcwZmExNjRlZGJiZTRhOTE5ODFiYjUxYTQ4MzE1NTdkIiBzdHlsZT0id2lkdGg6IDEwMC4wJTsgaGVpZ2h0OiAxMDAuMCU7Ij5OaWNvbGF1IFZlcmd1ZWlybzwvZGl2PmApWzBdOwogICAgICAgICAgICBwb3B1cF85MzFiODhhNDdmNGU0YWJlYjdmODIwZTJkNThhMmFiYS5zZXRDb250ZW50KGh0bWxfNzBmYTE2NGVkYmJlNGE5MTk4MWJiNTFhNDgzMTU1N2QpOwogICAgICAgIAoKICAgICAgICBtYXJrZXJfMGMwN2NlMDEyOWYwNDc4ZGIyMWI4YjMwOGIzODM5YzIuYmluZFBvcHVwKHBvcHVwXzkzMWI4OGE0N2Y0ZTRhYmViN2Y4MjBlMmQ1OGEyYWJhKQogICAgICAgIDsKCiAgICAgICAgCiAgICAKICAgIAogICAgICAgICAgICB2YXIgbWFya2VyXzFjYzdiNjc0M2QwYjQwNDViZmUzZmIzMTgwMjAwZmVhID0gTC5tYXJrZXIoCiAgICAgICAgICAgICAgICBbLTI5LjIxODIsIC01Mi4wMzE5XSwKICAgICAgICAgICAgICAgIHt9CiAgICAgICAgICAgICkuYWRkVG8obWFwX2IwNmMzMTljZmUzNzQyYmJiMWJlMGIxNjk4NDg2MmM3KTsKICAgICAgICAKICAgIAogICAgICAgICAgICB2YXIgaWNvbl8zNzBjMWFkNTMyODk0MzA5YTI1NjI4ZTBjMDY0MTJhNCA9IEwuQXdlc29tZU1hcmtlcnMuaWNvbigKICAgICAgICAgICAgICAgIHsiZXh0cmFDbGFzc2VzIjogImZhLXJvdGF0ZS0wIiwgImljb24iOiAiaW5mby1zaWduIiwgImljb25Db2xvciI6ICJ3aGl0ZSIsICJtYXJrZXJDb2xvciI6ICJncmVlbiIsICJwcmVmaXgiOiAiZ2x5cGhpY29uIn0KICAgICAgICAgICAgKTsKICAgICAgICAgICAgbWFya2VyXzFjYzdiNjc0M2QwYjQwNDViZmUzZmIzMTgwMjAwZmVhLnNldEljb24oaWNvbl8zNzBjMWFkNTMyODk0MzA5YTI1NjI4ZTBjMDY0MTJhNCk7CiAgICAgICAgCiAgICAKICAgICAgICB2YXIgcG9wdXBfZmNmMTg5MDVlMTg5NDYzN2FmNjRmZjQyZGYxMmUwMWMgPSBMLnBvcHVwKHsibWF4V2lkdGgiOiAiMTAwJSJ9KTsKCiAgICAgICAgCiAgICAgICAgICAgIHZhciBodG1sX2MzOWI0MjRmNTM2MjQ1MjM5YzI5OWE3NGRiOWQyMGFkID0gJChgPGRpdiBpZD0iaHRtbF9jMzliNDI0ZjUzNjI0NTIzOWMyOTlhNzRkYjlkMjBhZCIgc3R5bGU9IndpZHRoOiAxMDAuMCU7IGhlaWdodDogMTAwLjAlOyI+Tm92YSBCcsOpc2NpYTwvZGl2PmApWzBdOwogICAgICAgICAgICBwb3B1cF9mY2YxODkwNWUxODk0NjM3YWY2NGZmNDJkZjEyZTAxYy5zZXRDb250ZW50KGh0bWxfYzM5YjQyNGY1MzYyNDUyMzljMjk5YTc0ZGI5ZDIwYWQpOwogICAgICAgIAoKICAgICAgICBtYXJrZXJfMWNjN2I2NzQzZDBiNDA0NWJmZTNmYjMxODAyMDBmZWEuYmluZFBvcHVwKHBvcHVwX2ZjZjE4OTA1ZTE4OTQ2MzdhZjY0ZmY0MmRmMTJlMDFjKQogICAgICAgIDsKCiAgICAgICAgCiAgICAKICAgIAogICAgICAgICAgICB2YXIgbWFya2VyX2MzZTFmNzNlZTFlMzQ4NWZiNGZhNTJmNjI3ZGI0OWVhID0gTC5tYXJrZXIoCiAgICAgICAgICAgICAgICBbLTI5LjE3MzgsIC01Mi4yMTM2XSwKICAgICAgICAgICAgICAgIHt9CiAgICAgICAgICAgICkuYWRkVG8obWFwX2IwNmMzMTljZmUzNzQyYmJiMWJlMGIxNjk4NDg2MmM3KTsKICAgICAgICAKICAgIAogICAgICAgICAgICB2YXIgaWNvbl80NTA0M2QwMGM2Nzk0N2Y4YjE0NGNhOTVkNzRlMjQzZiA9IEwuQXdlc29tZU1hcmtlcnMuaWNvbigKICAgICAgICAgICAgICAgIHsiZXh0cmFDbGFzc2VzIjogImZhLXJvdGF0ZS0wIiwgImljb24iOiAiaW5mby1zaWduIiwgImljb25Db2xvciI6ICJ3aGl0ZSIsICJtYXJrZXJDb2xvciI6ICJncmVlbiIsICJwcmVmaXgiOiAiZ2x5cGhpY29uIn0KICAgICAgICAgICAgKTsKICAgICAgICAgICAgbWFya2VyX2MzZTFmNzNlZTFlMzQ4NWZiNGZhNTJmNjI3ZGI0OWVhLnNldEljb24oaWNvbl80NTA0M2QwMGM2Nzk0N2Y4YjE0NGNhOTVkNzRlMjQzZik7CiAgICAgICAgCiAgICAKICAgICAgICB2YXIgcG9wdXBfZWQ5NjBmYjMzODEwNDkyODlmMTkxMzRlYzNiYmI5MGIgPSBMLnBvcHVwKHsibWF4V2lkdGgiOiAiMTAwJSJ9KTsKCiAgICAgICAgCiAgICAgICAgICAgIHZhciBodG1sXzY4ZDExYmEwMzAwMjRlMGNhZTI0MGYyMmNlODc3NzU4ID0gJChgPGRpdiBpZD0iaHRtbF82OGQxMWJhMDMwMDI0ZTBjYWUyNDBmMjJjZTg3Nzc1OCIgc3R5bGU9IndpZHRoOiAxMDAuMCU7IGhlaWdodDogMTAwLjAlOyI+UG91c28gTm92bzwvZGl2PmApWzBdOwogICAgICAgICAgICBwb3B1cF9lZDk2MGZiMzM4MTA0OTI4OWYxOTEzNGVjM2JiYjkwYi5zZXRDb250ZW50KGh0bWxfNjhkMTFiYTAzMDAyNGUwY2FlMjQwZjIyY2U4Nzc3NTgpOwogICAgICAgIAoKICAgICAgICBtYXJrZXJfYzNlMWY3M2VlMWUzNDg1ZmI0ZmE1MmY2MjdkYjQ5ZWEuYmluZFBvcHVwKHBvcHVwX2VkOTYwZmIzMzgxMDQ5Mjg5ZjE5MTM0ZWMzYmJiOTBiKQogICAgICAgIDsKCiAgICAgICAgCiAgICAKICAgIAogICAgICAgICAgICB2YXIgbWFya2VyXzZmZDgzNWM5YjZiODRkMTU5ODAyNDZlZjI5MDA0MDIwID0gTC5tYXJrZXIoCiAgICAgICAgICAgICAgICBbLTI4LjEyMzMsIC01NC44MzcyOTk5OTk5ODk5OTVdLAogICAgICAgICAgICAgICAge30KICAgICAgICAgICAgKS5hZGRUbyhtYXBfYjA2YzMxOWNmZTM3NDJiYmIxYmUwYjE2OTg0ODYyYzcpOwogICAgICAgIAogICAgCiAgICAgICAgICAgIHZhciBpY29uXzk3NTFjOTY2ZTRlNjQ1ZmU5NGYxNzM2YjEyZDlkNjRlID0gTC5Bd2Vzb21lTWFya2Vycy5pY29uKAogICAgICAgICAgICAgICAgeyJleHRyYUNsYXNzZXMiOiAiZmEtcm90YXRlLTAiLCAiaWNvbiI6ICJpbmZvLXNpZ24iLCAiaWNvbkNvbG9yIjogIndoaXRlIiwgIm1hcmtlckNvbG9yIjogImdyZWVuIiwgInByZWZpeCI6ICJnbHlwaGljb24ifQogICAgICAgICAgICApOwogICAgICAgICAgICBtYXJrZXJfNmZkODM1YzliNmI4NGQxNTk4MDI0NmVmMjkwMDQwMjAuc2V0SWNvbihpY29uXzk3NTFjOTY2ZTRlNjQ1ZmU5NGYxNzM2YjEyZDlkNjRlKTsKICAgICAgICAKICAgIAogICAgICAgIHZhciBwb3B1cF9kYzFkMjJiZTcyMzQ0OGE4ODgwYzQyYmM1NjE0ZjE2NyA9IEwucG9wdXAoeyJtYXhXaWR0aCI6ICIxMDAlIn0pOwoKICAgICAgICAKICAgICAgICAgICAgdmFyIGh0bWxfYmM3NGYwMjQ3YzJmNDM0MTgwMDgyOWFjMGM2ZmMzNTIgPSAkKGA8ZGl2IGlkPSJodG1sX2JjNzRmMDI0N2MyZjQzNDE4MDA4MjlhYzBjNmZjMzUyIiBzdHlsZT0id2lkdGg6IDEwMC4wJTsgaGVpZ2h0OiAxMDAuMCU7Ij5TYWx2YWRvciBkYXMgTWlzc8O1ZXM8L2Rpdj5gKVswXTsKICAgICAgICAgICAgcG9wdXBfZGMxZDIyYmU3MjM0NDhhODg4MGM0MmJjNTYxNGYxNjcuc2V0Q29udGVudChodG1sX2JjNzRmMDI0N2MyZjQzNDE4MDA4MjlhYzBjNmZjMzUyKTsKICAgICAgICAKCiAgICAgICAgbWFya2VyXzZmZDgzNWM5YjZiODRkMTU5ODAyNDZlZjI5MDA0MDIwLmJpbmRQb3B1cChwb3B1cF9kYzFkMjJiZTcyMzQ0OGE4ODgwYzQyYmM1NjE0ZjE2NykKICAgICAgICA7CgogICAgICAgIAogICAgCiAgICAKICAgICAgICAgICAgdmFyIG1hcmtlcl8zZGUyYWI0MGU1YzQ0M2Y4YmQwOGI3Yzc1NjhjODJlYiA9IEwubWFya2VyKAogICAgICAgICAgICAgICAgWy0yOC40OTU2LCAtNTIuMDI2Njk5OTk5OTg5OTk0XSwKICAgICAgICAgICAgICAgIHt9CiAgICAgICAgICAgICkuYWRkVG8obWFwX2IwNmMzMTljZmUzNzQyYmJiMWJlMGIxNjk4NDg2MmM3KTsKICAgICAgICAKICAgIAogICAgICAgICAgICB2YXIgaWNvbl9kM2QzMGIyZjkxMDQ0MmQ1OWJhM2ViOWExNDcyYmIzMyA9IEwuQXdlc29tZU1hcmtlcnMuaWNvbigKICAgICAgICAgICAgICAgIHsiZXh0cmFDbGFzc2VzIjogImZhLXJvdGF0ZS0wIiwgImljb24iOiAiaW5mby1zaWduIiwgImljb25Db2xvciI6ICJ3aGl0ZSIsICJtYXJrZXJDb2xvciI6ICJncmVlbiIsICJwcmVmaXgiOiAiZ2x5cGhpY29uIn0KICAgICAgICAgICAgKTsKICAgICAgICAgICAgbWFya2VyXzNkZTJhYjQwZTVjNDQzZjhiZDA4YjdjNzU2OGM4MmViLnNldEljb24oaWNvbl9kM2QzMGIyZjkxMDQ0MmQ1OWJhM2ViOWExNDcyYmIzMyk7CiAgICAgICAgCiAgICAKICAgICAgICB2YXIgcG9wdXBfMTgyYTg1M2Q5ZTU0NDViZjlhYmJjNzhmMDU0MDU1NjAgPSBMLnBvcHVwKHsibWF4V2lkdGgiOiAiMTAwJSJ9KTsKCiAgICAgICAgCiAgICAgICAgICAgIHZhciBodG1sXzM0Y2M3ZDZmYTk0ODQ0NGY4ZTk3MjkwNTYzNzM1MGU3ID0gJChgPGRpdiBpZD0iaHRtbF8zNGNjN2Q2ZmE5NDg0NDRmOGU5NzI5MDU2MzczNTBlNyIgc3R5bGU9IndpZHRoOiAxMDAuMCU7IGhlaWdodDogMTAwLjAlOyI+U2FudG8gQW50w7RuaW8gZG8gUGFsbWE8L2Rpdj5gKVswXTsKICAgICAgICAgICAgcG9wdXBfMTgyYTg1M2Q5ZTU0NDViZjlhYmJjNzhmMDU0MDU1NjAuc2V0Q29udGVudChodG1sXzM0Y2M3ZDZmYTk0ODQ0NGY4ZTk3MjkwNTYzNzM1MGU3KTsKICAgICAgICAKCiAgICAgICAgbWFya2VyXzNkZTJhYjQwZTVjNDQzZjhiZDA4YjdjNzU2OGM4MmViLmJpbmRQb3B1cChwb3B1cF8xODJhODUzZDllNTQ0NWJmOWFiYmM3OGYwNTQwNTU2MCkKICAgICAgICA7CgogICAgICAgIAogICAgCiAgICAKICAgICAgICAgICAgdmFyIG1hcmtlcl9mOWRhNWQ0ZWM3MjM0MjFlYmRjYWFjNWMyMzgwNzNhMyA9IEwubWFya2VyKAogICAgICAgICAgICAgICAgWy0yNy45MDczOTk5OTk5OSwgLTUxLjY0MzNdLAogICAgICAgICAgICAgICAge30KICAgICAgICAgICAgKS5hZGRUbyhtYXBfYjA2YzMxOWNmZTM3NDJiYmIxYmUwYjE2OTg0ODYyYzcpOwogICAgICAgIAogICAgCiAgICAgICAgICAgIHZhciBpY29uXzlhYTA5NmExZDNmMzQzNzhhMTVlYjdkNTUwY2YwYzRkID0gTC5Bd2Vzb21lTWFya2Vycy5pY29uKAogICAgICAgICAgICAgICAgeyJleHRyYUNsYXNzZXMiOiAiZmEtcm90YXRlLTAiLCAiaWNvbiI6ICJpbmZvLXNpZ24iLCAiaWNvbkNvbG9yIjogIndoaXRlIiwgIm1hcmtlckNvbG9yIjogImdyZWVuIiwgInByZWZpeCI6ICJnbHlwaGljb24ifQogICAgICAgICAgICApOwogICAgICAgICAgICBtYXJrZXJfZjlkYTVkNGVjNzIzNDIxZWJkY2FhYzVjMjM4MDczYTMuc2V0SWNvbihpY29uXzlhYTA5NmExZDNmMzQzNzhhMTVlYjdkNTUwY2YwYzRkKTsKICAgICAgICAKICAgIAogICAgICAgIHZhciBwb3B1cF85YWJjOTc0MDA1Y2U0MjhjYWNkZjcyYjI0MmRiZDA0ZCA9IEwucG9wdXAoeyJtYXhXaWR0aCI6ICIxMDAlIn0pOwoKICAgICAgICAKICAgICAgICAgICAgdmFyIGh0bWxfYTRiYTZkY2U5MmE4NDQ5ZWFjNzZmNDQyZDQzZDNlMDUgPSAkKGA8ZGl2IGlkPSJodG1sX2E0YmE2ZGNlOTJhODQ0OWVhYzc2ZjQ0MmQ0M2QzZTA1IiBzdHlsZT0id2lkdGg6IDEwMC4wJTsgaGVpZ2h0OiAxMDAuMCU7Ij5TYW50byBFeHBlZGl0byBkbyBTdWw8L2Rpdj5gKVswXTsKICAgICAgICAgICAgcG9wdXBfOWFiYzk3NDAwNWNlNDI4Y2FjZGY3MmIyNDJkYmQwNGQuc2V0Q29udGVudChodG1sX2E0YmE2ZGNlOTJhODQ0OWVhYzc2ZjQ0MmQ0M2QzZTA1KTsKICAgICAgICAKCiAgICAgICAgbWFya2VyX2Y5ZGE1ZDRlYzcyMzQyMWViZGNhYWM1YzIzODA3M2EzLmJpbmRQb3B1cChwb3B1cF85YWJjOTc0MDA1Y2U0MjhjYWNkZjcyYjI0MmRiZDA0ZCkKICAgICAgICA7CgogICAgICAgIAogICAgCiAgICAKICAgICAgICAgICAgdmFyIG1hcmtlcl84MzQzODNhMTJmNDM0ZWVlYmMwZTkzNjQ3N2I4ODA0ZSA9IEwubWFya2VyKAogICAgICAgICAgICAgICAgWy0yNy43MjUxLCAtNTQuMTI3NDk5OTk5OTg5OTldLAogICAgICAgICAgICAgICAge30KICAgICAgICAgICAgKS5hZGRUbyhtYXBfYjA2YzMxOWNmZTM3NDJiYmIxYmUwYjE2OTg0ODYyYzcpOwogICAgICAgIAogICAgCiAgICAgICAgICAgIHZhciBpY29uXzJjNjBlYTEyY2NkNDRiYmU4YmE5MjBmNWQxNWZmMzg4ID0gTC5Bd2Vzb21lTWFya2Vycy5pY29uKAogICAgICAgICAgICAgICAgeyJleHRyYUNsYXNzZXMiOiAiZmEtcm90YXRlLTAiLCAiaWNvbiI6ICJpbmZvLXNpZ24iLCAiaWNvbkNvbG9yIjogIndoaXRlIiwgIm1hcmtlckNvbG9yIjogImdyZWVuIiwgInByZWZpeCI6ICJnbHlwaGljb24ifQogICAgICAgICAgICApOwogICAgICAgICAgICBtYXJrZXJfODM0MzgzYTEyZjQzNGVlZWJjMGU5MzY0NzdiODgwNGUuc2V0SWNvbihpY29uXzJjNjBlYTEyY2NkNDRiYmU4YmE5MjBmNWQxNWZmMzg4KTsKICAgICAgICAKICAgIAogICAgICAgIHZhciBwb3B1cF9iY2EwYjA2MTdlODU0N2IzYWE0ODRlY2JkNWJmOTRmYiA9IEwucG9wdXAoeyJtYXhXaWR0aCI6ICIxMDAlIn0pOwoKICAgICAgICAKICAgICAgICAgICAgdmFyIGh0bWxfMzkyNjQ2MTc3NTNjNDZmZmJkZWQzNDYxYjlmYjVlZWQgPSAkKGA8ZGl2IGlkPSJodG1sXzM5MjY0NjE3NzUzYzQ2ZmZiZGVkMzQ2MWI5ZmI1ZWVkIiBzdHlsZT0id2lkdGg6IDEwMC4wJTsgaGVpZ2h0OiAxMDAuMCU7Ij5Tw6NvIEpvc8OpIGRvIEluaGFjb3LDoTwvZGl2PmApWzBdOwogICAgICAgICAgICBwb3B1cF9iY2EwYjA2MTdlODU0N2IzYWE0ODRlY2JkNWJmOTRmYi5zZXRDb250ZW50KGh0bWxfMzkyNjQ2MTc3NTNjNDZmZmJkZWQzNDYxYjlmYjVlZWQpOwogICAgICAgIAoKICAgICAgICBtYXJrZXJfODM0MzgzYTEyZjQzNGVlZWJjMGU5MzY0NzdiODgwNGUuYmluZFBvcHVwKHBvcHVwX2JjYTBiMDYxN2U4NTQ3YjNhYTQ4NGVjYmQ1YmY5NGZiKQogICAgICAgIDsKCiAgICAgICAgCiAgICAKICAgIAogICAgICAgICAgICB2YXIgbWFya2VyXzgwMTgzOTRhMGRmNjQ2NDU5ZWIwNzcyMzMzMWU1ZGMwID0gTC5tYXJrZXIoCiAgICAgICAgICAgICAgICBbLTI4LjQ3NTgsIC01MS44NDQ3XSwKICAgICAgICAgICAgICAgIHt9CiAgICAgICAgICAgICkuYWRkVG8obWFwX2IwNmMzMTljZmUzNzQyYmJiMWJlMGIxNjk4NDg2MmM3KTsKICAgICAgICAKICAgIAogICAgICAgICAgICB2YXIgaWNvbl80MDA0MTMwZmE1MzA0NTJiOGI0ZGQ4NWJjYTY0NGM2MyA9IEwuQXdlc29tZU1hcmtlcnMuaWNvbigKICAgICAgICAgICAgICAgIHsiZXh0cmFDbGFzc2VzIjogImZhLXJvdGF0ZS0wIiwgImljb24iOiAiaW5mby1zaWduIiwgImljb25Db2xvciI6ICJ3aGl0ZSIsICJtYXJrZXJDb2xvciI6ICJncmVlbiIsICJwcmVmaXgiOiAiZ2x5cGhpY29uIn0KICAgICAgICAgICAgKTsKICAgICAgICAgICAgbWFya2VyXzgwMTgzOTRhMGRmNjQ2NDU5ZWIwNzcyMzMzMWU1ZGMwLnNldEljb24oaWNvbl80MDA0MTMwZmE1MzA0NTJiOGI0ZGQ4NWJjYTY0NGM2Myk7CiAgICAgICAgCiAgICAKICAgICAgICB2YXIgcG9wdXBfOWE4OTQ2MGIyM2E0NDM2Mjk2YmVkODI2YzY4YjI3ZGYgPSBMLnBvcHVwKHsibWF4V2lkdGgiOiAiMTAwJSJ9KTsKCiAgICAgICAgCiAgICAgICAgICAgIHZhciBodG1sXzQzMzg3NDM3ZjkxNDQzZTA4NGExZDViZjBhMDA1MjlkID0gJChgPGRpdiBpZD0iaHRtbF80MzM4NzQzN2Y5MTQ0M2UwODRhMWQ1YmYwYTAwNTI5ZCIgc3R5bGU9IndpZHRoOiAxMDAuMCU7IGhlaWdodDogMTAwLjAlOyI+VmFuaW5pPC9kaXY+YClbMF07CiAgICAgICAgICAgIHBvcHVwXzlhODk0NjBiMjNhNDQzNjI5NmJlZDgyNmM2OGIyN2RmLnNldENvbnRlbnQoaHRtbF80MzM4NzQzN2Y5MTQ0M2UwODRhMWQ1YmYwYTAwNTI5ZCk7CiAgICAgICAgCgogICAgICAgIG1hcmtlcl84MDE4Mzk0YTBkZjY0NjQ1OWViMDc3MjMzMzFlNWRjMC5iaW5kUG9wdXAocG9wdXBfOWE4OTQ2MGIyM2E0NDM2Mjk2YmVkODI2YzY4YjI3ZGYpCiAgICAgICAgOwoKICAgICAgICAKICAgIAogICAgCiAgICAgICAgICAgIHZhciBtYXJrZXJfZjkwYzdjMzBjNjY2NGU2OGExZGEzNTQ4M2Y2YmFmMjcgPSBMLm1hcmtlcigKICAgICAgICAgICAgICAgIFstMjguODA1MTk5OTk5OTkwMDAyLCAtNTEuNzk0Nl0sCiAgICAgICAgICAgICAgICB7fQogICAgICAgICAgICApLmFkZFRvKG1hcF9iMDZjMzE5Y2ZlMzc0MmJiYjFiZTBiMTY5ODQ4NjJjNyk7CiAgICAgICAgCiAgICAKICAgICAgICAgICAgdmFyIGljb25fOTBjY2MwZTJkOWJkNDU2ZGJkYjY3YTM3MWMxMWQ2MWYgPSBMLkF3ZXNvbWVNYXJrZXJzLmljb24oCiAgICAgICAgICAgICAgICB7ImV4dHJhQ2xhc3NlcyI6ICJmYS1yb3RhdGUtMCIsICJpY29uIjogImluZm8tc2lnbiIsICJpY29uQ29sb3IiOiAid2hpdGUiLCAibWFya2VyQ29sb3IiOiAiZ3JlZW4iLCAicHJlZml4IjogImdseXBoaWNvbiJ9CiAgICAgICAgICAgICk7CiAgICAgICAgICAgIG1hcmtlcl9mOTBjN2MzMGM2NjY0ZTY4YTFkYTM1NDgzZjZiYWYyNy5zZXRJY29uKGljb25fOTBjY2MwZTJkOWJkNDU2ZGJkYjY3YTM3MWMxMWQ2MWYpOwogICAgICAgIAogICAgCiAgICAgICAgdmFyIHBvcHVwX2EzYjU5NTNiYzg2ZjQ3YjJiYjBkM2VmZDAwN2EyNjkxID0gTC5wb3B1cCh7Im1heFdpZHRoIjogIjEwMCUifSk7CgogICAgICAgIAogICAgICAgICAgICB2YXIgaHRtbF9mMzdkM2E3ZjlmYjA0M2E1ODljMTkxYWQ3MmU4MGY5NSA9ICQoYDxkaXYgaWQ9Imh0bWxfZjM3ZDNhN2Y5ZmIwNDNhNTg5YzE5MWFkNzJlODBmOTUiIHN0eWxlPSJ3aWR0aDogMTAwLjAlOyBoZWlnaHQ6IDEwMC4wJTsiPlZpc3RhIEFsZWdyZSBkbyBQcmF0YTwvZGl2PmApWzBdOwogICAgICAgICAgICBwb3B1cF9hM2I1OTUzYmM4NmY0N2IyYmIwZDNlZmQwMDdhMjY5MS5zZXRDb250ZW50KGh0bWxfZjM3ZDNhN2Y5ZmIwNDNhNTg5YzE5MWFkNzJlODBmOTUpOwogICAgICAgIAoKICAgICAgICBtYXJrZXJfZjkwYzdjMzBjNjY2NGU2OGExZGEzNTQ4M2Y2YmFmMjcuYmluZFBvcHVwKHBvcHVwX2EzYjU5NTNiYzg2ZjQ3YjJiYjBkM2VmZDAwN2EyNjkxKQogICAgICAgIDsKCiAgICAgICAgCiAgICAKICAgIAogICAgICAgICAgICB2YXIgbWFya2VyX2U4MmE4M2E4MDc5YzQxMzdiZmI1MGQ1MjU5ZWYxZjQxID0gTC5tYXJrZXIoCiAgICAgICAgICAgICAgICBbLTMwLjkwOTMsIC01MS41MDQ2XSwKICAgICAgICAgICAgICAgIHt9CiAgICAgICAgICAgICkuYWRkVG8obWFwX2IwNmMzMTljZmUzNzQyYmJiMWJlMGIxNjk4NDg2MmM3KTsKICAgICAgICAKICAgIAogICAgICAgICAgICB2YXIgaWNvbl9jZWU0ZmNjNGRhMjY0MDU1YWU1ZTRlMzY4ZDVmMDFkNyA9IEwuQXdlc29tZU1hcmtlcnMuaWNvbigKICAgICAgICAgICAgICAgIHsiZXh0cmFDbGFzc2VzIjogImZhLXJvdGF0ZS0wIiwgImljb24iOiAiaW5mby1zaWduIiwgImljb25Db2xvciI6ICJ3aGl0ZSIsICJtYXJrZXJDb2xvciI6ICJyZWQiLCAicHJlZml4IjogImdseXBoaWNvbiJ9CiAgICAgICAgICAgICk7CiAgICAgICAgICAgIG1hcmtlcl9lODJhODNhODA3OWM0MTM3YmZiNTBkNTI1OWVmMWY0MS5zZXRJY29uKGljb25fY2VlNGZjYzRkYTI2NDA1NWFlNWU0ZTM2OGQ1ZjAxZDcpOwogICAgICAgIAogICAgCiAgICAgICAgdmFyIHBvcHVwXzRkZDNhZDk1YTM1MDRjMGRiNzk0OGNlMjI2NmZiYTEzID0gTC5wb3B1cCh7Im1heFdpZHRoIjogIjEwMCUifSk7CgogICAgICAgIAogICAgICAgICAgICB2YXIgaHRtbF8zMjYxOTllODNiZmI0NWRlYTNhNjNiZGFlNTUxZmNlYyA9ICQoYDxkaXYgaWQ9Imh0bWxfMzI2MTk5ZTgzYmZiNDVkZWEzYTYzYmRhZTU1MWZjZWMiIHN0eWxlPSJ3aWR0aDogMTAwLjAlOyBoZWlnaHQ6IDEwMC4wJTsiPkFyYW1iYXLDqTwvZGl2PmApWzBdOwogICAgICAgICAgICBwb3B1cF80ZGQzYWQ5NWEzNTA0YzBkYjc5NDhjZTIyNjZmYmExMy5zZXRDb250ZW50KGh0bWxfMzI2MTk5ZTgzYmZiNDVkZWEzYTYzYmRhZTU1MWZjZWMpOwogICAgICAgIAoKICAgICAgICBtYXJrZXJfZTgyYTgzYTgwNzljNDEzN2JmYjUwZDUyNTllZjFmNDEuYmluZFBvcHVwKHBvcHVwXzRkZDNhZDk1YTM1MDRjMGRiNzk0OGNlMjI2NmZiYTEzKQogICAgICAgIDsKCiAgICAgICAgCiAgICAKICAgIAogICAgICAgICAgICB2YXIgbWFya2VyXzA4ZDE0ZmFhYTQxYTQ2NzQ4YTI5MjRmNmFlZmUyMjUxID0gTC5tYXJrZXIoCiAgICAgICAgICAgICAgICBbLTMwLjI0MTksIC01MC4yMzM2XSwKICAgICAgICAgICAgICAgIHt9CiAgICAgICAgICAgICkuYWRkVG8obWFwX2IwNmMzMTljZmUzNzQyYmJiMWJlMGIxNjk4NDg2MmM3KTsKICAgICAgICAKICAgIAogICAgICAgICAgICB2YXIgaWNvbl9hZmIzMjdkYjI0NjY0MTAwOTg0M2Q5YWRlMTU1NDgzZCA9IEwuQXdlc29tZU1hcmtlcnMuaWNvbigKICAgICAgICAgICAgICAgIHsiZXh0cmFDbGFzc2VzIjogImZhLXJvdGF0ZS0wIiwgImljb24iOiAiaW5mby1zaWduIiwgImljb25Db2xvciI6ICJ3aGl0ZSIsICJtYXJrZXJDb2xvciI6ICJyZWQiLCAicHJlZml4IjogImdseXBoaWNvbiJ9CiAgICAgICAgICAgICk7CiAgICAgICAgICAgIG1hcmtlcl8wOGQxNGZhYWE0MWE0Njc0OGEyOTI0ZjZhZWZlMjI1MS5zZXRJY29uKGljb25fYWZiMzI3ZGIyNDY2NDEwMDk4NDNkOWFkZTE1NTQ4M2QpOwogICAgICAgIAogICAgCiAgICAgICAgdmFyIHBvcHVwXzQ4ZWRmNDMyOWI4MjQ4MDI4MzE5NTNjYzU0NDMzNzlkID0gTC5wb3B1cCh7Im1heFdpZHRoIjogIjEwMCUifSk7CgogICAgICAgIAogICAgICAgICAgICB2YXIgaHRtbF84MzAyOTc4Njk5Mjg0ZmYxODllMTdiZmZlNTlmZjg3OCA9ICQoYDxkaXYgaWQ9Imh0bWxfODMwMjk3ODY5OTI4NGZmMTg5ZTE3YmZmZTU5ZmY4NzgiIHN0eWxlPSJ3aWR0aDogMTAwLjAlOyBoZWlnaHQ6IDEwMC4wJTsiPkJhbG5lw6FyaW8gUGluaGFsPC9kaXY+YClbMF07CiAgICAgICAgICAgIHBvcHVwXzQ4ZWRmNDMyOWI4MjQ4MDI4MzE5NTNjYzU0NDMzNzlkLnNldENvbnRlbnQoaHRtbF84MzAyOTc4Njk5Mjg0ZmYxODllMTdiZmZlNTlmZjg3OCk7CiAgICAgICAgCgogICAgICAgIG1hcmtlcl8wOGQxNGZhYWE0MWE0Njc0OGEyOTI0ZjZhZWZlMjI1MS5iaW5kUG9wdXAocG9wdXBfNDhlZGY0MzI5YjgyNDgwMjgzMTk1M2NjNTQ0MzM3OWQpCiAgICAgICAgOwoKICAgICAgICAKICAgIAogICAgCiAgICAgICAgICAgIHZhciBtYXJrZXJfZDU1NGFmYjcwYTk2NGRmNjk0MDVjN2E0ZDkyNjY2NjAgPSBMLm1hcmtlcigKICAgICAgICAgICAgICAgIFstMzAuMjAyOSwgLTU3LjU0OTddLAogICAgICAgICAgICAgICAge30KICAgICAgICAgICAgKS5hZGRUbyhtYXBfYjA2YzMxOWNmZTM3NDJiYmIxYmUwYjE2OTg0ODYyYzcpOwogICAgICAgIAogICAgCiAgICAgICAgICAgIHZhciBpY29uX2EyOTk1ZWFjMmFmYTQzMjM5NGFkYTVkZmU5Zjg3MWU5ID0gTC5Bd2Vzb21lTWFya2Vycy5pY29uKAogICAgICAgICAgICAgICAgeyJleHRyYUNsYXNzZXMiOiAiZmEtcm90YXRlLTAiLCAiaWNvbiI6ICJpbmZvLXNpZ24iLCAiaWNvbkNvbG9yIjogIndoaXRlIiwgIm1hcmtlckNvbG9yIjogInJlZCIsICJwcmVmaXgiOiAiZ2x5cGhpY29uIn0KICAgICAgICAgICAgKTsKICAgICAgICAgICAgbWFya2VyX2Q1NTRhZmI3MGE5NjRkZjY5NDA1YzdhNGQ5MjY2NjYwLnNldEljb24oaWNvbl9hMjk5NWVhYzJhZmE0MzIzOTRhZGE1ZGZlOWY4NzFlOSk7CiAgICAgICAgCiAgICAKICAgICAgICB2YXIgcG9wdXBfNmJhNTIxZDU1ZWZkNDNjMDkwOGNkNjgxNDJmNjQwMmMgPSBMLnBvcHVwKHsibWF4V2lkdGgiOiAiMTAwJSJ9KTsKCiAgICAgICAgCiAgICAgICAgICAgIHZhciBodG1sXzdhMTI5MjI5Mzk3YzQ5ZDBhNzU0ZjMyY2M3NDE3NzVkID0gJChgPGRpdiBpZD0iaHRtbF83YTEyOTIyOTM5N2M0OWQwYTc1NGYzMmNjNzQxNzc1ZCIgc3R5bGU9IndpZHRoOiAxMDAuMCU7IGhlaWdodDogMTAwLjAlOyI+QmFycmEgZG8gUXVhcmHDrTwvZGl2PmApWzBdOwogICAgICAgICAgICBwb3B1cF82YmE1MjFkNTVlZmQ0M2MwOTA4Y2Q2ODE0MmY2NDAyYy5zZXRDb250ZW50KGh0bWxfN2ExMjkyMjkzOTdjNDlkMGE3NTRmMzJjYzc0MTc3NWQpOwogICAgICAgIAoKICAgICAgICBtYXJrZXJfZDU1NGFmYjcwYTk2NGRmNjk0MDVjN2E0ZDkyNjY2NjAuYmluZFBvcHVwKHBvcHVwXzZiYTUyMWQ1NWVmZDQzYzA5MDhjZDY4MTQyZjY0MDJjKQogICAgICAgIDsKCiAgICAgICAgCiAgICAKICAgIAogICAgICAgICAgICB2YXIgbWFya2VyXzRlZjhjM2I1MTk4MDQ3NzFiOWZlYTcxZGVhZmNjOGU1ID0gTC5tYXJrZXIoCiAgICAgICAgICAgICAgICBbLTI4LjI5MDUsIC01NC42NDU0XSwKICAgICAgICAgICAgICAgIHt9CiAgICAgICAgICAgICkuYWRkVG8obWFwX2IwNmMzMTljZmUzNzQyYmJiMWJlMGIxNjk4NDg2MmM3KTsKICAgICAgICAKICAgIAogICAgICAgICAgICB2YXIgaWNvbl8wNDZiM2I4OTM0ZDQ0NTUwOGUzZjdmZmQ1MzVlYzg4OCA9IEwuQXdlc29tZU1hcmtlcnMuaWNvbigKICAgICAgICAgICAgICAgIHsiZXh0cmFDbGFzc2VzIjogImZhLXJvdGF0ZS0wIiwgImljb24iOiAiaW5mby1zaWduIiwgImljb25Db2xvciI6ICJ3aGl0ZSIsICJtYXJrZXJDb2xvciI6ICJyZWQiLCAicHJlZml4IjogImdseXBoaWNvbiJ9CiAgICAgICAgICAgICk7CiAgICAgICAgICAgIG1hcmtlcl80ZWY4YzNiNTE5ODA0NzcxYjlmZWE3MWRlYWZjYzhlNS5zZXRJY29uKGljb25fMDQ2YjNiODkzNGQ0NDU1MDhlM2Y3ZmZkNTM1ZWM4ODgpOwogICAgICAgIAogICAgCiAgICAgICAgdmFyIHBvcHVwX2I2ODczNzc2Nzc3ZDRhMmI4MDExOWE3OTE3NWY0YzgxID0gTC5wb3B1cCh7Im1heFdpZHRoIjogIjEwMCUifSk7CgogICAgICAgIAogICAgICAgICAgICB2YXIgaHRtbF80MDA0ZWU3OWQ4YWQ0ZjUzODY3MWUxNzQ1NDY0Yjg5OSA9ICQoYDxkaXYgaWQ9Imh0bWxfNDAwNGVlNzlkOGFkNGY1Mzg2NzFlMTc0NTQ2NGI4OTkiIHN0eWxlPSJ3aWR0aDogMTAwLjAlOyBoZWlnaHQ6IDEwMC4wJTsiPkNhaWJhdMOpPC9kaXY+YClbMF07CiAgICAgICAgICAgIHBvcHVwX2I2ODczNzc2Nzc3ZDRhMmI4MDExOWE3OTE3NWY0YzgxLnNldENvbnRlbnQoaHRtbF80MDA0ZWU3OWQ4YWQ0ZjUzODY3MWUxNzQ1NDY0Yjg5OSk7CiAgICAgICAgCgogICAgICAgIG1hcmtlcl80ZWY4YzNiNTE5ODA0NzcxYjlmZWE3MWRlYWZjYzhlNS5iaW5kUG9wdXAocG9wdXBfYjY4NzM3NzY3NzdkNGEyYjgwMTE5YTc5MTc1ZjRjODEpCiAgICAgICAgOwoKICAgICAgICAKICAgIAogICAgCiAgICAgICAgICAgIHZhciBtYXJrZXJfNDM3YzM1OWRhYjA3NDdiZWFiMGMxYzcwNGE3OTMzZGIgPSBMLm1hcmtlcigKICAgICAgICAgICAgICAgIFstMzEuNzU2NDk5OTk5OTksIC01Mi40ODg5XSwKICAgICAgICAgICAgICAgIHt9CiAgICAgICAgICAgICkuYWRkVG8obWFwX2IwNmMzMTljZmUzNzQyYmJiMWJlMGIxNjk4NDg2MmM3KTsKICAgICAgICAKICAgIAogICAgICAgICAgICB2YXIgaWNvbl8wOGIxNzU2YzhhMzc0ODk1YjcwZGI4OWQ1YzM2MWE2MyA9IEwuQXdlc29tZU1hcmtlcnMuaWNvbigKICAgICAgICAgICAgICAgIHsiZXh0cmFDbGFzc2VzIjogImZhLXJvdGF0ZS0wIiwgImljb24iOiAiaW5mby1zaWduIiwgImljb25Db2xvciI6ICJ3aGl0ZSIsICJtYXJrZXJDb2xvciI6ICJyZWQiLCAicHJlZml4IjogImdseXBoaWNvbiJ9CiAgICAgICAgICAgICk7CiAgICAgICAgICAgIG1hcmtlcl80MzdjMzU5ZGFiMDc0N2JlYWIwYzFjNzA0YTc5MzNkYi5zZXRJY29uKGljb25fMDhiMTc1NmM4YTM3NDg5NWI3MGRiODlkNWMzNjFhNjMpOwogICAgICAgIAogICAgCiAgICAgICAgdmFyIHBvcHVwX2QyOTE2YWU1OWZmZDRmYjJiZjRiYmZmZDE4YjRlMTNjID0gTC5wb3B1cCh7Im1heFdpZHRoIjogIjEwMCUifSk7CgogICAgICAgIAogICAgICAgICAgICB2YXIgaHRtbF9jNTkyNDBiNzE5NzI0ZGRhYjIzMzJiZGNlNzNkZTZkZSA9ICQoYDxkaXYgaWQ9Imh0bWxfYzU5MjQwYjcxOTcyNGRkYWIyMzMyYmRjZTczZGU2ZGUiIHN0eWxlPSJ3aWR0aDogMTAwLjAlOyBoZWlnaHQ6IDEwMC4wJTsiPkNhcMOjbyBkbyBMZcOjbzwvZGl2PmApWzBdOwogICAgICAgICAgICBwb3B1cF9kMjkxNmFlNTlmZmQ0ZmIyYmY0YmJmZmQxOGI0ZTEzYy5zZXRDb250ZW50KGh0bWxfYzU5MjQwYjcxOTcyNGRkYWIyMzMyYmRjZTczZGU2ZGUpOwogICAgICAgIAoKICAgICAgICBtYXJrZXJfNDM3YzM1OWRhYjA3NDdiZWFiMGMxYzcwNGE3OTMzZGIuYmluZFBvcHVwKHBvcHVwX2QyOTE2YWU1OWZmZDRmYjJiZjRiYmZmZDE4YjRlMTNjKQogICAgICAgIDsKCiAgICAgICAgCiAgICAKICAgIAogICAgICAgICAgICB2YXIgbWFya2VyXzUzMzdkYmUzNzM5YzRkMzJhODI4MjYxYTQ0MjU0MmIxID0gTC5tYXJrZXIoCiAgICAgICAgICAgICAgICBbLTMzLjY4NjU5OTk5OTk5LCAtNTMuNDU5NF0sCiAgICAgICAgICAgICAgICB7fQogICAgICAgICAgICApLmFkZFRvKG1hcF9iMDZjMzE5Y2ZlMzc0MmJiYjFiZTBiMTY5ODQ4NjJjNyk7CiAgICAgICAgCiAgICAKICAgICAgICAgICAgdmFyIGljb25fN2MxMjM0YzdjYzg3NGMzOTg5NTVkNDllZWUzNTgxYTkgPSBMLkF3ZXNvbWVNYXJrZXJzLmljb24oCiAgICAgICAgICAgICAgICB7ImV4dHJhQ2xhc3NlcyI6ICJmYS1yb3RhdGUtMCIsICJpY29uIjogImluZm8tc2lnbiIsICJpY29uQ29sb3IiOiAid2hpdGUiLCAibWFya2VyQ29sb3IiOiAicmVkIiwgInByZWZpeCI6ICJnbHlwaGljb24ifQogICAgICAgICAgICApOwogICAgICAgICAgICBtYXJrZXJfNTMzN2RiZTM3MzljNGQzMmE4MjgyNjFhNDQyNTQyYjEuc2V0SWNvbihpY29uXzdjMTIzNGM3Y2M4NzRjMzk4OTU1ZDQ5ZWVlMzU4MWE5KTsKICAgICAgICAKICAgIAogICAgICAgIHZhciBwb3B1cF84NzJiYjMyZTQ4NzU0NDljODc2ZmZjOTRjZmVjNmYwOSA9IEwucG9wdXAoeyJtYXhXaWR0aCI6ICIxMDAlIn0pOwoKICAgICAgICAKICAgICAgICAgICAgdmFyIGh0bWxfZmZiYWMzMThkYTg5NGQ5ZThkYWEwYzcwMGRkYTdiZDQgPSAkKGA8ZGl2IGlkPSJodG1sX2ZmYmFjMzE4ZGE4OTRkOWU4ZGFhMGM3MDBkZGE3YmQ0IiBzdHlsZT0id2lkdGg6IDEwMC4wJTsgaGVpZ2h0OiAxMDAuMCU7Ij5DaHXDrTwvZGl2PmApWzBdOwogICAgICAgICAgICBwb3B1cF84NzJiYjMyZTQ4NzU0NDljODc2ZmZjOTRjZmVjNmYwOS5zZXRDb250ZW50KGh0bWxfZmZiYWMzMThkYTg5NGQ5ZThkYWEwYzcwMGRkYTdiZDQpOwogICAgICAgIAoKICAgICAgICBtYXJrZXJfNTMzN2RiZTM3MzljNGQzMmE4MjgyNjFhNDQyNTQyYjEuYmluZFBvcHVwKHBvcHVwXzg3MmJiMzJlNDg3NTQ0OWM4NzZmZmM5NGNmZWM2ZjA5KQogICAgICAgIDsKCiAgICAgICAgCiAgICAKICAgIAogICAgICAgICAgICB2YXIgbWFya2VyXzE5OGZkZWI2Y2ZjZDQwZjQ5OGFjNWY1MzEzNzY3MWJkID0gTC5tYXJrZXIoCiAgICAgICAgICAgICAgICBbLTMwLjA4NDcsIC01MS42MTg2OTk5OTk5ODk5OV0sCiAgICAgICAgICAgICAgICB7fQogICAgICAgICAgICApLmFkZFRvKG1hcF9iMDZjMzE5Y2ZlMzc0MmJiYjFiZTBiMTY5ODQ4NjJjNyk7CiAgICAgICAgCiAgICAKICAgICAgICAgICAgdmFyIGljb25fMGZjM2Q2YjBiYmMyNDhhMDkyMzVkNjYzOTA2NjkzNjcgPSBMLkF3ZXNvbWVNYXJrZXJzLmljb24oCiAgICAgICAgICAgICAgICB7ImV4dHJhQ2xhc3NlcyI6ICJmYS1yb3RhdGUtMCIsICJpY29uIjogImluZm8tc2lnbiIsICJpY29uQ29sb3IiOiAid2hpdGUiLCAibWFya2VyQ29sb3IiOiAicmVkIiwgInByZWZpeCI6ICJnbHlwaGljb24ifQogICAgICAgICAgICApOwogICAgICAgICAgICBtYXJrZXJfMTk4ZmRlYjZjZmNkNDBmNDk4YWM1ZjUzMTM3NjcxYmQuc2V0SWNvbihpY29uXzBmYzNkNmIwYmJjMjQ4YTA5MjM1ZDY2MzkwNjY5MzY3KTsKICAgICAgICAKICAgIAogICAgICAgIHZhciBwb3B1cF9hODkwYWI3YmExYzg0YWVhYWU4OGJkZmFkYzMyYmU1YSA9IEwucG9wdXAoeyJtYXhXaWR0aCI6ICIxMDAlIn0pOwoKICAgICAgICAKICAgICAgICAgICAgdmFyIGh0bWxfMWFjNzQ4ZDgyNmZhNGU4ODljYjQxODJlNThiMzI1MzQgPSAkKGA8ZGl2IGlkPSJodG1sXzFhYzc0OGQ4MjZmYTRlODg5Y2I0MTgyZTU4YjMyNTM0IiBzdHlsZT0id2lkdGg6IDEwMC4wJTsgaGVpZ2h0OiAxMDAuMCU7Ij5FbGRvcmFkbyBkbyBTdWw8L2Rpdj5gKVswXTsKICAgICAgICAgICAgcG9wdXBfYTg5MGFiN2JhMWM4NGFlYWFlODhiZGZhZGMzMmJlNWEuc2V0Q29udGVudChodG1sXzFhYzc0OGQ4MjZmYTRlODg5Y2I0MTgyZTU4YjMyNTM0KTsKICAgICAgICAKCiAgICAgICAgbWFya2VyXzE5OGZkZWI2Y2ZjZDQwZjQ5OGFjNWY1MzEzNzY3MWJkLmJpbmRQb3B1cChwb3B1cF9hODkwYWI3YmExYzg0YWVhYWU4OGJkZmFkYzMyYmU1YSkKICAgICAgICA7CgogICAgICAgIAogICAgCiAgICAKICAgICAgICAgICAgdmFyIG1hcmtlcl9jN2E5Y2RmYmI0YTg0NGEyYTgzNzc5MTdkYmM1NDdlOSA9IEwubWFya2VyKAogICAgICAgICAgICAgICAgWy0zMS40MDY3LCAtNTMuODY2N10sCiAgICAgICAgICAgICAgICB7fQogICAgICAgICAgICApLmFkZFRvKG1hcF9iMDZjMzE5Y2ZlMzc0MmJiYjFiZTBiMTY5ODQ4NjJjNyk7CiAgICAgICAgCiAgICAKICAgICAgICAgICAgdmFyIGljb25fZGM0OWE2ZDk0YmMyNGUzODhkMGZkOTY2ZTYwY2ZkODkgPSBMLkF3ZXNvbWVNYXJrZXJzLmljb24oCiAgICAgICAgICAgICAgICB7ImV4dHJhQ2xhc3NlcyI6ICJmYS1yb3RhdGUtMCIsICJpY29uIjogImluZm8tc2lnbiIsICJpY29uQ29sb3IiOiAid2hpdGUiLCAibWFya2VyQ29sb3IiOiAicmVkIiwgInByZWZpeCI6ICJnbHlwaGljb24ifQogICAgICAgICAgICApOwogICAgICAgICAgICBtYXJrZXJfYzdhOWNkZmJiNGE4NDRhMmE4Mzc3OTE3ZGJjNTQ3ZTkuc2V0SWNvbihpY29uX2RjNDlhNmQ5NGJjMjRlMzg4ZDBmZDk2NmU2MGNmZDg5KTsKICAgICAgICAKICAgIAogICAgICAgIHZhciBwb3B1cF82ZDAzMmEwMGYyN2I0YjYyOTYyMjlhOTRkOTJjZTNkNyA9IEwucG9wdXAoeyJtYXhXaWR0aCI6ICIxMDAlIn0pOwoKICAgICAgICAKICAgICAgICAgICAgdmFyIGh0bWxfZDVlODE5YzFjYTBlNGUzYTgzMDY2ZTJiNDAyN2YyNWEgPSAkKGA8ZGl2IGlkPSJodG1sX2Q1ZTgxOWMxY2EwZTRlM2E4MzA2NmUyYjQwMjdmMjVhIiBzdHlsZT0id2lkdGg6IDEwMC4wJTsgaGVpZ2h0OiAxMDAuMCU7Ij5IdWxoYSBOZWdyYTwvZGl2PmApWzBdOwogICAgICAgICAgICBwb3B1cF82ZDAzMmEwMGYyN2I0YjYyOTYyMjlhOTRkOTJjZTNkNy5zZXRDb250ZW50KGh0bWxfZDVlODE5YzFjYTBlNGUzYTgzMDY2ZTJiNDAyN2YyNWEpOwogICAgICAgIAoKICAgICAgICBtYXJrZXJfYzdhOWNkZmJiNGE4NDRhMmE4Mzc3OTE3ZGJjNTQ3ZTkuYmluZFBvcHVwKHBvcHVwXzZkMDMyYTAwZjI3YjRiNjI5NjIyOWE5NGQ5MmNlM2Q3KQogICAgICAgIDsKCiAgICAgICAgCiAgICAKICAgIAogICAgICAgICAgICB2YXIgbWFya2VyXzZiODhlMDQ1MGU0YzRmODBhZDlhZWY4Y2UzZjRlODMyID0gTC5tYXJrZXIoCiAgICAgICAgICAgICAgICBbLTI5LjAyMTk5OTk5OTk5LCAtNTMuMDUzNjk5OTk5OTg5OTk1XSwKICAgICAgICAgICAgICAgIHt9CiAgICAgICAgICAgICkuYWRkVG8obWFwX2IwNmMzMTljZmUzNzQyYmJiMWJlMGIxNjk4NDg2MmM3KTsKICAgICAgICAKICAgIAogICAgICAgICAgICB2YXIgaWNvbl8xZTYyNzIwNWNkN2E0ZDNlOWEyODMyNzE1ZDVkN2UwMyA9IEwuQXdlc29tZU1hcmtlcnMuaWNvbigKICAgICAgICAgICAgICAgIHsiZXh0cmFDbGFzc2VzIjogImZhLXJvdGF0ZS0wIiwgImljb24iOiAiaW5mby1zaWduIiwgImljb25Db2xvciI6ICJ3aGl0ZSIsICJtYXJrZXJDb2xvciI6ICJyZWQiLCAicHJlZml4IjogImdseXBoaWNvbiJ9CiAgICAgICAgICAgICk7CiAgICAgICAgICAgIG1hcmtlcl82Yjg4ZTA0NTBlNGM0ZjgwYWQ5YWVmOGNlM2Y0ZTgzMi5zZXRJY29uKGljb25fMWU2MjcyMDVjZDdhNGQzZTlhMjgzMjcxNWQ1ZDdlMDMpOwogICAgICAgIAogICAgCiAgICAgICAgdmFyIHBvcHVwX2ZmYzFmY2I3ZGI4MDRlMTdiMDI3Mzc1NzgzNzg3M2ExID0gTC5wb3B1cCh7Im1heFdpZHRoIjogIjEwMCUifSk7CgogICAgICAgIAogICAgICAgICAgICB2YXIgaHRtbF83ODhkNDhlZmY5NTk0MGQ5OTk3NmY1YzU1MGJhZThhMyA9ICQoYDxkaXYgaWQ9Imh0bWxfNzg4ZDQ4ZWZmOTU5NDBkOTk5NzZmNWM1NTBiYWU4YTMiIHN0eWxlPSJ3aWR0aDogMTAwLjAlOyBoZWlnaHQ6IDEwMC4wJTsiPkphY3VpemluaG88L2Rpdj5gKVswXTsKICAgICAgICAgICAgcG9wdXBfZmZjMWZjYjdkYjgwNGUxN2IwMjczNzU3ODM3ODczYTEuc2V0Q29udGVudChodG1sXzc4OGQ0OGVmZjk1OTQwZDk5OTc2ZjVjNTUwYmFlOGEzKTsKICAgICAgICAKCiAgICAgICAgbWFya2VyXzZiODhlMDQ1MGU0YzRmODBhZDlhZWY4Y2UzZjRlODMyLmJpbmRQb3B1cChwb3B1cF9mZmMxZmNiN2RiODA0ZTE3YjAyNzM3NTc4Mzc4NzNhMSkKICAgICAgICA7CgogICAgICAgIAogICAgCiAgICAKICAgICAgICAgICAgdmFyIG1hcmtlcl83OTc3YTgyZjgwM2Y0NzQ0YTZhODZkZjZhNTdlOGQzZiA9IEwubWFya2VyKAogICAgICAgICAgICAgICAgWy0zMC44MDcwOTk5OTk5OSwgLTUzLjg5MzA5OTk5OTk4OTk5XSwKICAgICAgICAgICAgICAgIHt9CiAgICAgICAgICAgICkuYWRkVG8obWFwX2IwNmMzMTljZmUzNzQyYmJiMWJlMGIxNjk4NDg2MmM3KTsKICAgICAgICAKICAgIAogICAgICAgICAgICB2YXIgaWNvbl9kOTE1NGNkNDMzYjA0NzkyOWQxMDNjZTIyZmJlNzhlYyA9IEwuQXdlc29tZU1hcmtlcnMuaWNvbigKICAgICAgICAgICAgICAgIHsiZXh0cmFDbGFzc2VzIjogImZhLXJvdGF0ZS0wIiwgImljb24iOiAiaW5mby1zaWduIiwgImljb25Db2xvciI6ICJ3aGl0ZSIsICJtYXJrZXJDb2xvciI6ICJyZWQiLCAicHJlZml4IjogImdseXBoaWNvbiJ9CiAgICAgICAgICAgICk7CiAgICAgICAgICAgIG1hcmtlcl83OTc3YTgyZjgwM2Y0NzQ0YTZhODZkZjZhNTdlOGQzZi5zZXRJY29uKGljb25fZDkxNTRjZDQzM2IwNDc5MjlkMTAzY2UyMmZiZTc4ZWMpOwogICAgICAgIAogICAgCiAgICAgICAgdmFyIHBvcHVwXzU3MTQ3OGEwZjRiMzRmYmM4MjI5OTA3NTE3ZGE3ZTk3ID0gTC5wb3B1cCh7Im1heFdpZHRoIjogIjEwMCUifSk7CgogICAgICAgIAogICAgICAgICAgICB2YXIgaHRtbF9lNjA2Y2Q0M2JkMTU0NjRhODVmNzIzOTlmYTE0ZDM4NyA9ICQoYDxkaXYgaWQ9Imh0bWxfZTYwNmNkNDNiZDE1NDY0YTg1ZjcyMzk5ZmExNGQzODciIHN0eWxlPSJ3aWR0aDogMTAwLjAlOyBoZWlnaHQ6IDEwMC4wJTsiPkxhdnJhcyBkbyBTdWw8L2Rpdj5gKVswXTsKICAgICAgICAgICAgcG9wdXBfNTcxNDc4YTBmNGIzNGZiYzgyMjk5MDc1MTdkYTdlOTcuc2V0Q29udGVudChodG1sX2U2MDZjZDQzYmQxNTQ2NGE4NWY3MjM5OWZhMTRkMzg3KTsKICAgICAgICAKCiAgICAgICAgbWFya2VyXzc5NzdhODJmODAzZjQ3NDRhNmE4NmRmNmE1N2U4ZDNmLmJpbmRQb3B1cChwb3B1cF81NzE0NzhhMGY0YjM0ZmJjODIyOTkwNzUxN2RhN2U5NykKICAgICAgICA7CgogICAgICAgIAogICAgCiAgICAKICAgICAgICAgICAgdmFyIG1hcmtlcl83MTVlYjFhN2FkMmU0OTcxYmRkYTFhZTUyNmFiMzIxYiA9IEwubWFya2VyKAogICAgICAgICAgICAgICAgWy0zMS43MjE2OTk5OTk5OSwgLTUzLjU4Mzc5OTk5OTk5XSwKICAgICAgICAgICAgICAgIHt9CiAgICAgICAgICAgICkuYWRkVG8obWFwX2IwNmMzMTljZmUzNzQyYmJiMWJlMGIxNjk4NDg2MmM3KTsKICAgICAgICAKICAgIAogICAgICAgICAgICB2YXIgaWNvbl9hNjcwZTY4ZjA1MDE0ZmY2OGJhMTVlZmYxMTUxNmQzNyA9IEwuQXdlc29tZU1hcmtlcnMuaWNvbigKICAgICAgICAgICAgICAgIHsiZXh0cmFDbGFzc2VzIjogImZhLXJvdGF0ZS0wIiwgImljb24iOiAiaW5mby1zaWduIiwgImljb25Db2xvciI6ICJ3aGl0ZSIsICJtYXJrZXJDb2xvciI6ICJyZWQiLCAicHJlZml4IjogImdseXBoaWNvbiJ9CiAgICAgICAgICAgICk7CiAgICAgICAgICAgIG1hcmtlcl83MTVlYjFhN2FkMmU0OTcxYmRkYTFhZTUyNmFiMzIxYi5zZXRJY29uKGljb25fYTY3MGU2OGYwNTAxNGZmNjhiYTE1ZWZmMTE1MTZkMzcpOwogICAgICAgIAogICAgCiAgICAgICAgdmFyIHBvcHVwX2Q3MzVjYzllZjkyMDQwNThiM2VkOTNhOTMwYjhiNTU5ID0gTC5wb3B1cCh7Im1heFdpZHRoIjogIjEwMCUifSk7CgogICAgICAgIAogICAgICAgICAgICB2YXIgaHRtbF81ODQwNzEyYzYzYjI0YjMyODcyYTAxOGU4NjI3OTllMSA9ICQoYDxkaXYgaWQ9Imh0bWxfNTg0MDcxMmM2M2IyNGIzMjg3MmEwMThlODYyNzk5ZTEiIHN0eWxlPSJ3aWR0aDogMTAwLjAlOyBoZWlnaHQ6IDEwMC4wJTsiPlBlZHJhcyBBbHRhczwvZGl2PmApWzBdOwogICAgICAgICAgICBwb3B1cF9kNzM1Y2M5ZWY5MjA0MDU4YjNlZDkzYTkzMGI4YjU1OS5zZXRDb250ZW50KGh0bWxfNTg0MDcxMmM2M2IyNGIzMjg3MmEwMThlODYyNzk5ZTEpOwogICAgICAgIAoKICAgICAgICBtYXJrZXJfNzE1ZWIxYTdhZDJlNDk3MWJkZGExYWU1MjZhYjMyMWIuYmluZFBvcHVwKHBvcHVwX2Q3MzVjYzllZjkyMDQwNThiM2VkOTNhOTMwYjhiNTU5KQogICAgICAgIDsKCiAgICAgICAgCiAgICAKICAgIAogICAgICAgICAgICB2YXIgbWFya2VyXzc2NDQwNWQ0OGVkMjQ5NjBhZmQ3ODUxOGNhMjExZjRjID0gTC5tYXJrZXIoCiAgICAgICAgICAgICAgICBbLTMxLjU3OTQsIC01My4zNzk4XSwKICAgICAgICAgICAgICAgIHt9CiAgICAgICAgICAgICkuYWRkVG8obWFwX2IwNmMzMTljZmUzNzQyYmJiMWJlMGIxNjk4NDg2MmM3KTsKICAgICAgICAKICAgIAogICAgICAgICAgICB2YXIgaWNvbl8zMzlhZDViZmU0ZWU0ZjYzYTcwNWUxYWY3ZmQ1MjQwMyA9IEwuQXdlc29tZU1hcmtlcnMuaWNvbigKICAgICAgICAgICAgICAgIHsiZXh0cmFDbGFzc2VzIjogImZhLXJvdGF0ZS0wIiwgImljb24iOiAiaW5mby1zaWduIiwgImljb25Db2xvciI6ICJ3aGl0ZSIsICJtYXJrZXJDb2xvciI6ICJyZWQiLCAicHJlZml4IjogImdseXBoaWNvbiJ9CiAgICAgICAgICAgICk7CiAgICAgICAgICAgIG1hcmtlcl83NjQ0MDVkNDhlZDI0OTYwYWZkNzg1MThjYTIxMWY0Yy5zZXRJY29uKGljb25fMzM5YWQ1YmZlNGVlNGY2M2E3MDVlMWFmN2ZkNTI0MDMpOwogICAgICAgIAogICAgCiAgICAgICAgdmFyIHBvcHVwX2MzMmYzMDU0OTk0YzRmOWM4YmRhZjQ5YTZkNTUxYmE0ID0gTC5wb3B1cCh7Im1heFdpZHRoIjogIjEwMCUifSk7CgogICAgICAgIAogICAgICAgICAgICB2YXIgaHRtbF9iYWIzMjAzZjQ4Mjc0NjNlODk0ZDhiYWFjOWM1OTEyNSA9ICQoYDxkaXYgaWQ9Imh0bWxfYmFiMzIwM2Y0ODI3NDYzZTg5NGQ4YmFhYzljNTkxMjUiIHN0eWxlPSJ3aWR0aDogMTAwLjAlOyBoZWlnaHQ6IDEwMC4wJTsiPlBpbmhlaXJvIE1hY2hhZG88L2Rpdj5gKVswXTsKICAgICAgICAgICAgcG9wdXBfYzMyZjMwNTQ5OTRjNGY5YzhiZGFmNDlhNmQ1NTFiYTQuc2V0Q29udGVudChodG1sX2JhYjMyMDNmNDgyNzQ2M2U4OTRkOGJhYWM5YzU5MTI1KTsKICAgICAgICAKCiAgICAgICAgbWFya2VyXzc2NDQwNWQ0OGVkMjQ5NjBhZmQ3ODUxOGNhMjExZjRjLmJpbmRQb3B1cChwb3B1cF9jMzJmMzA1NDk5NGM0ZjljOGJkYWY0OWE2ZDU1MWJhNCkKICAgICAgICA7CgogICAgICAgIAogICAgCiAgICAKICAgICAgICAgICAgdmFyIG1hcmtlcl8yZjdlMDRmYzFiNDc0M2M3YTI3YjYzNjZiMmFkNDYzNSA9IEwubWFya2VyKAogICAgICAgICAgICAgICAgWy0yNy44MTYyOTk5OTk5OSwgLTUyLjQ0MTg5OTk5OTk4OTk5XSwKICAgICAgICAgICAgICAgIHt9CiAgICAgICAgICAgICkuYWRkVG8obWFwX2IwNmMzMTljZmUzNzQyYmJiMWJlMGIxNjk4NDg2MmM3KTsKICAgICAgICAKICAgIAogICAgICAgICAgICB2YXIgaWNvbl8wMTk4Y2QxY2M2MzU0YmU0OWJhZmE0NzdiYjY5ZTBlNSA9IEwuQXdlc29tZU1hcmtlcnMuaWNvbigKICAgICAgICAgICAgICAgIHsiZXh0cmFDbGFzc2VzIjogImZhLXJvdGF0ZS0wIiwgImljb24iOiAiaW5mby1zaWduIiwgImljb25Db2xvciI6ICJ3aGl0ZSIsICJtYXJrZXJDb2xvciI6ICJyZWQiLCAicHJlZml4IjogImdseXBoaWNvbiJ9CiAgICAgICAgICAgICk7CiAgICAgICAgICAgIG1hcmtlcl8yZjdlMDRmYzFiNDc0M2M3YTI3YjYzNjZiMmFkNDYzNS5zZXRJY29uKGljb25fMDE5OGNkMWNjNjM1NGJlNDliYWZhNDc3YmI2OWUwZTUpOwogICAgICAgIAogICAgCiAgICAgICAgdmFyIHBvcHVwX2YxMGVkNjNiMjhhNjQyOWRhNjZlNDk2ZjQ5NmQzODFmID0gTC5wb3B1cCh7Im1heFdpZHRoIjogIjEwMCUifSk7CgogICAgICAgIAogICAgICAgICAgICB2YXIgaHRtbF8xYzYyOWJiOTFmNmM0M2I2YjAwZmFjZWI2ZjEyMTE0OCA9ICQoYDxkaXYgaWQ9Imh0bWxfMWM2MjliYjkxZjZjNDNiNmIwMGZhY2ViNmYxMjExNDgiIHN0eWxlPSJ3aWR0aDogMTAwLjAlOyBoZWlnaHQ6IDEwMC4wJTsiPlF1YXRybyBJcm3Do29zPC9kaXY+YClbMF07CiAgICAgICAgICAgIHBvcHVwX2YxMGVkNjNiMjhhNjQyOWRhNjZlNDk2ZjQ5NmQzODFmLnNldENvbnRlbnQoaHRtbF8xYzYyOWJiOTFmNmM0M2I2YjAwZmFjZWI2ZjEyMTE0OCk7CiAgICAgICAgCgogICAgICAgIG1hcmtlcl8yZjdlMDRmYzFiNDc0M2M3YTI3YjYzNjZiMmFkNDYzNS5iaW5kUG9wdXAocG9wdXBfZjEwZWQ2M2IyOGE2NDI5ZGE2NmU0OTZmNDk2ZDM4MWYpCiAgICAgICAgOwoKICAgICAgICAKICAgIAogICAgCiAgICAgICAgICAgIHZhciBtYXJrZXJfZGY0NmZkNTAwMGE4NGQxYjgwMTI0OGY0ZjY1Njc4NGUgPSBMLm1hcmtlcigKICAgICAgICAgICAgICAgIFstMzMuNTI0OTk5OTk5OTksIC01My4zNzE2OTk5OTk5ODk5OV0sCiAgICAgICAgICAgICAgICB7fQogICAgICAgICAgICApLmFkZFRvKG1hcF9iMDZjMzE5Y2ZlMzc0MmJiYjFiZTBiMTY5ODQ4NjJjNyk7CiAgICAgICAgCiAgICAKICAgICAgICAgICAgdmFyIGljb25fZDEwMGEyZDM1MTAwNDg4Mjg2ZmY1NjllNGNhMGM4ZmMgPSBMLkF3ZXNvbWVNYXJrZXJzLmljb24oCiAgICAgICAgICAgICAgICB7ImV4dHJhQ2xhc3NlcyI6ICJmYS1yb3RhdGUtMCIsICJpY29uIjogImluZm8tc2lnbiIsICJpY29uQ29sb3IiOiAid2hpdGUiLCAibWFya2VyQ29sb3IiOiAicmVkIiwgInByZWZpeCI6ICJnbHlwaGljb24ifQogICAgICAgICAgICApOwogICAgICAgICAgICBtYXJrZXJfZGY0NmZkNTAwMGE4NGQxYjgwMTI0OGY0ZjY1Njc4NGUuc2V0SWNvbihpY29uX2QxMDBhMmQzNTEwMDQ4ODI4NmZmNTY5ZTRjYTBjOGZjKTsKICAgICAgICAKICAgIAogICAgICAgIHZhciBwb3B1cF9lYmI5Mjg2MmZhZjY0ODc0YmI0NmZkM2I0MGFkNzU3MCA9IEwucG9wdXAoeyJtYXhXaWR0aCI6ICIxMDAlIn0pOwoKICAgICAgICAKICAgICAgICAgICAgdmFyIGh0bWxfZDdlZGI2MjdmOGE5NGI5MTgzOGE5N2JmNDNhMzE3M2MgPSAkKGA8ZGl2IGlkPSJodG1sX2Q3ZWRiNjI3ZjhhOTRiOTE4MzhhOTdiZjQzYTMxNzNjIiBzdHlsZT0id2lkdGg6IDEwMC4wJTsgaGVpZ2h0OiAxMDAuMCU7Ij5TYW50YSBWaXTDs3JpYSBkbyBQYWxtYXI8L2Rpdj5gKVswXTsKICAgICAgICAgICAgcG9wdXBfZWJiOTI4NjJmYWY2NDg3NGJiNDZmZDNiNDBhZDc1NzAuc2V0Q29udGVudChodG1sX2Q3ZWRiNjI3ZjhhOTRiOTE4MzhhOTdiZjQzYTMxNzNjKTsKICAgICAgICAKCiAgICAgICAgbWFya2VyX2RmNDZmZDUwMDBhODRkMWI4MDEyNDhmNGY2NTY3ODRlLmJpbmRQb3B1cChwb3B1cF9lYmI5Mjg2MmZhZjY0ODc0YmI0NmZkM2I0MGFkNzU3MCkKICAgICAgICA7CgogICAgICAgIAogICAgCiAgICAKICAgICAgICAgICAgdmFyIG1hcmtlcl9mM2Q2M2RkY2JhNGQ0NzUwOGE5N2JiYjMzMDk1YjRiNyA9IEwubWFya2VyKAogICAgICAgICAgICAgICAgWy0zMi4wMTUwOTk5OTk5OSwgLTUyLjAzMzA5OTk5OTk4OTk5XSwKICAgICAgICAgICAgICAgIHt9CiAgICAgICAgICAgICkuYWRkVG8obWFwX2IwNmMzMTljZmUzNzQyYmJiMWJlMGIxNjk4NDg2MmM3KTsKICAgICAgICAKICAgIAogICAgICAgICAgICB2YXIgaWNvbl9kM2I5MDdhYjMyZDU0ZGRlOGYyMWUyYzQwNWNkOGU3MyA9IEwuQXdlc29tZU1hcmtlcnMuaWNvbigKICAgICAgICAgICAgICAgIHsiZXh0cmFDbGFzc2VzIjogImZhLXJvdGF0ZS0wIiwgImljb24iOiAiaW5mby1zaWduIiwgImljb25Db2xvciI6ICJ3aGl0ZSIsICJtYXJrZXJDb2xvciI6ICJyZWQiLCAicHJlZml4IjogImdseXBoaWNvbiJ9CiAgICAgICAgICAgICk7CiAgICAgICAgICAgIG1hcmtlcl9mM2Q2M2RkY2JhNGQ0NzUwOGE5N2JiYjMzMDk1YjRiNy5zZXRJY29uKGljb25fZDNiOTA3YWIzMmQ1NGRkZThmMjFlMmM0MDVjZDhlNzMpOwogICAgICAgIAogICAgCiAgICAgICAgdmFyIHBvcHVwXzhlYTg5YzEyMDM3YzRkMWI4OTZiYmQ2ZWMzNTNkNmUxID0gTC5wb3B1cCh7Im1heFdpZHRoIjogIjEwMCUifSk7CgogICAgICAgIAogICAgICAgICAgICB2YXIgaHRtbF85YWU0YTY3ZmIyMjE0MjNkOWM0NmNkZTg2NjQxMTQ5NiA9ICQoYDxkaXYgaWQ9Imh0bWxfOWFlNGE2N2ZiMjIxNDIzZDljNDZjZGU4NjY0MTE0OTYiIHN0eWxlPSJ3aWR0aDogMTAwLjAlOyBoZWlnaHQ6IDEwMC4wJTsiPlPDo28gSm9zw6kgZG8gTm9ydGU8L2Rpdj5gKVswXTsKICAgICAgICAgICAgcG9wdXBfOGVhODljMTIwMzdjNGQxYjg5NmJiZDZlYzM1M2Q2ZTEuc2V0Q29udGVudChodG1sXzlhZTRhNjdmYjIyMTQyM2Q5YzQ2Y2RlODY2NDExNDk2KTsKICAgICAgICAKCiAgICAgICAgbWFya2VyX2YzZDYzZGRjYmE0ZDQ3NTA4YTk3YmJiMzMwOTViNGI3LmJpbmRQb3B1cChwb3B1cF84ZWE4OWMxMjAzN2M0ZDFiODk2YmJkNmVjMzUzZDZlMSkKICAgICAgICA7CgogICAgICAgIAogICAgCiAgICAKICAgICAgICAgICAgdmFyIG1hcmtlcl85ZGNmY2I0ZTZkZDQ0NGI3YWZjNjFmYWJlZTRkMjM4NiA9IEwubWFya2VyKAogICAgICAgICAgICAgICAgWy0yNy43NzMyMTk5OTk5OSwgLTUzLjI1MDQ3XSwKICAgICAgICAgICAgICAgIHt9CiAgICAgICAgICAgICkuYWRkVG8obWFwX2IwNmMzMTljZmUzNzQyYmJiMWJlMGIxNjk4NDg2MmM3KTsKICAgICAgICAKICAgIAogICAgICAgICAgICB2YXIgaWNvbl8yNjA2ZDdkOGYwYWU0MTQ3YjBiYTdiOWU3Y2I5MDQ5NyA9IEwuQXdlc29tZU1hcmtlcnMuaWNvbigKICAgICAgICAgICAgICAgIHsiZXh0cmFDbGFzc2VzIjogImZhLXJvdGF0ZS0wIiwgImljb24iOiAiaW5mby1zaWduIiwgImljb25Db2xvciI6ICJ3aGl0ZSIsICJtYXJrZXJDb2xvciI6ICJyZWQiLCAicHJlZml4IjogImdseXBoaWNvbiJ9CiAgICAgICAgICAgICk7CiAgICAgICAgICAgIG1hcmtlcl85ZGNmY2I0ZTZkZDQ0NGI3YWZjNjFmYWJlZTRkMjM4Ni5zZXRJY29uKGljb25fMjYwNmQ3ZDhmMGFlNDE0N2IwYmE3YjllN2NiOTA0OTcpOwogICAgICAgIAogICAgCiAgICAgICAgdmFyIHBvcHVwX2FmOGQ3MjI2MzBmNTQ4MGFiYmRmMGQyYzA5NjBhNDdhID0gTC5wb3B1cCh7Im1heFdpZHRoIjogIjEwMCUifSk7CgogICAgICAgIAogICAgICAgICAgICB2YXIgaHRtbF9iY2FjOTM2OTBmMDI0YjBhOWU0NzMxZmJiZDhlYmIxYiA9ICQoYDxkaXYgaWQ9Imh0bWxfYmNhYzkzNjkwZjAyNGIwYTllNDczMWZiYmQ4ZWJiMWIiIHN0eWxlPSJ3aWR0aDogMTAwLjAlOyBoZWlnaHQ6IDEwMC4wJTsiPlPDo28gUGVkcm8gZGFzIE1pc3PDtWVzPC9kaXY+YClbMF07CiAgICAgICAgICAgIHBvcHVwX2FmOGQ3MjI2MzBmNTQ4MGFiYmRmMGQyYzA5NjBhNDdhLnNldENvbnRlbnQoaHRtbF9iY2FjOTM2OTBmMDI0YjBhOWU0NzMxZmJiZDhlYmIxYik7CiAgICAgICAgCgogICAgICAgIG1hcmtlcl85ZGNmY2I0ZTZkZDQ0NGI3YWZjNjFmYWJlZTRkMjM4Ni5iaW5kUG9wdXAocG9wdXBfYWY4ZDcyMjYzMGY1NDgwYWJiZGYwZDJjMDk2MGE0N2EpCiAgICAgICAgOwoKICAgICAgICAKICAgIAogICAgCiAgICAgICAgICAgIHZhciBtYXJrZXJfZDA5NzdjZjIyMTJmNDg0Y2FmOTVjMWQ2YmQyNTRlZGUgPSBMLm1hcmtlcigKICAgICAgICAgICAgICAgIFstMjcuNzkwNiwgLTUzLjkzNjc5OTk5OTk4OTk5NF0sCiAgICAgICAgICAgICAgICB7fQogICAgICAgICAgICApLmFkZFRvKG1hcF9iMDZjMzE5Y2ZlMzc0MmJiYjFiZTBiMTY5ODQ4NjJjNyk7CiAgICAgICAgCiAgICAKICAgICAgICAgICAgdmFyIGljb25fODc0MTNjMzc4MzZiNGZiYjg1OTcwNmRiNjRkMjljNjcgPSBMLkF3ZXNvbWVNYXJrZXJzLmljb24oCiAgICAgICAgICAgICAgICB7ImV4dHJhQ2xhc3NlcyI6ICJmYS1yb3RhdGUtMCIsICJpY29uIjogImluZm8tc2lnbiIsICJpY29uQ29sb3IiOiAid2hpdGUiLCAibWFya2VyQ29sb3IiOiAicmVkIiwgInByZWZpeCI6ICJnbHlwaGljb24ifQogICAgICAgICAgICApOwogICAgICAgICAgICBtYXJrZXJfZDA5NzdjZjIyMTJmNDg0Y2FmOTVjMWQ2YmQyNTRlZGUuc2V0SWNvbihpY29uXzg3NDEzYzM3ODM2YjRmYmI4NTk3MDZkYjY0ZDI5YzY3KTsKICAgICAgICAKICAgIAogICAgICAgIHZhciBwb3B1cF9hYTczMmU5MmVlOWU0ODEyODJjNmJjZTE3MDhlZWQ0MCA9IEwucG9wdXAoeyJtYXhXaWR0aCI6ICIxMDAlIn0pOwoKICAgICAgICAKICAgICAgICAgICAgdmFyIGh0bWxfNTllOTVhY2U2YmQ0NDAyOTg5N2ExNDlhYjU4ZTI4MjggPSAkKGA8ZGl2IGlkPSJodG1sXzU5ZTk1YWNlNmJkNDQwMjk4OTdhMTQ5YWI1OGUyODI4IiBzdHlsZT0id2lkdGg6IDEwMC4wJTsgaGVpZ2h0OiAxMDAuMCU7Ij5Tw6NvIFZhbMOpcmlvIGRvIFN1bDwvZGl2PmApWzBdOwogICAgICAgICAgICBwb3B1cF9hYTczMmU5MmVlOWU0ODEyODJjNmJjZTE3MDhlZWQ0MC5zZXRDb250ZW50KGh0bWxfNTllOTVhY2U2YmQ0NDAyOTg5N2ExNDlhYjU4ZTI4MjgpOwogICAgICAgIAoKICAgICAgICBtYXJrZXJfZDA5NzdjZjIyMTJmNDg0Y2FmOTVjMWQ2YmQyNTRlZGUuYmluZFBvcHVwKHBvcHVwX2FhNzMyZTkyZWU5ZTQ4MTI4MmM2YmNlMTcwOGVlZDQwKQogICAgICAgIDsKCiAgICAgICAgCiAgICAKPC9zY3JpcHQ+\" style=\"position:absolute;width:100%;height:100%;left:0;top:0;border:none !important;\" allowfullscreen webkitallowfullscreen mozallowfullscreen></iframe></div></div>"
      ],
      "text/plain": [
       "<folium.folium.Map at 0x7f92d65eaf28>"
      ]
     },
     "execution_count": 27,
     "metadata": {},
     "output_type": "execute_result"
    }
   ],
   "source": [
    "# Percorrer o DataFrame com base nas piores escolas (tx_distorcao >= 45)\n",
    "# e desenhar um marcador para cada escola\n",
    "# usando for e iterrows\n",
    "\n",
    "for indice, municipio in df[df['tx_distorcao'] >= 45].iterrows():\n",
    "    folium.Marker(\n",
    "        location=[municipio['latitude'], municipio['longitude']],\n",
    "        popup=municipio['Município'],\n",
    "        icon=folium.map.Icon(color='red')\n",
    "    ).add_to(rs)\n",
    "\n",
    "rs"
   ]
  },
  {
   "cell_type": "code",
   "execution_count": 28,
   "metadata": {},
   "outputs": [
    {
     "data": {
      "text/plain": [
       "325    32.3\n",
       "Name: tx_distorcao, dtype: float64"
      ]
     },
     "execution_count": 28,
     "metadata": {},
     "output_type": "execute_result"
    }
   ],
   "source": [
    "# Qual a tx de distorção de PA\n",
    "df[df['Município'] == 'Porto Alegre']['tx_distorcao']"
   ]
  }
 ],
 "metadata": {
  "kernelspec": {
   "display_name": "Python 3",
   "language": "python",
   "name": "python3"
  },
  "language_info": {
   "codemirror_mode": {
    "name": "ipython",
    "version": 3
   },
   "file_extension": ".py",
   "mimetype": "text/x-python",
   "name": "python",
   "nbconvert_exporter": "python",
   "pygments_lexer": "ipython3",
   "version": "3.7.3"
  }
 },
 "nbformat": 4,
 "nbformat_minor": 2
}
